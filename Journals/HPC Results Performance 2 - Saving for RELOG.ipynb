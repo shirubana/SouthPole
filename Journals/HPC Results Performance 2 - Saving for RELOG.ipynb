{
 "cells": [
  {
   "cell_type": "code",
   "execution_count": 1,
   "id": "a1190310",
   "metadata": {},
   "outputs": [],
   "source": [
    "import pandas as pd\n",
    "import numpy as np"
   ]
  },
  {
   "cell_type": "code",
   "execution_count": 2,
   "id": "187556d1",
   "metadata": {},
   "outputs": [],
   "source": [
    "EWfile = r'TEMP\\EWG_center.csv'\n",
    "NSfile = r'TEMP\\NSG_center.csv'"
   ]
  },
  {
   "cell_type": "code",
   "execution_count": 3,
   "id": "cad15df8",
   "metadata": {},
   "outputs": [],
   "source": [
    "EWdf = pd.read_csv(EWfile)\n",
    "NSdf = pd.read_csv(NSfile)\n",
    "\n"
   ]
  },
  {
   "cell_type": "code",
   "execution_count": 4,
   "id": "e8a5855b",
   "metadata": {},
   "outputs": [],
   "source": [
    "EWdf['datetime'] = pd.to_datetime(EWdf['datetime'])\n",
    "NSdf['datetime'] = pd.to_datetime(NSdf['datetime'])\n",
    "EWdf.set_index('datetime', inplace=True)\n",
    "NSdf.set_index('datetime', inplace=True)"
   ]
  },
  {
   "cell_type": "code",
   "execution_count": 5,
   "id": "33216927",
   "metadata": {},
   "outputs": [],
   "source": [
    "EWdf.drop(columns=['DNI', 'DHI', 'GHI', 'temp_air', 'wind_speed', \n",
    "                   'Unnamed: 0', 'Orientation', 'Timestamp', 'solpos_zenith', \n",
    "                   'Row', 'Module',\n",
    "                  'solpos_azimuth'], inplace=True)\n",
    "\n",
    "NSdf.drop(columns=['DNI', 'DHI', 'GHI', 'temp_air', 'wind_speed', \n",
    "                   'Unnamed: 0', 'Orientation', 'Timestamp',\n",
    "                   'Row', 'Module',\n",
    "                  ], inplace=True)\n"
   ]
  },
  {
   "cell_type": "code",
   "execution_count": 9,
   "id": "681c7fb0",
   "metadata": {},
   "outputs": [],
   "source": [
    "weatherfile = r'C:\\Users\\sayala\\Documents\\GitHub\\Studies\\SouthPole\\Journals\\TEMP\\SouthPole_2021_WeatherFile.csv'"
   ]
  },
  {
   "cell_type": "code",
   "execution_count": 10,
   "id": "b605c682",
   "metadata": {},
   "outputs": [],
   "source": [
    "df = pd.read_csv(weatherfile, skiprows=2)"
   ]
  },
  {
   "cell_type": "code",
   "execution_count": 11,
   "id": "3741ab76",
   "metadata": {},
   "outputs": [],
   "source": [
    "df['datetime'] = pd.to_datetime(df[['Year','Month','Day', 'Hour']], format=\"%Y-%m-%d_%H%M\").dt.tz_localize(tz='Etc/GMT+3')\n",
    "df.set_index('datetime', inplace=True)"
   ]
  },
  {
   "cell_type": "code",
   "execution_count": 12,
   "id": "03ae28ad",
   "metadata": {},
   "outputs": [],
   "source": [
    "#EWdf.rename(columns={\"temp_air\": \"Tdry\", \"wind_speed\": \"Wspd\"}, inplace=True)\n",
    "#NSdf.rename(columns={\"temp_air\": \"Tdry\", \"wind_speed\": \"Wspd\"}, inplace=True)"
   ]
  },
  {
   "cell_type": "code",
   "execution_count": 13,
   "id": "a85dbf6c",
   "metadata": {},
   "outputs": [],
   "source": [
    "result = pd.concat([df, EWdf], axis=1)\n",
    "result = pd.concat([result, NSdf], axis=1)"
   ]
  },
  {
   "cell_type": "code",
   "execution_count": 14,
   "id": "b593edc0",
   "metadata": {},
   "outputs": [],
   "source": [
    "result = result.tz_convert(tz='Etc/GMT+3')"
   ]
  },
  {
   "cell_type": "code",
   "execution_count": 15,
   "id": "2489c05d",
   "metadata": {},
   "outputs": [],
   "source": [
    "\n",
    "#result['Row'] = 4\n",
    "#result['Module'] = 10\n",
    "#result.drop(columns=['Unnamed: 0'], inplace=True)\n",
    "#result.drop(columns=['Orientation'], inplace=True)\n",
    "#result.drop(columns=['Timestamp'], inplace=True)"
   ]
  },
  {
   "cell_type": "code",
   "execution_count": 16,
   "id": "584ce189",
   "metadata": {},
   "outputs": [],
   "source": [
    "result.to_csv(r'TEMP\\HPC_SAMFormat.csv')"
   ]
  },
  {
   "cell_type": "code",
   "execution_count": null,
   "id": "040f396f",
   "metadata": {},
   "outputs": [],
   "source": []
  }
 ],
 "metadata": {
  "kernelspec": {
   "display_name": "Python 3 (ipykernel)",
   "language": "python",
   "name": "python3"
  },
  "language_info": {
   "codemirror_mode": {
    "name": "ipython",
    "version": 3
   },
   "file_extension": ".py",
   "mimetype": "text/x-python",
   "name": "python",
   "nbconvert_exporter": "python",
   "pygments_lexer": "ipython3",
   "version": "3.8.8"
  }
 },
 "nbformat": 4,
 "nbformat_minor": 5
}

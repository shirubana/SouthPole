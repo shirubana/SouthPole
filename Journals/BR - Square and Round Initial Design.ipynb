{
 "cells": [
  {
   "cell_type": "code",
   "execution_count": 1,
   "id": "ea7d39f1",
   "metadata": {},
   "outputs": [
    {
     "data": {
      "text/plain": [
       "'0.4.1+122.g4ea440c.dirty'"
      ]
     },
     "execution_count": 1,
     "metadata": {},
     "output_type": "execute_result"
    }
   ],
   "source": [
    "import os\n",
    "import numpy as np\n",
    "import pandas as pd\n",
    "from pathlib import Path\n",
    "import bifacial_radiance\n",
    "bifacial_radiance.__version__"
   ]
  },
  {
   "cell_type": "code",
   "execution_count": 2,
   "id": "ebd97979",
   "metadata": {},
   "outputs": [],
   "source": [
    "testfolder = testfolder = str(Path().resolve().parent.parent / 'bifacial_radiance' / 'SouthPole')\n",
    "if not os.path.exists(testfolder):\n",
    "    os.makedirs(testfolder)\n"
   ]
  },
  {
   "cell_type": "code",
   "execution_count": 3,
   "id": "717fb7a7",
   "metadata": {},
   "outputs": [],
   "source": [
    "TMY3Weatherfile = r'C:\\Users\\sayala\\Desktop\\SOUTHPOLE\\SoutPole_TMY3.csv'"
   ]
  },
  {
   "cell_type": "markdown",
   "id": "2d39d699",
   "metadata": {},
   "source": [
    "# Round Setup"
   ]
  },
  {
   "cell_type": "code",
   "execution_count": 4,
   "id": "d6ca5437",
   "metadata": {},
   "outputs": [
    {
     "name": "stdout",
     "output_type": "stream",
     "text": [
      "path = C:\\Users\\sayala\\Documents\\GitHub\\Studies\\bifacial_radiance\\SouthPole\n",
      "Making path: images\n",
      "Making path: objects\n",
      "Making path: results\n",
      "Making path: skies\n",
      "Making path: EPWs\n",
      "Making path: materials\n",
      "Loading albedo, 1 value(s), 0.620 avg\n",
      "1 nonzero albedo values.\n",
      "Warning: CSV file passed for input. Assuming it is TMY3style format\n",
      "8760 line in WeatherFile. Assuming this is a standard hourly WeatherFile for the year for purposes of saving Gencumulativesky temporary weather files in EPW folder.\n",
      "Coercing year to 2021\n",
      "Saving file EPWs\\metdata_temp.csv, # points: 8760\n",
      "Calculating Sun position for Metdata that is right-labeled  with a delta of -30 mins. i.e. 12 is 11:30 sunpos\n",
      "\n",
      "Module Name: module\n",
      "Module module updated in module.json\n"
     ]
    },
    {
     "name": "stderr",
     "output_type": "stream",
     "text": [
      "C:\\Users\\sayala\\Documents\\GitHub\\pvlib-python\\pvlib\\spa.py:1200: RuntimeWarning: invalid value encountered in remainder\n",
      "  H0 = np.degrees(np.arccos(cos_arg)) % 180\n",
      "C:\\Users\\sayala\\Documents\\GitHub\\pvlib-python\\pvlib\\spa.py:1211: RuntimeWarning: invalid value encountered in remainder\n",
      "  m[1] = m[1] % 1\n",
      "C:\\Users\\sayala\\Documents\\GitHub\\pvlib-python\\pvlib\\spa.py:1212: RuntimeWarning: invalid value encountered in remainder\n",
      "  m[2] = m[2] % 1\n",
      "C:\\Users\\sayala\\Documents\\GitHub\\pvlib-python\\pvlib\\spa.py:1229: RuntimeWarning: invalid value encountered in remainder\n",
      "  Hp = (vs + lon - alpha_prime) % 360\n"
     ]
    }
   ],
   "source": [
    "demo = bifacial_radiance.RadianceObj(\"SouthPole\", path = testfolder)  # Create a RadianceObj 'object'\n",
    "demo.setGround(0.62)\n",
    "metdata = demo.readWeatherFile(TMY3Weatherfile, coerce_year=2021) \n",
    "timestamp = metdata.datetime.index(pd.to_datetime('2021-12-24 13:0:0 -0'))\n",
    "demo.gendaylit(timestamp) \n",
    "\n",
    "# For sanity check, we are creating the same module but with different names for each orientation.\n",
    "numpanels=1 \n",
    "ygap = 0.01 # m Spacing between modules on each shed.\n",
    "y=2   # m. module size, one side\n",
    "x=1   # m. module size, other side. for landscape, x > y\n",
    "mymodule = demo.makeModule(name='module',y=y,x=x, numpanels=numpanels, ygap=ygap)"
   ]
  },
  {
   "cell_type": "code",
   "execution_count": 5,
   "id": "5de8118d",
   "metadata": {},
   "outputs": [],
   "source": [
    "Rays = 15\n",
    "pitch = 5\n",
    "innerR = 5\n",
    "nMods = 1\n",
    "nRows = 10\n",
    "clearance_height = 0.5\n",
    "\n",
    "sceneObjDict = {}\n",
    "for rr in range(0, Rays):\n",
    "    ray_azm = 0 + 360*rr/Rays\n",
    "    centerpitch = innerR + pitch*(nRows-1)/2         # This might be off by half a pitch, check for even and odd nMods  \n",
    "    azm = ray_azm - 90  # Radiance and Pvlib use N = 0, so converting\n",
    "    centerpitch_x = centerpitch*np.cos(np.radians(azm))\n",
    "    centerpitch_y = centerpitch*np.sin(np.radians(azm))*-1\n",
    "    sceneDict = {'tilt':90,'pitch':pitch,'clearance_height':clearance_height,'azimuth':ray_azm, 'nMods': 1, 'nRows': nRows, \n",
    "             'appendRadfile':True, 'originx': centerpitch_x, 'originy': centerpitch_y} \n",
    "    sceneObjDict['sceneObj'+str(rr)] = demo.makeScene(mymodule, sceneDict)  "
   ]
  },
  {
   "cell_type": "code",
   "execution_count": 6,
   "id": "0a7bc62e",
   "metadata": {},
   "outputs": [
    {
     "name": "stdout",
     "output_type": "stream",
     "text": [
      "Created SouthPole.oct\n"
     ]
    }
   ],
   "source": [
    "octfile = demo.makeOct(demo.getfilelist()) "
   ]
  },
  {
   "cell_type": "code",
   "execution_count": 7,
   "id": "204de0c2",
   "metadata": {},
   "outputs": [],
   "source": [
    "!rvu -vf views\\front.vp -e .01 -pe 0.3 -vp 0 -27.5 40 -vd 0 0.7071 -0.7071 SouthPole.oct"
   ]
  },
  {
   "cell_type": "markdown",
   "id": "30520694",
   "metadata": {},
   "source": [
    "# Square setup"
   ]
  },
  {
   "cell_type": "code",
   "execution_count": 8,
   "id": "a3648948",
   "metadata": {},
   "outputs": [
    {
     "name": "stdout",
     "output_type": "stream",
     "text": [
      "path = C:\\Users\\sayala\\Documents\\GitHub\\Studies\\bifacial_radiance\\SouthPole\n",
      "Loading albedo, 1 value(s), 0.700 avg\n",
      "1 nonzero albedo values.\n",
      "Warning: CSV file passed for input. Assuming it is TMY3style format\n",
      "8760 line in WeatherFile. Assuming this is a standard hourly WeatherFile for the year for purposes of saving Gencumulativesky temporary weather files in EPW folder.\n",
      "Coercing year to 2021\n",
      "Saving file EPWs\\metdata_temp.csv, # points: 8760\n",
      "Calculating Sun position for Metdata that is right-labeled  with a delta of -30 mins. i.e. 12 is 11:30 sunpos\n",
      "\n",
      "Module Name: module\n",
      "Module module updated in module.json\n",
      "Pre-existing .rad file objects\\module.rad will be overwritten\n",
      "\n"
     ]
    },
    {
     "name": "stderr",
     "output_type": "stream",
     "text": [
      "C:\\Users\\sayala\\Documents\\GitHub\\pvlib-python\\pvlib\\spa.py:1200: RuntimeWarning: invalid value encountered in remainder\n",
      "  H0 = np.degrees(np.arccos(cos_arg)) % 180\n",
      "C:\\Users\\sayala\\Documents\\GitHub\\pvlib-python\\pvlib\\spa.py:1211: RuntimeWarning: invalid value encountered in remainder\n",
      "  m[1] = m[1] % 1\n",
      "C:\\Users\\sayala\\Documents\\GitHub\\pvlib-python\\pvlib\\spa.py:1212: RuntimeWarning: invalid value encountered in remainder\n",
      "  m[2] = m[2] % 1\n",
      "C:\\Users\\sayala\\Documents\\GitHub\\pvlib-python\\pvlib\\spa.py:1229: RuntimeWarning: invalid value encountered in remainder\n",
      "  Hp = (vs + lon - alpha_prime) % 360\n"
     ]
    }
   ],
   "source": [
    "demo = bifacial_radiance.RadianceObj(\"SouthPole\", path = testfolder)  # Create a RadianceObj 'object'\n",
    "demo.setGround(0.7)\n",
    "metdata = demo.readWeatherFile(r'C:\\Users\\sayala\\Desktop\\SOUTHPOLE\\SoutPole_TMY3.csv', coerce_year=2021) \n",
    "timestamp = metdata.datetime.index(pd.to_datetime('2021-12-24 13:0:0 -0'))\n",
    "demo.gendaylit(timestamp) \n",
    "\n",
    "# For sanity check, we are creating the same module but with different names for each orientation.\n",
    "numpanels=1 \n",
    "ygap = 0.01 # m Spacing between modules on each shed.\n",
    "y=2   # m. module size, one side\n",
    "x=1   # m. module size, other side. for landscape, x > y\n",
    "xgap = 2\n",
    "mymodule = demo.makeModule(name='module',y=y,x=x, numpanels=numpanels, xgap=xgap, ygap=ygap)"
   ]
  },
  {
   "cell_type": "code",
   "execution_count": 9,
   "id": "bbb4598e",
   "metadata": {},
   "outputs": [
    {
     "name": "stdout",
     "output_type": "stream",
     "text": [
      "System Size  912.0 kW\n",
      "Mega Array Side:  240 m\n"
     ]
    }
   ],
   "source": [
    "nPanels = 2400\n",
    "print(\"System Size \", nPanels*.380, \"kW\")\n",
    "nMods = 20 # 7         20\n",
    "nRows = 30 # 11        30\n",
    "pitch = 4\n",
    "xgap = 3\n",
    "z = 0\n",
    "x = 1\n",
    "CO = 47          # Center Offset space\n",
    "goal = 240                   \n",
    "innerR = xgap+pitch\n",
    "\n",
    "print(\"Mega Array Side: \", nMods*z + (nRows-1)*pitch + nMods*x + (nMods-1) * xgap+ CO,  \"m\")"
   ]
  },
  {
   "cell_type": "code",
   "execution_count": 10,
   "id": "e92a3f08",
   "metadata": {},
   "outputs": [],
   "source": [
    "Rays = 4\n",
    "clearance_height = 0.5\n",
    "\n",
    "sceneObjDict = {}\n",
    "for rr in range(0, Rays):\n",
    "    ray_azm = 45 + 360*rr/Rays\n",
    "    sazm = ray_azm - 45\n",
    "    centerpitch = innerR + pitch*(nRows-1)/2         # This might be off by half a pitch, check for even and odd nMods  \n",
    "    azm = ray_azm - 90  # Radiance and Pvlib use N = 0, so converting\n",
    "    centerpitch_x = centerpitch*np.cos(np.radians(azm))\n",
    "    centerpitch_y = centerpitch*np.sin(np.radians(azm))*-1\n",
    "    sceneDict = {'tilt':90,'pitch':pitch,'clearance_height':clearance_height,'azimuth':sazm, 'nMods': nMods, 'nRows': nRows, \n",
    "             'appendRadfile':True, 'originx': centerpitch_x, 'originy': centerpitch_y} \n",
    "    sceneObjDict['sceneObj'+str(rr)] = demo.makeScene(mymodule, sceneDict)  "
   ]
  },
  {
   "cell_type": "code",
   "execution_count": 11,
   "id": "c549b0a9",
   "metadata": {},
   "outputs": [
    {
     "name": "stdout",
     "output_type": "stream",
     "text": [
      "Created SouthPole.oct\n"
     ]
    }
   ],
   "source": [
    "octfile = demo.makeOct(demo.getfilelist()) "
   ]
  },
  {
   "cell_type": "code",
   "execution_count": 12,
   "id": "bc0bf2df",
   "metadata": {},
   "outputs": [],
   "source": [
    "!rvu -vf views\\front.vp -e .01 -pe 0.3 -vp 5 -50 50 -vd 0 0.7071 -0.7071 SouthPole.oct"
   ]
  },
  {
   "cell_type": "code",
   "execution_count": 13,
   "id": "fbf0a698",
   "metadata": {},
   "outputs": [
    {
     "name": "stdout",
     "output_type": "stream",
     "text": [
      "Loaded  EPWs\\metdata_temp.csv\n",
      "message: There were 4112 sun up hours in this climate file\n",
      "Total Ibh/Lbh: 0.000000\n",
      "Created SouthPole.oct\n"
     ]
    }
   ],
   "source": [
    "demo.genCumSky()\n",
    "octfile = demo.makeOct(demo.getfilelist()) "
   ]
  },
  {
   "cell_type": "code",
   "execution_count": 14,
   "id": "59dad687",
   "metadata": {},
   "outputs": [],
   "source": [
    "analysis = bifacial_radiance.AnalysisObj(octfile, demo.basename)  \n"
   ]
  },
  {
   "cell_type": "code",
   "execution_count": 15,
   "id": "474fedb5",
   "metadata": {},
   "outputs": [
    {
     "name": "stdout",
     "output_type": "stream",
     "text": [
      "Generating visible render of scene\n",
      "Generating scene in WM-2. This may take some time.\n",
      "Saving scene in false color\n"
     ]
    }
   ],
   "source": [
    "# Make a color render and falsecolor image of the scene.\n",
    "analysis.makeImage('side.vp')\n",
    "analysis.makeFalseColor('side.vp')"
   ]
  },
  {
   "cell_type": "markdown",
   "id": "bf1d8ccf",
   "metadata": {},
   "source": [
    "### Analysis"
   ]
  },
  {
   "cell_type": "code",
   "execution_count": 16,
   "id": "8e46fbef",
   "metadata": {},
   "outputs": [
    {
     "name": "stdout",
     "output_type": "stream",
     "text": [
      "Created SouthPole.oct\n"
     ]
    },
    {
     "data": {
      "text/plain": [
       "'SouthPole.oct'"
      ]
     },
     "execution_count": 16,
     "metadata": {},
     "output_type": "execute_result"
    }
   ],
   "source": [
    "demo.gendaylit(timestamp) \n",
    "demo.makeOct()"
   ]
  },
  {
   "cell_type": "code",
   "execution_count": 17,
   "id": "39a20e04",
   "metadata": {},
   "outputs": [
    {
     "ename": "NameError",
     "evalue": "name 'sceneObj1' is not defined",
     "output_type": "error",
     "traceback": [
      "\u001b[1;31m---------------------------------------------------------------------------\u001b[0m",
      "\u001b[1;31mNameError\u001b[0m                                 Traceback (most recent call last)",
      "Input \u001b[1;32mIn [17]\u001b[0m, in \u001b[0;36m<cell line: 3>\u001b[1;34m()\u001b[0m\n\u001b[0;32m      1\u001b[0m sensorsy\u001b[38;5;241m=\u001b[39m\u001b[38;5;241m4\u001b[39m  \u001b[38;5;66;03m# 1 per module. consider increasing the number but be careful with sensors in the space between modules.\u001b[39;00m\n\u001b[0;32m      2\u001b[0m analysis \u001b[38;5;241m=\u001b[39m bifacial_radiance\u001b[38;5;241m.\u001b[39mAnalysisObj(octfile, demo\u001b[38;5;241m.\u001b[39mbasename)  \n\u001b[1;32m----> 3\u001b[0m frontscan, backscan \u001b[38;5;241m=\u001b[39m analysis\u001b[38;5;241m.\u001b[39mmoduleAnalysis(\u001b[43msceneObj1\u001b[49m, sensorsy\u001b[38;5;241m=\u001b[39msensorsy)\n\u001b[0;32m      4\u001b[0m frontdict, backdict \u001b[38;5;241m=\u001b[39m analysis\u001b[38;5;241m.\u001b[39manalysis(octfile, \u001b[38;5;124m\"\u001b[39m\u001b[38;5;124mEastFacingShed\u001b[39m\u001b[38;5;124m\"\u001b[39m, frontscan, backscan)  \u001b[38;5;66;03m# compare the back vs front irradiance  \u001b[39;00m\n\u001b[0;32m      6\u001b[0m frontscan, backscan \u001b[38;5;241m=\u001b[39m analysis\u001b[38;5;241m.\u001b[39mmoduleAnalysis(sceneObj2, sensorsy\u001b[38;5;241m=\u001b[39msensorsy )\n",
      "\u001b[1;31mNameError\u001b[0m: name 'sceneObj1' is not defined"
     ]
    }
   ],
   "source": [
    "sensorsy=4  # 1 per module. consider increasing the number but be careful with sensors in the space between modules.\n",
    "analysis = bifacial_radiance.AnalysisObj(octfile, demo.basename)  \n",
    "frontscan, backscan = analysis.moduleAnalysis(sceneObj1, sensorsy=sensorsy)\n",
    "frontdict, backdict = analysis.analysis(octfile, \"EastFacingShed\", frontscan, backscan)  # compare the back vs front irradiance  \n",
    "\n",
    "frontscan, backscan = analysis.moduleAnalysis(sceneObj2, sensorsy=sensorsy )\n",
    "frontdict2, backdict2 = analysis.analysis(octfile, \"WestFacingShed\", frontscan, backscan)  # compare the back vs front irradiance  \n"
   ]
  },
  {
   "cell_type": "markdown",
   "id": "d4826cc2",
   "metadata": {},
   "source": [
    "### Analysis LOOP"
   ]
  },
  {
   "cell_type": "code",
   "execution_count": null,
   "id": "6bb04888",
   "metadata": {},
   "outputs": [],
   "source": [
    "# Run Analysis\n",
    "for obj in sceneObjDict:\n",
    "    for mm in range(1, nMods+1):\n",
    "        for rr in range(1, nRows+1):\n",
    "            frontscan, backscan = analysis.moduleAnalysis(sceneObjDict[obj], sensorsy=4, sensorsx = 4, modWanted = mm, rowWanted = rr)\n",
    "            frontdict, backdict = analysis.analysis(octfile, obj, frontscan, backscan)  # compare the back vs front irradiance  "
   ]
  },
  {
   "cell_type": "code",
   "execution_count": null,
   "id": "afbec48b",
   "metadata": {},
   "outputs": [],
   "source": [
    "# Compile Results\n",
    "bifaciality = 0.7\n",
    "\n",
    "#filetitle = 'irr_sceneObj0_Mod_1_Row_3_Row3_Module1.csv'\n",
    "for obj in sceneObjDict:\n",
    "    for mm in range(1, nMods+1):\n",
    "        for rr in range(1, nRows+1):\n",
    "            filetitle = 'results\\irr_'+obj+'_Row'+rr+'_Module'+mm+'.csv'\n",
    "            data=load.read1Result(filetitle)\n",
    "            Gpoa = data['Wm2Front'].mean() + data['Wm2Back'].mean()*bifaciality\n"
   ]
  }
 ],
 "metadata": {
  "kernelspec": {
   "display_name": "Python 3 (ipykernel)",
   "language": "python",
   "name": "python3"
  },
  "language_info": {
   "codemirror_mode": {
    "name": "ipython",
    "version": 3
   },
   "file_extension": ".py",
   "mimetype": "text/x-python",
   "name": "python",
   "nbconvert_exporter": "python",
   "pygments_lexer": "ipython3",
   "version": "3.8.8"
  }
 },
 "nbformat": 4,
 "nbformat_minor": 5
}

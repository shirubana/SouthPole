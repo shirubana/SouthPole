{
 "cells": [
  {
   "cell_type": "markdown",
   "id": "1f58bef2",
   "metadata": {},
   "source": [
    "## Join Weather Data (DNI, DHI, WSPD, ETC)"
   ]
  },
  {
   "cell_type": "code",
   "execution_count": 1,
   "id": "77ecb809",
   "metadata": {},
   "outputs": [],
   "source": [
    "import bifacial_radiance\n",
    "import numpy as np"
   ]
  },
  {
   "cell_type": "code",
   "execution_count": 2,
   "id": "a25e6c2d",
   "metadata": {},
   "outputs": [],
   "source": [
    "import os\n",
    "from pathlib import Path\n",
    "import pandas as pd\n",
    "\n",
    "testfolder = 'TEMP' \n",
    "if not os.path.exists(testfolder):\n",
    "    os.makedirs(testfolder)"
   ]
  },
  {
   "cell_type": "code",
   "execution_count": 3,
   "id": "b9e9e655",
   "metadata": {},
   "outputs": [],
   "source": [
    "weathefile = r'C:\\Users\\sayala\\Documents\\GitHub\\Studies\\SouthPole\\Journals\\TEMP\\SouthPole_2021_WeatherFile.csv'\n",
    "weatherfile = r'C:\\Users\\sayala\\Documents\\GitHub\\Studies\\SouthPole\\Journals\\IOFiles\\POWER_Point_Hourly_20160101_20161231_090d00S_000d00E_LT.csv'"
   ]
  },
  {
   "cell_type": "code",
   "execution_count": 4,
   "id": "03c161f3",
   "metadata": {},
   "outputs": [
    {
     "name": "stdout",
     "output_type": "stream",
     "text": [
      "path = TEMP\n",
      "Coercing year to 2016\n"
     ]
    },
    {
     "name": "stderr",
     "output_type": "stream",
     "text": [
      "C:\\ProgramData\\Anaconda3\\lib\\site-packages\\pandas\\core\\arrays\\datetimes.py:760: PerformanceWarning: Non-vectorized DateOffset being applied to Series or DatetimeIndex.\n",
      "  warnings.warn(\n"
     ]
    },
    {
     "name": "stdout",
     "output_type": "stream",
     "text": [
      "Data ends on Dec. 31st\n",
      "Saving file EPWs\\metdata_temp.csv, # points: 8760\n",
      "Calculating Sun position for Metdata that is left-labeled  with a delta of +30 mins. i.e. 12 is 12:30 sunpos.\n"
     ]
    },
    {
     "name": "stderr",
     "output_type": "stream",
     "text": [
      "C:\\Users\\sayala\\Documents\\GitHub\\pvlib-python\\pvlib\\spa.py:1200: RuntimeWarning: invalid value encountered in remainder\n",
      "  H0 = np.degrees(np.arccos(cos_arg)) % 180\n",
      "C:\\Users\\sayala\\Documents\\GitHub\\pvlib-python\\pvlib\\spa.py:1211: RuntimeWarning: invalid value encountered in remainder\n",
      "  m[1] = m[1] % 1\n",
      "C:\\Users\\sayala\\Documents\\GitHub\\pvlib-python\\pvlib\\spa.py:1212: RuntimeWarning: invalid value encountered in remainder\n",
      "  m[2] = m[2] % 1\n",
      "C:\\Users\\sayala\\Documents\\GitHub\\pvlib-python\\pvlib\\spa.py:1229: RuntimeWarning: invalid value encountered in remainder\n",
      "  Hp = (vs + lon - alpha_prime) % 360\n"
     ]
    }
   ],
   "source": [
    "demo = bifacial_radiance.RadianceObj('SD',str(testfolder))  \n",
    "# Read in the weather data pulled in above. \n",
    "metdata = demo.readWeatherFile(weatherfile, source='SAM', coerce_year=2016) "
   ]
  },
  {
   "cell_type": "code",
   "execution_count": 5,
   "id": "1f6beca5",
   "metadata": {},
   "outputs": [],
   "source": [
    "foo2 = pd.DataFrame()\n",
    "foo2['DNI'] = metdata.dni\n",
    "foo2['DHI'] = metdata.dhi\n",
    "foo2['GHI'] = metdata.ghi\n",
    "foo2['temp_air'] = metdata.temp_air\n",
    "foo2['wind_speed'] = metdata.wind_speed\n",
    "foo2['solpos_zenith'] = metdata.solpos.zenith.values\n",
    "foo2['solpos_azimuth'] = metdata.solpos.azimuth.values\n",
    "foo2['datetime'] = metdata.datetime\n",
    "#foo2.set_index(foo2.datetime, inplace= True)"
   ]
  },
  {
   "cell_type": "code",
   "execution_count": 6,
   "id": "4dc026b0",
   "metadata": {},
   "outputs": [],
   "source": [
    "df = pd.read_csv(r'C:\\Users\\sayala\\Documents\\GitHub\\Studies\\SouthPole\\Journals\\TEMP\\Compiled.csv')"
   ]
  },
  {
   "cell_type": "code",
   "execution_count": 7,
   "id": "dd37163e",
   "metadata": {},
   "outputs": [],
   "source": [
    "uniquetimes = df['Timestamp'].unique()"
   ]
  },
  {
   "cell_type": "code",
   "execution_count": 8,
   "id": "3c038379",
   "metadata": {},
   "outputs": [
    {
     "data": {
      "text/plain": [
       "array([4090, 4091, 4092, 4093, 4094, 4095, 4096, 4097, 4098, 4099, 4100,\n",
       "       4101, 4102, 4103, 4104, 4105, 4106, 4107, 4108, 4109, 4110, 4111,\n",
       "       4112, 4113, 4114, 4115, 4116, 4117, 4118, 4119, 4120, 4121, 4122,\n",
       "       4123, 4124, 4125, 4126, 4127, 4128, 4129, 4130, 4131, 4132, 4133,\n",
       "       4134, 4135, 4136, 4137, 4138, 4139, 4140, 4141, 4142, 4143, 4144,\n",
       "       4145, 4146, 4147, 4148, 4149, 4150, 4151, 4152, 4153, 4154, 4155,\n",
       "       4156, 4157, 4158, 4159, 4160, 4161, 4162, 4163, 4164, 4165, 4166,\n",
       "       4167, 4168, 4169, 4170, 4171, 4172, 4173, 4174, 4175, 4176, 4177,\n",
       "       4178, 4179, 4180, 4181], dtype=int64)"
      ]
     },
     "execution_count": 8,
     "metadata": {},
     "output_type": "execute_result"
    }
   ],
   "source": [
    "uniquetimes[-93:-1]"
   ]
  },
  {
   "cell_type": "code",
   "execution_count": 9,
   "id": "29f48695",
   "metadata": {},
   "outputs": [],
   "source": [
    "uuu = len(uniquetimes)-93"
   ]
  },
  {
   "cell_type": "code",
   "execution_count": 10,
   "id": "57f4dedb",
   "metadata": {},
   "outputs": [],
   "source": [
    "uniquetimes = uniquetimes[:uuu]"
   ]
  },
  {
   "cell_type": "code",
   "execution_count": 11,
   "id": "a2b293ba",
   "metadata": {},
   "outputs": [],
   "source": [
    "df['DNI'] = np.nan\n",
    "df['DHI'] = np.nan\n",
    "df['GHI'] = np.nan\n",
    "df['temp_air'] = np.nan\n",
    "df['wind_speed'] = np.nan\n",
    "df['solpos_zenith'] = np.nan\n",
    "df['solpos_azimuth'] = np.nan\n",
    "df['datetime'] = np.nan\n",
    "\n",
    "\n",
    "for ii in range (0, len(uniquetimes)):\n",
    "    df.loc[df.Timestamp == uniquetimes[ii],'DNI'] = foo2.loc[uniquetimes[ii]].DNI\n",
    "    df.loc[df.Timestamp == uniquetimes[ii],'DHI'] = foo2.loc[uniquetimes[ii]].DHI\n",
    "    df.loc[df.Timestamp == uniquetimes[ii],'GHI'] = foo2.loc[uniquetimes[ii]].GHI\n",
    "    df.loc[df.Timestamp == uniquetimes[ii],'temp_air'] = foo2.loc[uniquetimes[ii]].temp_air\n",
    "    df.loc[df.Timestamp == uniquetimes[ii],'wind_speed'] = foo2.loc[uniquetimes[ii]].wind_speed\n",
    "    df.loc[df.Timestamp == uniquetimes[ii],'solpos_zenith'] = foo2.loc[uniquetimes[ii]].solpos_zenith\n",
    "    df.loc[df.Timestamp == uniquetimes[ii],'solpos_azimuth'] = foo2.loc[uniquetimes[ii]].solpos_azimuth\n",
    "    df.loc[df.Timestamp == uniquetimes[ii],'datetime'] = foo2.loc[uniquetimes[ii]].datetime\n",
    "    df.loc[df.Timestamp == uniquetimes[ii],'datetime'] = foo2.loc[uniquetimes[ii]].datetime\n"
   ]
  },
  {
   "cell_type": "code",
   "execution_count": 38,
   "id": "5999d91b",
   "metadata": {},
   "outputs": [],
   "source": [
    "df['DNI'] = np.nan\n",
    "df['DHI'] = np.nan\n",
    "df['GHI'] = np.nan\n",
    "df['temp_air'] = np.nan\n",
    "df['wind_speed'] = np.nan\n",
    "df['solpos_zenith'] = np.nan\n",
    "df['solpos_azimuth'] = np.nan\n",
    "df['datetime'] = np.nan\n",
    "\n",
    "\n",
    "for ii in range (0, 25):\n",
    "    df.loc[df.Timestamp == uniquetimes[ii],'DNI'] = foo2.loc[uniquetimes[ii]].DNI\n",
    "    df.loc[df.Timestamp == uniquetimes[ii],'DHI'] = foo2.loc[uniquetimes[ii]].DHI\n",
    "    df.loc[df.Timestamp == uniquetimes[ii],'GHI'] = foo2.loc[uniquetimes[ii]].GHI\n",
    "    df.loc[df.Timestamp == uniquetimes[ii],'temp_air'] = foo2.loc[uniquetimes[ii]].temp_air\n",
    "    df.loc[df.Timestamp == uniquetimes[ii],'wind_speed'] = foo2.loc[uniquetimes[ii]].wind_speed\n",
    "    df.loc[df.Timestamp == uniquetimes[ii],'solpos_zenith'] = foo2.loc[uniquetimes[ii]].solpos_zenith\n",
    "    df.loc[df.Timestamp == uniquetimes[ii],'solpos_azimuth'] = foo2.loc[uniquetimes[ii]].solpos_azimuth\n",
    "    df.loc[df.Timestamp == uniquetimes[ii],'datetime'] = foo2.loc[uniquetimes[ii]].datetime\n",
    "    df.loc[df.Timestamp == uniquetimes[ii],'datetime'] = foo2.loc[uniquetimes[ii]].datetime"
   ]
  },
  {
   "cell_type": "markdown",
   "id": "a2da1fa2",
   "metadata": {},
   "source": [
    "## Separate into NS and EW dataframes"
   ]
  },
  {
   "cell_type": "code",
   "execution_count": 12,
   "id": "f5c05017",
   "metadata": {
    "scrolled": true
   },
   "outputs": [
    {
     "data": {
      "text/html": [
       "<div>\n",
       "<style scoped>\n",
       "    .dataframe tbody tr th:only-of-type {\n",
       "        vertical-align: middle;\n",
       "    }\n",
       "\n",
       "    .dataframe tbody tr th {\n",
       "        vertical-align: top;\n",
       "    }\n",
       "\n",
       "    .dataframe thead th {\n",
       "        text-align: right;\n",
       "    }\n",
       "</style>\n",
       "<table border=\"1\" class=\"dataframe\">\n",
       "  <thead>\n",
       "    <tr style=\"text-align: right;\">\n",
       "      <th></th>\n",
       "      <th>Unnamed: 0</th>\n",
       "      <th>Timestamp</th>\n",
       "      <th>Row</th>\n",
       "      <th>Module</th>\n",
       "      <th>Orientation</th>\n",
       "      <th>x</th>\n",
       "      <th>y</th>\n",
       "      <th>z</th>\n",
       "      <th>rearZ</th>\n",
       "      <th>mattype</th>\n",
       "      <th>...</th>\n",
       "      <th>Wm2Front</th>\n",
       "      <th>Wm2Back</th>\n",
       "      <th>DNI</th>\n",
       "      <th>DHI</th>\n",
       "      <th>GHI</th>\n",
       "      <th>temp_air</th>\n",
       "      <th>wind_speed</th>\n",
       "      <th>solpos_zenith</th>\n",
       "      <th>solpos_azimuth</th>\n",
       "      <th>datetime</th>\n",
       "    </tr>\n",
       "  </thead>\n",
       "  <tbody>\n",
       "    <tr>\n",
       "      <th>0</th>\n",
       "      <td>0</td>\n",
       "      <td>0</td>\n",
       "      <td>1</td>\n",
       "      <td>1</td>\n",
       "      <td>NS</td>\n",
       "      <td>[-18.35714, -18.35714, -18.35714, -18.35714, -...</td>\n",
       "      <td>[-24.021, -24.021, -24.021, -24.021, -24.021, ...</td>\n",
       "      <td>[0.7538462, 0.9076923, 1.061538, 1.215385, 1.3...</td>\n",
       "      <td>[0.7538462, 0.9076923, 1.061538, 1.215385, 1.3...</td>\n",
       "      <td>['a0.0.a0.PVmod.6457', 'a0.0.a0.PVmod.6457', '...</td>\n",
       "      <td>...</td>\n",
       "      <td>[1125.624, 1127.097, 1125.28, 1126.234, 1125.2...</td>\n",
       "      <td>[176.7758, 174.9815, 173.1808, 167.9222, 167.2...</td>\n",
       "      <td>1081.078</td>\n",
       "      <td>64.609</td>\n",
       "      <td>478.016</td>\n",
       "      <td>-30.541</td>\n",
       "      <td>2.999</td>\n",
       "      <td>66.904413</td>\n",
       "      <td>8.206346</td>\n",
       "      <td>2016-01-01 01:00:00+14:00</td>\n",
       "    </tr>\n",
       "  </tbody>\n",
       "</table>\n",
       "<p>1 rows × 21 columns</p>\n",
       "</div>"
      ],
      "text/plain": [
       "   Unnamed: 0  Timestamp  Row  Module Orientation  \\\n",
       "0           0          0    1       1          NS   \n",
       "\n",
       "                                                   x  \\\n",
       "0  [-18.35714, -18.35714, -18.35714, -18.35714, -...   \n",
       "\n",
       "                                                   y  \\\n",
       "0  [-24.021, -24.021, -24.021, -24.021, -24.021, ...   \n",
       "\n",
       "                                                   z  \\\n",
       "0  [0.7538462, 0.9076923, 1.061538, 1.215385, 1.3...   \n",
       "\n",
       "                                               rearZ  \\\n",
       "0  [0.7538462, 0.9076923, 1.061538, 1.215385, 1.3...   \n",
       "\n",
       "                                             mattype  ...  \\\n",
       "0  ['a0.0.a0.PVmod.6457', 'a0.0.a0.PVmod.6457', '...  ...   \n",
       "\n",
       "                                            Wm2Front  \\\n",
       "0  [1125.624, 1127.097, 1125.28, 1126.234, 1125.2...   \n",
       "\n",
       "                                             Wm2Back       DNI     DHI  \\\n",
       "0  [176.7758, 174.9815, 173.1808, 167.9222, 167.2...  1081.078  64.609   \n",
       "\n",
       "       GHI  temp_air  wind_speed  solpos_zenith  solpos_azimuth  \\\n",
       "0  478.016   -30.541       2.999      66.904413        8.206346   \n",
       "\n",
       "                    datetime  \n",
       "0  2016-01-01 01:00:00+14:00  \n",
       "\n",
       "[1 rows x 21 columns]"
      ]
     },
     "execution_count": 12,
     "metadata": {},
     "output_type": "execute_result"
    }
   ],
   "source": [
    "NSG = df.loc[df.Orientation == 'NS'].copy()\n",
    "EWG = df.loc[df.Orientation == 'EW'].copy()\n",
    "NSG.head(1)"
   ]
  },
  {
   "cell_type": "markdown",
   "id": "57e71553",
   "metadata": {},
   "source": [
    "## Sort Values by Date, Row and Module"
   ]
  },
  {
   "cell_type": "code",
   "execution_count": 13,
   "id": "d7eb7fe8",
   "metadata": {},
   "outputs": [],
   "source": [
    "NSG = NSG.sort_values(['Timestamp', 'Row', 'Module'],\n",
    "              ascending = [True, True, True])\n",
    "EWG = EWG.sort_values(['Timestamp', 'Row', 'Module'],\n",
    "              ascending = [True, True, True])"
   ]
  },
  {
   "cell_type": "code",
   "execution_count": 14,
   "id": "48db6e61",
   "metadata": {},
   "outputs": [],
   "source": [
    "from ast import literal_eval\n"
   ]
  },
  {
   "cell_type": "code",
   "execution_count": 15,
   "id": "527f2c4e",
   "metadata": {},
   "outputs": [],
   "source": [
    "NSG.Wm2Back = NSG.Wm2Back.apply(literal_eval)\n"
   ]
  },
  {
   "cell_type": "code",
   "execution_count": 16,
   "id": "0f109f12",
   "metadata": {},
   "outputs": [],
   "source": [
    "NSG.Wm2Front = NSG.Wm2Front.apply(literal_eval)"
   ]
  },
  {
   "cell_type": "code",
   "execution_count": 17,
   "id": "47be45c8",
   "metadata": {},
   "outputs": [],
   "source": [
    "EWG.Wm2Back = EWG.Wm2Back.apply(literal_eval)\n"
   ]
  },
  {
   "cell_type": "code",
   "execution_count": 18,
   "id": "697fdb63",
   "metadata": {},
   "outputs": [],
   "source": [
    "EWG.Wm2Front = EWG.Wm2Front.apply(literal_eval)"
   ]
  },
  {
   "cell_type": "code",
   "execution_count": 19,
   "id": "3b2570b0",
   "metadata": {
    "scrolled": true
   },
   "outputs": [
    {
     "data": {
      "text/html": [
       "<div>\n",
       "<style scoped>\n",
       "    .dataframe tbody tr th:only-of-type {\n",
       "        vertical-align: middle;\n",
       "    }\n",
       "\n",
       "    .dataframe tbody tr th {\n",
       "        vertical-align: top;\n",
       "    }\n",
       "\n",
       "    .dataframe thead th {\n",
       "        text-align: right;\n",
       "    }\n",
       "</style>\n",
       "<table border=\"1\" class=\"dataframe\">\n",
       "  <thead>\n",
       "    <tr style=\"text-align: right;\">\n",
       "      <th></th>\n",
       "      <th>Unnamed: 0</th>\n",
       "      <th>Timestamp</th>\n",
       "      <th>Row</th>\n",
       "      <th>Module</th>\n",
       "      <th>Orientation</th>\n",
       "      <th>x</th>\n",
       "      <th>y</th>\n",
       "      <th>z</th>\n",
       "      <th>rearZ</th>\n",
       "      <th>mattype</th>\n",
       "      <th>...</th>\n",
       "      <th>Wm2Front</th>\n",
       "      <th>Wm2Back</th>\n",
       "      <th>DNI</th>\n",
       "      <th>DHI</th>\n",
       "      <th>GHI</th>\n",
       "      <th>temp_air</th>\n",
       "      <th>wind_speed</th>\n",
       "      <th>solpos_zenith</th>\n",
       "      <th>solpos_azimuth</th>\n",
       "      <th>datetime</th>\n",
       "    </tr>\n",
       "  </thead>\n",
       "  <tbody>\n",
       "    <tr>\n",
       "      <th>0</th>\n",
       "      <td>0</td>\n",
       "      <td>0</td>\n",
       "      <td>1</td>\n",
       "      <td>1</td>\n",
       "      <td>NS</td>\n",
       "      <td>[-18.35714, -18.35714, -18.35714, -18.35714, -...</td>\n",
       "      <td>[-24.021, -24.021, -24.021, -24.021, -24.021, ...</td>\n",
       "      <td>[0.7538462, 0.9076923, 1.061538, 1.215385, 1.3...</td>\n",
       "      <td>[0.7538462, 0.9076923, 1.061538, 1.215385, 1.3...</td>\n",
       "      <td>['a0.0.a0.PVmod.6457', 'a0.0.a0.PVmod.6457', '...</td>\n",
       "      <td>...</td>\n",
       "      <td>[1125.624, 1127.097, 1125.28, 1126.234, 1125.2...</td>\n",
       "      <td>[176.7758, 174.9815, 173.1808, 167.9222, 167.2...</td>\n",
       "      <td>1081.078</td>\n",
       "      <td>64.609</td>\n",
       "      <td>478.016</td>\n",
       "      <td>-30.541</td>\n",
       "      <td>2.999</td>\n",
       "      <td>66.904413</td>\n",
       "      <td>8.206346</td>\n",
       "      <td>2016-01-01 01:00:00+14:00</td>\n",
       "    </tr>\n",
       "  </tbody>\n",
       "</table>\n",
       "<p>1 rows × 21 columns</p>\n",
       "</div>"
      ],
      "text/plain": [
       "   Unnamed: 0  Timestamp  Row  Module Orientation  \\\n",
       "0           0          0    1       1          NS   \n",
       "\n",
       "                                                   x  \\\n",
       "0  [-18.35714, -18.35714, -18.35714, -18.35714, -...   \n",
       "\n",
       "                                                   y  \\\n",
       "0  [-24.021, -24.021, -24.021, -24.021, -24.021, ...   \n",
       "\n",
       "                                                   z  \\\n",
       "0  [0.7538462, 0.9076923, 1.061538, 1.215385, 1.3...   \n",
       "\n",
       "                                               rearZ  \\\n",
       "0  [0.7538462, 0.9076923, 1.061538, 1.215385, 1.3...   \n",
       "\n",
       "                                             mattype  ...  \\\n",
       "0  ['a0.0.a0.PVmod.6457', 'a0.0.a0.PVmod.6457', '...  ...   \n",
       "\n",
       "                                            Wm2Front  \\\n",
       "0  [1125.624, 1127.097, 1125.28, 1126.234, 1125.2...   \n",
       "\n",
       "                                             Wm2Back       DNI     DHI  \\\n",
       "0  [176.7758, 174.9815, 173.1808, 167.9222, 167.2...  1081.078  64.609   \n",
       "\n",
       "       GHI  temp_air  wind_speed  solpos_zenith  solpos_azimuth  \\\n",
       "0  478.016   -30.541       2.999      66.904413        8.206346   \n",
       "\n",
       "                    datetime  \n",
       "0  2016-01-01 01:00:00+14:00  \n",
       "\n",
       "[1 rows x 21 columns]"
      ]
     },
     "execution_count": 19,
     "metadata": {},
     "output_type": "execute_result"
    }
   ],
   "source": [
    "NSG.head(1)"
   ]
  },
  {
   "cell_type": "markdown",
   "id": "0d628619",
   "metadata": {},
   "source": [
    "## Calculate POAs"
   ]
  },
  {
   "cell_type": "code",
   "execution_count": 20,
   "id": "045ea35e",
   "metadata": {
    "scrolled": true
   },
   "outputs": [],
   "source": [
    "Wm2Front = pd.DataFrame(item for item in NSG['Wm2Front'])\n",
    "Wm2Back = pd.DataFrame(item for item in NSG['Wm2Back'])\n",
    "\n",
    "NSG['SouthFacing_POA'] = (Wm2Front+Wm2Back*0.6).min(axis=1).values\n",
    "NSG['NorthFacing_POA'] = (Wm2Front*0.6+Wm2Back).min(axis=1).values\n",
    "NSG.SouthFacing_POA\n",
    "\n",
    "Wm2Front = pd.DataFrame(item for item in EWG['Wm2Front'])\n",
    "Wm2Back = pd.DataFrame(item for item in EWG['Wm2Back'])\n",
    "EWG['EastFacing_POA'] = (Wm2Front+Wm2Back*0.6).min(axis=1).values\n",
    "EWG['WestFacing_POA'] = (Wm2Front*0.6+Wm2Back).min(axis=1).values"
   ]
  },
  {
   "cell_type": "markdown",
   "id": "21962e2d",
   "metadata": {},
   "source": [
    "## Asign CEC module "
   ]
  },
  {
   "cell_type": "code",
   "execution_count": 21,
   "id": "e7074a77",
   "metadata": {},
   "outputs": [],
   "source": [
    "import pvlib \n",
    "CECMODS = pvlib.pvsystem.retrieve_sam('CECMod')\n",
    "INVERTERS = pvlib.pvsystem.retrieve_sam('CECInverter')\n",
    "\n",
    "CECMOD_CSI = CECMODS['LONGi_Green_Energy_Technology_Co___Ltd__LR6_72HBD_380M']"
   ]
  },
  {
   "cell_type": "code",
   "execution_count": 22,
   "id": "6b1f7510",
   "metadata": {},
   "outputs": [],
   "source": [
    "# [col for col in CECMODS if col.startswith('LONGi') & col.endswith('400M')]"
   ]
  },
  {
   "cell_type": "code",
   "execution_count": 23,
   "id": "d5bd4e9e",
   "metadata": {},
   "outputs": [
    {
     "data": {
      "text/plain": [
       "Technology            Mono-c-Si\n",
       "Bifacial                      1\n",
       "STC                     380.694\n",
       "PTC                       355.1\n",
       "A_c                        1.95\n",
       "Length                      NaN\n",
       "Width                       NaN\n",
       "N_s                          72\n",
       "I_sc_ref                   9.97\n",
       "V_oc_ref                   48.5\n",
       "I_mp_ref                   9.47\n",
       "V_mp_ref                   40.2\n",
       "alpha_sc               0.004487\n",
       "beta_oc               -0.130465\n",
       "T_NOCT                     44.6\n",
       "a_ref                  1.787018\n",
       "I_L_ref                 9.97365\n",
       "I_o_ref                     0.0\n",
       "R_s                    0.292888\n",
       "R_sh_ref             800.046448\n",
       "Adjust                 4.950693\n",
       "gamma_r                  -0.343\n",
       "BIPV                          N\n",
       "Version       SAM 2018.11.11 r2\n",
       "Date                   1/3/2019\n",
       "Name: LONGi_Green_Energy_Technology_Co___Ltd__LR6_72HBD_380M, dtype: object"
      ]
     },
     "execution_count": 23,
     "metadata": {},
     "output_type": "execute_result"
    }
   ],
   "source": [
    "CECMOD_CSI = CECMODS['LONGi_Green_Energy_Technology_Co___Ltd__LR6_72HBD_380M']\n",
    "CECMOD_CSI"
   ]
  },
  {
   "cell_type": "markdown",
   "id": "d658c9ed",
   "metadata": {},
   "source": [
    "## Calculate Performances"
   ]
  },
  {
   "cell_type": "code",
   "execution_count": 24,
   "id": "53aade6c",
   "metadata": {},
   "outputs": [],
   "source": [
    "NSG['North_Performance'] = bifacial_radiance.performance.calculatePerformance(effective_irradiance = NSG['NorthFacing_POA'], CECMod = CECMOD_CSI,\n",
    "                                                  temp_air = NSG['temp_air'],\n",
    "                                                  wind_speed = NSG['wind_speed'],\n",
    "                                                  glassglass=True)\n",
    "\n",
    "NSG['South_Performance'] = bifacial_radiance.performance.calculatePerformance(effective_irradiance = NSG['SouthFacing_POA'], CECMod = CECMOD_CSI,\n",
    "                                                  temp_air = NSG['temp_air'],\n",
    "                                                  wind_speed = NSG['wind_speed'],\n",
    "                                                  glassglass=True)\n",
    "\n",
    "EWG['East_Performance'] = bifacial_radiance.performance.calculatePerformance(effective_irradiance = EWG['EastFacing_POA'], CECMod = CECMOD_CSI,\n",
    "                                                  temp_air = EWG['temp_air'],\n",
    "                                                  wind_speed = EWG['wind_speed'],\n",
    "                                                  glassglass=True)\n",
    "\n",
    "EWG['West_Performance'] = bifacial_radiance.performance.calculatePerformance(effective_irradiance = EWG['WestFacing_POA'], CECMod = CECMOD_CSI,\n",
    "                                                  temp_air = EWG['temp_air'],\n",
    "                                                  wind_speed = EWG['wind_speed'],\n",
    "                                                  glassglass=True)"
   ]
  },
  {
   "cell_type": "code",
   "execution_count": 25,
   "id": "7150258f",
   "metadata": {},
   "outputs": [
    {
     "data": {
      "text/plain": [
       "Index(['Unnamed: 0', 'Timestamp', 'Row', 'Module', 'Orientation', 'x', 'y',\n",
       "       'z', 'rearZ', 'mattype', 'rearMat', 'Wm2Front', 'Wm2Back', 'DNI', 'DHI',\n",
       "       'GHI', 'temp_air', 'wind_speed', 'solpos_zenith', 'solpos_azimuth',\n",
       "       'datetime', 'SouthFacing_POA', 'NorthFacing_POA', 'North_Performance',\n",
       "       'South_Performance'],\n",
       "      dtype='object')"
      ]
     },
     "execution_count": 25,
     "metadata": {},
     "output_type": "execute_result"
    }
   ],
   "source": [
    "NSG.keys()"
   ]
  },
  {
   "cell_type": "code",
   "execution_count": 26,
   "id": "1e754a91",
   "metadata": {},
   "outputs": [
    {
     "data": {
      "text/plain": [
       "Unnamed: 0                                                           0\n",
       "Timestamp                                                            0\n",
       "Row                                                                  1\n",
       "Module                                                               1\n",
       "Orientation                                                         NS\n",
       "x                    [-18.35714, -18.35714, -18.35714, -18.35714, -...\n",
       "y                    [-24.021, -24.021, -24.021, -24.021, -24.021, ...\n",
       "z                    [0.7538462, 0.9076923, 1.061538, 1.215385, 1.3...\n",
       "rearZ                [0.7538462, 0.9076923, 1.061538, 1.215385, 1.3...\n",
       "mattype              ['a0.0.a0.PVmod.6457', 'a0.0.a0.PVmod.6457', '...\n",
       "rearMat              ['a0.0.a0.PVmod.2310', 'a0.0.a0.PVmod.2310', '...\n",
       "Wm2Front             [1125.624, 1127.097, 1125.28, 1126.234, 1125.2...\n",
       "Wm2Back              [176.7758, 174.9815, 173.1808, 167.9222, 167.2...\n",
       "DNI                                                           1081.078\n",
       "DHI                                                             64.609\n",
       "GHI                                                            478.016\n",
       "temp_air                                                       -30.541\n",
       "wind_speed                                                       2.999\n",
       "solpos_zenith                                                66.904413\n",
       "solpos_azimuth                                                8.206346\n",
       "datetime                                     2016-01-01 01:00:00+14:00\n",
       "SouthFacing_POA                                             1220.33792\n",
       "NorthFacing_POA                                               833.9701\n",
       "North_Performance                                           352.686721\n",
       "South_Performance                                           493.313451\n",
       "Name: 0, dtype: object"
      ]
     },
     "execution_count": 26,
     "metadata": {},
     "output_type": "execute_result"
    }
   ],
   "source": [
    "NSG.loc[0]"
   ]
  },
  {
   "cell_type": "code",
   "execution_count": 27,
   "id": "3b74ed98",
   "metadata": {},
   "outputs": [],
   "source": [
    "foo = NSG[['Timestamp', 'Row', 'Module', 'Orientation', 'DNI', 'DHI',\n",
    "       'GHI', 'temp_air', 'wind_speed', 'solpos_zenith', 'solpos_azimuth',\n",
    "       'datetime', 'SouthFacing_POA', 'NorthFacing_POA',\n",
    "       'North_Performance', 'South_Performance']]"
   ]
  },
  {
   "cell_type": "code",
   "execution_count": 28,
   "id": "d56d06c8",
   "metadata": {},
   "outputs": [
    {
     "name": "stderr",
     "output_type": "stream",
     "text": [
      "C:\\Users\\sayala\\AppData\\Local\\Temp\\1\\ipykernel_13172\\1339173081.py:1: SettingWithCopyWarning: \n",
      "A value is trying to be set on a copy of a slice from a DataFrame.\n",
      "Try using .loc[row_indexer,col_indexer] = value instead\n",
      "\n",
      "See the caveats in the documentation: https://pandas.pydata.org/pandas-docs/stable/user_guide/indexing.html#returning-a-view-versus-a-copy\n",
      "  foo['datetime'] = pd.to_datetime(foo['datetime'], format=\"%Y-%m-%d_%H%M\").dt.tz_convert(tz='Etc/GMT-14')\n"
     ]
    }
   ],
   "source": [
    "foo['datetime'] = pd.to_datetime(foo['datetime'], format=\"%Y-%m-%d_%H%M\").dt.tz_convert(tz='Etc/GMT-14')"
   ]
  },
  {
   "cell_type": "code",
   "execution_count": 29,
   "id": "af82b9be",
   "metadata": {},
   "outputs": [],
   "source": [
    "foo.to_csv('NSG_2016.csv')"
   ]
  },
  {
   "cell_type": "code",
   "execution_count": 30,
   "id": "6b0a1fdc",
   "metadata": {},
   "outputs": [],
   "source": [
    "foo = EWG[['Timestamp', 'Row', 'Module', 'Orientation', 'DNI', 'DHI',\n",
    "       'GHI', 'temp_air', 'wind_speed', 'solpos_zenith', 'solpos_azimuth',\n",
    "       'datetime', 'EastFacing_POA', 'WestFacing_POA',\n",
    "       'East_Performance', 'West_Performance']]"
   ]
  },
  {
   "cell_type": "code",
   "execution_count": 31,
   "id": "f89cd7ca",
   "metadata": {},
   "outputs": [
    {
     "name": "stderr",
     "output_type": "stream",
     "text": [
      "C:\\Users\\sayala\\AppData\\Local\\Temp\\1\\ipykernel_13172\\1339173081.py:1: SettingWithCopyWarning: \n",
      "A value is trying to be set on a copy of a slice from a DataFrame.\n",
      "Try using .loc[row_indexer,col_indexer] = value instead\n",
      "\n",
      "See the caveats in the documentation: https://pandas.pydata.org/pandas-docs/stable/user_guide/indexing.html#returning-a-view-versus-a-copy\n",
      "  foo['datetime'] = pd.to_datetime(foo['datetime'], format=\"%Y-%m-%d_%H%M\").dt.tz_convert(tz='Etc/GMT-14')\n"
     ]
    }
   ],
   "source": [
    "foo['datetime'] = pd.to_datetime(foo['datetime'], format=\"%Y-%m-%d_%H%M\").dt.tz_convert(tz='Etc/GMT-14')"
   ]
  },
  {
   "cell_type": "code",
   "execution_count": 32,
   "id": "2cb1a451",
   "metadata": {},
   "outputs": [],
   "source": [
    "foo.to_csv('EWG_2016.csv')"
   ]
  },
  {
   "cell_type": "code",
   "execution_count": 33,
   "id": "75e3c745",
   "metadata": {},
   "outputs": [],
   "source": [
    "NSG_center = NSG.loc[(NSG.Row == 4) & (NSG.Module == 10) ].copy()\n",
    "EWG_center = EWG.loc[(EWG.Row == 4) & (EWG.Module == 10) ].copy()\n"
   ]
  },
  {
   "cell_type": "code",
   "execution_count": 34,
   "id": "9fff9e44",
   "metadata": {},
   "outputs": [
    {
     "name": "stderr",
     "output_type": "stream",
     "text": [
      "C:\\Users\\sayala\\AppData\\Local\\Temp\\1\\ipykernel_13172\\2963461250.py:5: SettingWithCopyWarning: \n",
      "A value is trying to be set on a copy of a slice from a DataFrame.\n",
      "Try using .loc[row_indexer,col_indexer] = value instead\n",
      "\n",
      "See the caveats in the documentation: https://pandas.pydata.org/pandas-docs/stable/user_guide/indexing.html#returning-a-view-versus-a-copy\n",
      "  foo['datetime'] = pd.to_datetime(foo['datetime'], format=\"%Y-%m-%d_%H%M\").dt.tz_convert(tz='Etc/GMT-14')\n",
      "C:\\Users\\sayala\\AppData\\Local\\Temp\\1\\ipykernel_13172\\2963461250.py:12: SettingWithCopyWarning: \n",
      "A value is trying to be set on a copy of a slice from a DataFrame.\n",
      "Try using .loc[row_indexer,col_indexer] = value instead\n",
      "\n",
      "See the caveats in the documentation: https://pandas.pydata.org/pandas-docs/stable/user_guide/indexing.html#returning-a-view-versus-a-copy\n",
      "  foo['datetime'] = pd.to_datetime(foo['datetime'], format=\"%Y-%m-%d_%H%M\").dt.tz_convert(tz='Etc/GMT-14')\n"
     ]
    }
   ],
   "source": [
    "foo = NSG_center[['Timestamp', 'Row', 'Module', 'Orientation', 'DNI', 'DHI',\n",
    "       'GHI', 'temp_air', 'wind_speed', 'solpos_zenith', 'solpos_azimuth',\n",
    "       'datetime', 'SouthFacing_POA', 'NorthFacing_POA',\n",
    "       'North_Performance', 'South_Performance']]\n",
    "foo['datetime'] = pd.to_datetime(foo['datetime'], format=\"%Y-%m-%d_%H%M\").dt.tz_convert(tz='Etc/GMT-14')\n",
    "foo.to_csv('NSG_center_2016.csv')\n",
    "\n",
    "foo = EWG_center[['Timestamp', 'Row', 'Module', 'Orientation', 'DNI', 'DHI',\n",
    "       'GHI', 'temp_air', 'wind_speed', 'solpos_zenith', 'solpos_azimuth',\n",
    "       'datetime', 'EastFacing_POA', 'WestFacing_POA',\n",
    "       'East_Performance', 'West_Performance']]\n",
    "foo['datetime'] = pd.to_datetime(foo['datetime'], format=\"%Y-%m-%d_%H%M\").dt.tz_convert(tz='Etc/GMT-14')\n",
    "foo.to_csv('EWG_center_2016.csv')"
   ]
  },
  {
   "cell_type": "code",
   "execution_count": 35,
   "id": "06baf00e",
   "metadata": {},
   "outputs": [],
   "source": [
    "# UGLY MAPPING\n",
    "\n",
    "#x=range(0,len(NSG['NorthFacing_POA']))\n",
    "#plt.figure(figsize=(18, 6), dpi=80)\n",
    "\n",
    "#plt.plot(x,  NSG['NorthFacing_POA'], label='North')\n",
    "#plt.plot(x, NSG['SouthFacing_POA'], label='South')\n",
    "#x=range(0,len(EWG['EastFacing_POA']))\n",
    "#plt.plot(x,  EWG['EastFacing_POA'], label='East')\n",
    "#plt.plot(x, EWG['WestFacing_POA'], 'y', label='West')\n",
    "#plt.plot(range(45,80), np.ones(80-45)*1286, '.r', label='VF SouthFacing')\n",
    "#plt.plot(range(85,120), np.ones(120-85)*1495,  '.r')\n",
    "#plt.plot(range(120,160), np.ones(160-120)*1664,  '.r')\n",
    "#plt.plot(range(165,190), np.ones(190-165)*1602, '.r')\n",
    "#plt.plot(range(200,240), np.ones(240-200)*1470, '.r')\n",
    "#plt.plot(range(250,280), np.ones(280-250)*1193, '.r')\n",
    "#plt.plot(range(290,310), np.ones(310-290)*531, '.r')\n",
    "#plt.plot(range(320,360), np.ones(360-320)*449, '.r')\n",
    "#plt.ylabel(\"Irradiance [W/m$^2$]\")\n",
    "#plt.legend(loc='lower center', ncol=3)\n"
   ]
  },
  {
   "cell_type": "markdown",
   "id": "42b1c894",
   "metadata": {},
   "source": [
    "## WORKING WITH 2021-02-21_0200"
   ]
  },
  {
   "cell_type": "code",
   "execution_count": 36,
   "id": "ecc0e4b3",
   "metadata": {},
   "outputs": [],
   "source": [
    "Wm2Front = pd.DataFrame(item for item in NSG[NSG['Timestamp'] == '2016-12-21_0500']['Wm2Front'])\n",
    "Wm2Back = pd.DataFrame(item for item in NSG[NSG['Timestamp'] == '2016-12-21_0500']['Wm2Back'])\n",
    "SouthF = (Wm2Front+Wm2Back*0.6)\n",
    "NorthF = (Wm2Front*0.6+Wm2Back)\n",
    "\n",
    "Wm2Front = pd.DataFrame(item for item in EWG[EWG['Timestamp'] == '2016-12-21_0500']['Wm2Front'])\n",
    "Wm2Back = pd.DataFrame(item for item in EWG[EWG['Timestamp'] == '2016-12-21_0500']['Wm2Back'])\n",
    "EastF = (Wm2Front+Wm2Back*0.6)\n",
    "WestF = (Wm2Front*0.6+Wm2Back)"
   ]
  },
  {
   "cell_type": "code",
   "execution_count": 37,
   "id": "e0fb4ff9",
   "metadata": {},
   "outputs": [
    {
     "ename": "KeyError",
     "evalue": "0",
     "output_type": "error",
     "traceback": [
      "\u001b[1;31m---------------------------------------------------------------------------\u001b[0m",
      "\u001b[1;31mKeyError\u001b[0m                                  Traceback (most recent call last)",
      "\u001b[1;32mC:\\ProgramData\\Anaconda3\\lib\\site-packages\\pandas\\core\\indexes\\base.py\u001b[0m in \u001b[0;36mget_loc\u001b[1;34m(self, key, method, tolerance)\u001b[0m\n\u001b[0;32m   3628\u001b[0m             \u001b[1;32mtry\u001b[0m\u001b[1;33m:\u001b[0m\u001b[1;33m\u001b[0m\u001b[1;33m\u001b[0m\u001b[0m\n\u001b[1;32m-> 3629\u001b[1;33m                 \u001b[1;32mreturn\u001b[0m \u001b[0mself\u001b[0m\u001b[1;33m.\u001b[0m\u001b[0m_engine\u001b[0m\u001b[1;33m.\u001b[0m\u001b[0mget_loc\u001b[0m\u001b[1;33m(\u001b[0m\u001b[0mcasted_key\u001b[0m\u001b[1;33m)\u001b[0m\u001b[1;33m\u001b[0m\u001b[1;33m\u001b[0m\u001b[0m\n\u001b[0m\u001b[0;32m   3630\u001b[0m             \u001b[1;32mexcept\u001b[0m \u001b[0mKeyError\u001b[0m \u001b[1;32mas\u001b[0m \u001b[0merr\u001b[0m\u001b[1;33m:\u001b[0m\u001b[1;33m\u001b[0m\u001b[1;33m\u001b[0m\u001b[0m\n",
      "\u001b[1;32mC:\\ProgramData\\Anaconda3\\lib\\site-packages\\pandas\\_libs\\index.pyx\u001b[0m in \u001b[0;36mpandas._libs.index.IndexEngine.get_loc\u001b[1;34m()\u001b[0m\n",
      "\u001b[1;32mC:\\ProgramData\\Anaconda3\\lib\\site-packages\\pandas\\_libs\\index.pyx\u001b[0m in \u001b[0;36mpandas._libs.index.IndexEngine.get_loc\u001b[1;34m()\u001b[0m\n",
      "\u001b[1;32mpandas\\_libs\\hashtable_class_helper.pxi\u001b[0m in \u001b[0;36mpandas._libs.hashtable.PyObjectHashTable.get_item\u001b[1;34m()\u001b[0m\n",
      "\u001b[1;32mpandas\\_libs\\hashtable_class_helper.pxi\u001b[0m in \u001b[0;36mpandas._libs.hashtable.PyObjectHashTable.get_item\u001b[1;34m()\u001b[0m\n",
      "\u001b[1;31mKeyError\u001b[0m: 0",
      "\nThe above exception was the direct cause of the following exception:\n",
      "\u001b[1;31mKeyError\u001b[0m                                  Traceback (most recent call last)",
      "\u001b[1;32m~\\AppData\\Local\\Temp\\1\\ipykernel_13172\\334507029.py\u001b[0m in \u001b[0;36m<module>\u001b[1;34m\u001b[0m\n\u001b[0;32m     13\u001b[0m     \u001b[1;32mfor\u001b[0m \u001b[0mmm\u001b[0m \u001b[1;32min\u001b[0m \u001b[0mrange\u001b[0m \u001b[1;33m(\u001b[0m\u001b[1;36m0\u001b[0m\u001b[1;33m,\u001b[0m \u001b[1;36m5\u001b[0m\u001b[1;33m)\u001b[0m\u001b[1;33m:\u001b[0m\u001b[1;33m\u001b[0m\u001b[1;33m\u001b[0m\u001b[0m\n\u001b[0;32m     14\u001b[0m         \u001b[1;31m# North\u001b[0m\u001b[1;33m\u001b[0m\u001b[1;33m\u001b[0m\u001b[0m\n\u001b[1;32m---> 15\u001b[1;33m         \u001b[0mmy_list\u001b[0m \u001b[1;33m=\u001b[0m \u001b[0mNorthF\u001b[0m\u001b[1;33m.\u001b[0m\u001b[0mloc\u001b[0m\u001b[1;33m[\u001b[0m\u001b[0mii\u001b[0m\u001b[1;33m]\u001b[0m\u001b[1;33m\u001b[0m\u001b[1;33m\u001b[0m\u001b[0m\n\u001b[0m\u001b[0;32m     16\u001b[0m         \u001b[0mmy_list\u001b[0m \u001b[1;33m=\u001b[0m \u001b[0mpd\u001b[0m\u001b[1;33m.\u001b[0m\u001b[0mDataFrame\u001b[0m\u001b[1;33m(\u001b[0m\u001b[0mnp\u001b[0m\u001b[1;33m.\u001b[0m\u001b[0marray\u001b[0m\u001b[1;33m(\u001b[0m\u001b[0mmy_list\u001b[0m\u001b[1;33m)\u001b[0m\u001b[1;33m.\u001b[0m\u001b[0mreshape\u001b[0m\u001b[1;33m(\u001b[0m\u001b[1;36m6\u001b[0m\u001b[1;33m,\u001b[0m\u001b[1;36m9\u001b[0m\u001b[1;33m)\u001b[0m\u001b[1;33m)\u001b[0m\u001b[1;33m.\u001b[0m\u001b[0mT\u001b[0m\u001b[1;33m\u001b[0m\u001b[1;33m\u001b[0m\u001b[0m\n\u001b[0;32m     17\u001b[0m         \u001b[0mrowallN\u001b[0m \u001b[1;33m=\u001b[0m \u001b[0mpd\u001b[0m\u001b[1;33m.\u001b[0m\u001b[0mconcat\u001b[0m\u001b[1;33m(\u001b[0m\u001b[1;33m[\u001b[0m\u001b[0mrowallN\u001b[0m\u001b[1;33m,\u001b[0m \u001b[0mmy_list\u001b[0m\u001b[1;33m]\u001b[0m\u001b[1;33m,\u001b[0m \u001b[0maxis\u001b[0m\u001b[1;33m=\u001b[0m\u001b[1;36m1\u001b[0m\u001b[1;33m)\u001b[0m\u001b[1;33m\u001b[0m\u001b[1;33m\u001b[0m\u001b[0m\n",
      "\u001b[1;32mC:\\ProgramData\\Anaconda3\\lib\\site-packages\\pandas\\core\\indexing.py\u001b[0m in \u001b[0;36m__getitem__\u001b[1;34m(self, key)\u001b[0m\n\u001b[0;32m    965\u001b[0m \u001b[1;33m\u001b[0m\u001b[0m\n\u001b[0;32m    966\u001b[0m             \u001b[0mmaybe_callable\u001b[0m \u001b[1;33m=\u001b[0m \u001b[0mcom\u001b[0m\u001b[1;33m.\u001b[0m\u001b[0mapply_if_callable\u001b[0m\u001b[1;33m(\u001b[0m\u001b[0mkey\u001b[0m\u001b[1;33m,\u001b[0m \u001b[0mself\u001b[0m\u001b[1;33m.\u001b[0m\u001b[0mobj\u001b[0m\u001b[1;33m)\u001b[0m\u001b[1;33m\u001b[0m\u001b[1;33m\u001b[0m\u001b[0m\n\u001b[1;32m--> 967\u001b[1;33m             \u001b[1;32mreturn\u001b[0m \u001b[0mself\u001b[0m\u001b[1;33m.\u001b[0m\u001b[0m_getitem_axis\u001b[0m\u001b[1;33m(\u001b[0m\u001b[0mmaybe_callable\u001b[0m\u001b[1;33m,\u001b[0m \u001b[0maxis\u001b[0m\u001b[1;33m=\u001b[0m\u001b[0maxis\u001b[0m\u001b[1;33m)\u001b[0m\u001b[1;33m\u001b[0m\u001b[1;33m\u001b[0m\u001b[0m\n\u001b[0m\u001b[0;32m    968\u001b[0m \u001b[1;33m\u001b[0m\u001b[0m\n\u001b[0;32m    969\u001b[0m     \u001b[1;32mdef\u001b[0m \u001b[0m_is_scalar_access\u001b[0m\u001b[1;33m(\u001b[0m\u001b[0mself\u001b[0m\u001b[1;33m,\u001b[0m \u001b[0mkey\u001b[0m\u001b[1;33m:\u001b[0m \u001b[0mtuple\u001b[0m\u001b[1;33m)\u001b[0m\u001b[1;33m:\u001b[0m\u001b[1;33m\u001b[0m\u001b[1;33m\u001b[0m\u001b[0m\n",
      "\u001b[1;32mC:\\ProgramData\\Anaconda3\\lib\\site-packages\\pandas\\core\\indexing.py\u001b[0m in \u001b[0;36m_getitem_axis\u001b[1;34m(self, key, axis)\u001b[0m\n\u001b[0;32m   1203\u001b[0m         \u001b[1;31m# fall thru to straight lookup\u001b[0m\u001b[1;33m\u001b[0m\u001b[1;33m\u001b[0m\u001b[0m\n\u001b[0;32m   1204\u001b[0m         \u001b[0mself\u001b[0m\u001b[1;33m.\u001b[0m\u001b[0m_validate_key\u001b[0m\u001b[1;33m(\u001b[0m\u001b[0mkey\u001b[0m\u001b[1;33m,\u001b[0m \u001b[0maxis\u001b[0m\u001b[1;33m)\u001b[0m\u001b[1;33m\u001b[0m\u001b[1;33m\u001b[0m\u001b[0m\n\u001b[1;32m-> 1205\u001b[1;33m         \u001b[1;32mreturn\u001b[0m \u001b[0mself\u001b[0m\u001b[1;33m.\u001b[0m\u001b[0m_get_label\u001b[0m\u001b[1;33m(\u001b[0m\u001b[0mkey\u001b[0m\u001b[1;33m,\u001b[0m \u001b[0maxis\u001b[0m\u001b[1;33m=\u001b[0m\u001b[0maxis\u001b[0m\u001b[1;33m)\u001b[0m\u001b[1;33m\u001b[0m\u001b[1;33m\u001b[0m\u001b[0m\n\u001b[0m\u001b[0;32m   1206\u001b[0m \u001b[1;33m\u001b[0m\u001b[0m\n\u001b[0;32m   1207\u001b[0m     \u001b[1;32mdef\u001b[0m \u001b[0m_get_slice_axis\u001b[0m\u001b[1;33m(\u001b[0m\u001b[0mself\u001b[0m\u001b[1;33m,\u001b[0m \u001b[0mslice_obj\u001b[0m\u001b[1;33m:\u001b[0m \u001b[0mslice\u001b[0m\u001b[1;33m,\u001b[0m \u001b[0maxis\u001b[0m\u001b[1;33m:\u001b[0m \u001b[0mint\u001b[0m\u001b[1;33m)\u001b[0m\u001b[1;33m:\u001b[0m\u001b[1;33m\u001b[0m\u001b[1;33m\u001b[0m\u001b[0m\n",
      "\u001b[1;32mC:\\ProgramData\\Anaconda3\\lib\\site-packages\\pandas\\core\\indexing.py\u001b[0m in \u001b[0;36m_get_label\u001b[1;34m(self, label, axis)\u001b[0m\n\u001b[0;32m   1151\u001b[0m     \u001b[1;32mdef\u001b[0m \u001b[0m_get_label\u001b[0m\u001b[1;33m(\u001b[0m\u001b[0mself\u001b[0m\u001b[1;33m,\u001b[0m \u001b[0mlabel\u001b[0m\u001b[1;33m,\u001b[0m \u001b[0maxis\u001b[0m\u001b[1;33m:\u001b[0m \u001b[0mint\u001b[0m\u001b[1;33m)\u001b[0m\u001b[1;33m:\u001b[0m\u001b[1;33m\u001b[0m\u001b[1;33m\u001b[0m\u001b[0m\n\u001b[0;32m   1152\u001b[0m         \u001b[1;31m# GH#5667 this will fail if the label is not present in the axis.\u001b[0m\u001b[1;33m\u001b[0m\u001b[1;33m\u001b[0m\u001b[0m\n\u001b[1;32m-> 1153\u001b[1;33m         \u001b[1;32mreturn\u001b[0m \u001b[0mself\u001b[0m\u001b[1;33m.\u001b[0m\u001b[0mobj\u001b[0m\u001b[1;33m.\u001b[0m\u001b[0mxs\u001b[0m\u001b[1;33m(\u001b[0m\u001b[0mlabel\u001b[0m\u001b[1;33m,\u001b[0m \u001b[0maxis\u001b[0m\u001b[1;33m=\u001b[0m\u001b[0maxis\u001b[0m\u001b[1;33m)\u001b[0m\u001b[1;33m\u001b[0m\u001b[1;33m\u001b[0m\u001b[0m\n\u001b[0m\u001b[0;32m   1154\u001b[0m \u001b[1;33m\u001b[0m\u001b[0m\n\u001b[0;32m   1155\u001b[0m     \u001b[1;32mdef\u001b[0m \u001b[0m_handle_lowerdim_multi_index_axis0\u001b[0m\u001b[1;33m(\u001b[0m\u001b[0mself\u001b[0m\u001b[1;33m,\u001b[0m \u001b[0mtup\u001b[0m\u001b[1;33m:\u001b[0m \u001b[0mtuple\u001b[0m\u001b[1;33m)\u001b[0m\u001b[1;33m:\u001b[0m\u001b[1;33m\u001b[0m\u001b[1;33m\u001b[0m\u001b[0m\n",
      "\u001b[1;32mC:\\ProgramData\\Anaconda3\\lib\\site-packages\\pandas\\core\\generic.py\u001b[0m in \u001b[0;36mxs\u001b[1;34m(self, key, axis, level, drop_level)\u001b[0m\n\u001b[0;32m   3862\u001b[0m                     \u001b[0mnew_index\u001b[0m \u001b[1;33m=\u001b[0m \u001b[0mindex\u001b[0m\u001b[1;33m[\u001b[0m\u001b[0mloc\u001b[0m\u001b[1;33m]\u001b[0m\u001b[1;33m\u001b[0m\u001b[1;33m\u001b[0m\u001b[0m\n\u001b[0;32m   3863\u001b[0m         \u001b[1;32melse\u001b[0m\u001b[1;33m:\u001b[0m\u001b[1;33m\u001b[0m\u001b[1;33m\u001b[0m\u001b[0m\n\u001b[1;32m-> 3864\u001b[1;33m             \u001b[0mloc\u001b[0m \u001b[1;33m=\u001b[0m \u001b[0mindex\u001b[0m\u001b[1;33m.\u001b[0m\u001b[0mget_loc\u001b[0m\u001b[1;33m(\u001b[0m\u001b[0mkey\u001b[0m\u001b[1;33m)\u001b[0m\u001b[1;33m\u001b[0m\u001b[1;33m\u001b[0m\u001b[0m\n\u001b[0m\u001b[0;32m   3865\u001b[0m \u001b[1;33m\u001b[0m\u001b[0m\n\u001b[0;32m   3866\u001b[0m             \u001b[1;32mif\u001b[0m \u001b[0misinstance\u001b[0m\u001b[1;33m(\u001b[0m\u001b[0mloc\u001b[0m\u001b[1;33m,\u001b[0m \u001b[0mnp\u001b[0m\u001b[1;33m.\u001b[0m\u001b[0mndarray\u001b[0m\u001b[1;33m)\u001b[0m\u001b[1;33m:\u001b[0m\u001b[1;33m\u001b[0m\u001b[1;33m\u001b[0m\u001b[0m\n",
      "\u001b[1;32mC:\\ProgramData\\Anaconda3\\lib\\site-packages\\pandas\\core\\indexes\\base.py\u001b[0m in \u001b[0;36mget_loc\u001b[1;34m(self, key, method, tolerance)\u001b[0m\n\u001b[0;32m   3629\u001b[0m                 \u001b[1;32mreturn\u001b[0m \u001b[0mself\u001b[0m\u001b[1;33m.\u001b[0m\u001b[0m_engine\u001b[0m\u001b[1;33m.\u001b[0m\u001b[0mget_loc\u001b[0m\u001b[1;33m(\u001b[0m\u001b[0mcasted_key\u001b[0m\u001b[1;33m)\u001b[0m\u001b[1;33m\u001b[0m\u001b[1;33m\u001b[0m\u001b[0m\n\u001b[0;32m   3630\u001b[0m             \u001b[1;32mexcept\u001b[0m \u001b[0mKeyError\u001b[0m \u001b[1;32mas\u001b[0m \u001b[0merr\u001b[0m\u001b[1;33m:\u001b[0m\u001b[1;33m\u001b[0m\u001b[1;33m\u001b[0m\u001b[0m\n\u001b[1;32m-> 3631\u001b[1;33m                 \u001b[1;32mraise\u001b[0m \u001b[0mKeyError\u001b[0m\u001b[1;33m(\u001b[0m\u001b[0mkey\u001b[0m\u001b[1;33m)\u001b[0m \u001b[1;32mfrom\u001b[0m \u001b[0merr\u001b[0m\u001b[1;33m\u001b[0m\u001b[1;33m\u001b[0m\u001b[0m\n\u001b[0m\u001b[0;32m   3632\u001b[0m             \u001b[1;32mexcept\u001b[0m \u001b[0mTypeError\u001b[0m\u001b[1;33m:\u001b[0m\u001b[1;33m\u001b[0m\u001b[1;33m\u001b[0m\u001b[0m\n\u001b[0;32m   3633\u001b[0m                 \u001b[1;31m# If we have a listlike key, _check_indexing_error will raise\u001b[0m\u001b[1;33m\u001b[0m\u001b[1;33m\u001b[0m\u001b[0m\n",
      "\u001b[1;31mKeyError\u001b[0m: 0"
     ]
    }
   ],
   "source": [
    "ii = 0\n",
    "arrayallN = pd.DataFrame()\n",
    "arrayallS = pd.DataFrame()\n",
    "arrayallE = pd.DataFrame()\n",
    "arrayallW = pd.DataFrame()\n",
    "\n",
    "for rr in range (0, 5):\n",
    "    rowallN = pd.DataFrame()\n",
    "    rowallS = pd.DataFrame()\n",
    "    rowallE = pd.DataFrame()\n",
    "    rowallW = pd.DataFrame()\n",
    "\n",
    "    for mm in range (0, 5):\n",
    "        # North\n",
    "        my_list = NorthF.loc[ii]\n",
    "        my_list = pd.DataFrame(np.array(my_list).reshape(6,9)).T\n",
    "        rowallN = pd.concat([rowallN, my_list], axis=1)\n",
    "        # South\n",
    "        my_list = SouthF.loc[ii]\n",
    "        my_list = pd.DataFrame(np.array(my_list).reshape(6,9)).T\n",
    "        rowallS = pd.concat([rowallS, my_list], axis=1)\n",
    "        # East\n",
    "        my_list = EastF.loc[ii]\n",
    "        my_list = pd.DataFrame(np.array(my_list).reshape(6,9)).T\n",
    "        rowallE = pd.concat([rowallE, my_list], axis=1)\n",
    "        # West\n",
    "        my_list = WestF.loc[ii]\n",
    "        my_list = pd.DataFrame(np.array(my_list).reshape(6,9)).T\n",
    "        rowallW = pd.concat([rowallW, my_list], axis=1)\n",
    "        ii += 1\n",
    "    arrayallN = pd.concat([arrayallN, rowallN], axis=0, sort=False, ignore_index=True)\n",
    "    arrayallS = pd.concat([arrayallS, rowallS], axis=0, sort=False, ignore_index=True)\n",
    "    arrayallE = pd.concat([arrayallE, rowallE], axis=0, sort=False, ignore_index=True)\n",
    "    arrayallW = pd.concat([arrayallW, rowallW], axis=0, sort=False, ignore_index=True)"
   ]
  },
  {
   "cell_type": "code",
   "execution_count": null,
   "id": "1af190cb",
   "metadata": {},
   "outputs": [],
   "source": [
    "maxmax = np.max([arrayallN.max().max(),\n",
    "arrayallS.max().max(),\n",
    "arrayallE.max().max(),\n",
    "arrayallW.max().max()])\n",
    "\n",
    "minmin = np.min([arrayallN.min().min(),\n",
    "arrayallS.min().min(),\n",
    "arrayallE.min().min(),\n",
    "arrayallW.min().min()])\n",
    "\n",
    "print(\"Max Irradiance in the 4 arrays: \", np.round(maxmax))\n",
    "print(\"Min Irradiance in the 4 arrays: \", np.round(minmin))"
   ]
  },
  {
   "cell_type": "code",
   "execution_count": null,
   "id": "9e54bd5e",
   "metadata": {
    "scrolled": false
   },
   "outputs": [],
   "source": [
    "# Printing POA_t (Gfront + Grear*bifaciality)) on each Cell\n",
    "\n",
    "plt.rcParams.update({'font.size': 22})\n",
    "plt.rcParams['figure.figsize'] = (12, 8)\n",
    "\n",
    "df = arrayallN\n",
    "\n",
    "with sns.axes_style(\"white\"):\n",
    "    fig = plt.imshow(df, cmap='hot', vmin=minmin, vmax=maxmax, interpolation='none', aspect = 0.4)\n",
    "    plt.colorbar(label='POA Irradiance W/m$^2}$')\n",
    "    #plt.title('Yearly Bifacial, in matrix form')\n",
    "    fig.axes.get_yaxis().set_visible(False)\n",
    "    fig.axes.get_xaxis().set_visible(False)\n",
    "plt.title(\"North\")    \n",
    "plt.show()\n",
    "\n",
    "plt.figure()\n",
    "\n",
    "df = arrayallS\n",
    "\n",
    "\n",
    "with sns.axes_style(\"white\"):\n",
    "    fig = plt.imshow(df, cmap='hot', vmin=minmin, vmax=maxmax, interpolation='none', aspect = 0.4)\n",
    "    plt.colorbar(label='POA Irradiance W/m$^2}$')\n",
    "    #plt.title('Yearly Bifacial, in matrix form')\n",
    "    fig.axes.get_yaxis().set_visible(False)\n",
    "    fig.axes.get_xaxis().set_visible(False)\n",
    "plt.title(\"South\")        \n",
    "plt.show()\n",
    "\n",
    "plt.figure()\n",
    "\n",
    "df = arrayallE\n",
    "\n",
    "\n",
    "with sns.axes_style(\"white\"):\n",
    "    fig = plt.imshow(df, cmap='hot', vmin=minmin, vmax=maxmax, interpolation='none', aspect = 0.4)\n",
    "    plt.colorbar(label='POA Irradiance W/m$^2}$')\n",
    "    #plt.title('Yearly Bifacial, in matrix form')\n",
    "    fig.axes.get_yaxis().set_visible(False)\n",
    "    fig.axes.get_xaxis().set_visible(False)\n",
    "plt.title(\"East\")        \n",
    "plt.show()\n",
    "\n",
    "plt.figure()\n",
    "\n",
    "df = arrayallW\n",
    "\n",
    "with sns.axes_style(\"white\"):\n",
    "    fig = plt.imshow(df, cmap='hot', vmin=minmin, vmax=maxmax, interpolation='none', aspect = 0.4)\n",
    "    plt.colorbar(label='POA Irradiance W/m$^2}$')\n",
    "    #plt.title('Yearly Bifacial, in matrix form')\n",
    "    fig.axes.get_yaxis().set_visible(False)\n",
    "    fig.axes.get_xaxis().set_visible(False)\n",
    "plt.title(\"West\")        \n",
    "plt.show()"
   ]
  },
  {
   "cell_type": "markdown",
   "id": "12888941",
   "metadata": {},
   "source": [
    "# MAP PERFORMANCES"
   ]
  },
  {
   "cell_type": "code",
   "execution_count": null,
   "id": "4599c4c8",
   "metadata": {},
   "outputs": [],
   "source": [
    "ii = 0\n",
    "PowerallN = []\n",
    "PowerallS = []\n",
    "PowerallE = []\n",
    "PowerallW = []\n",
    "\n",
    "for rr in range (0, 4):\n",
    "    rowallN = []\n",
    "    rowallS = []\n",
    "    rowallE = []\n",
    "    rowallW = []\n",
    "\n",
    "    for mm in range (0, 10):\n",
    "        ii += 1\n",
    "        rowallN.append(NSG['North_Performance'].iloc[ii])\n",
    "        rowallS.append(NSG['South_Performance'].iloc[ii])\n",
    "        rowallE.append(EWG['East_Performance'].iloc[ii])\n",
    "        rowallW.append(EWG['West_Performance'].iloc[ii])\n",
    "\n",
    "    PowerallN.append(rowallN)\n",
    "    PowerallS.append(rowallS)\n",
    "    PowerallE.append(rowallE)\n",
    "    PowerallW.append(rowallW)\n",
    "\n",
    "PowerallN = pd.DataFrame(PowerallN)\n",
    "PowerallS = pd.DataFrame(PowerallS)\n",
    "PowerallE = pd.DataFrame(PowerallE)\n",
    "PowerallW = pd.DataFrame(PowerallW)"
   ]
  },
  {
   "cell_type": "code",
   "execution_count": null,
   "id": "47c4bd3b",
   "metadata": {},
   "outputs": [],
   "source": [
    "A = [PowerallN.max().max(),\n",
    "PowerallS.max().max(),\n",
    "PowerallE.max().max(),\n",
    "PowerallW.max().max()]\n",
    "\n",
    "B = [PowerallN.min().min(),\n",
    "PowerallS.min().min(),\n",
    "PowerallE.min().min(),\n",
    "PowerallW.min().min()]\n",
    "\n",
    "print(\"Power Mismatch in each array\", np.round(np.subtract(A, B)*100/A), '%')\n",
    "print(\"Max Module Power in each array\", np.round(A), 'W')\n",
    "print(\"Min Module Power in each array\", np.round(B), 'W')"
   ]
  },
  {
   "cell_type": "code",
   "execution_count": null,
   "id": "1db2e68c",
   "metadata": {},
   "outputs": [],
   "source": [
    "nameplate_array = 300*40\n",
    "print(\"Power Array Nameplate \", np.round(nameplate_array/1000,1), \" kW\")\n",
    "print(\"Power Array N S E W \", np.round(np.multiply(B,40/1000),1), \" kW\")\n",
    "print(\"PR Array N S E W\", np.round(np.multiply(B,40/nameplate_array),2))"
   ]
  },
  {
   "cell_type": "code",
   "execution_count": null,
   "id": "e5bfe1b5",
   "metadata": {},
   "outputs": [],
   "source": [
    "# Printing Timestamp Data\n",
    "print(NSG.iloc[30]['Timestamp'])\n",
    "print(\"--------------------------\")\n",
    "print(\"solpos_zenith\", np.round(NSG.iloc[0]['solpos_zenith'],1))\n",
    "print(\"solpos_azimuth\", np.round(NSG.iloc[0]['solpos_azimuth'],1))\n",
    "print(\"DNI\", np.round(NSG.iloc[0]['DNI'],1))\n",
    "print(\"DHI\", np.round(NSG.iloc[0]['DHI'],1))\n",
    "print(\"GHI\", np.round(NSG.iloc[0]['GHI'],1))\n",
    "print(\"wind_speed\", np.round(NSG.iloc[0]['wind_speed'],1))\n",
    "print(\"temp_air\", np.round(NSG.iloc[0]['temp_air'],1))"
   ]
  },
  {
   "cell_type": "code",
   "execution_count": null,
   "id": "c00eb0a7",
   "metadata": {
    "scrolled": false
   },
   "outputs": [],
   "source": [
    "# Plotting Performance\n",
    "df = PowerallN\n",
    "maxmax = np.max(A)\n",
    "minmin = np.min(B)\n",
    "\n",
    "plt.rcParams.update({'font.size': 22})\n",
    "plt.rcParams['figure.figsize'] = (12, 8)\n",
    "\n",
    "\n",
    "with sns.axes_style(\"white\"):\n",
    "    fig = plt.imshow(df, cmap='hot', vmin=minmin, vmax=maxmax, interpolation='none', aspect = 1.5)\n",
    "    plt.colorbar(label='Power [W/m$^2$]')\n",
    "    #plt.title('Yearly Bifacial, in matrix form')\n",
    "    fig.axes.get_yaxis().set_visible(False)\n",
    "    fig.axes.get_xaxis().set_visible(False)\n",
    "plt.title(\"North\")   \n",
    "plt.show()\n",
    "\n",
    "plt.figure()\n",
    "\n",
    "df = PowerallS\n",
    "\n",
    "plt.rcParams.update({'font.size': 22})\n",
    "plt.rcParams['figure.figsize'] = (12, 8)\n",
    "\n",
    "\n",
    "with sns.axes_style(\"white\"):\n",
    "    fig = plt.imshow(df, cmap='hot', vmin=minmin, vmax=maxmax, interpolation='none', aspect =  1.5)\n",
    "    plt.colorbar(label='Power [W/m$^2$]')\n",
    "    #plt.title('Yearly Bifacial, in matrix form')\n",
    "    fig.axes.get_yaxis().set_visible(False)\n",
    "    fig.axes.get_xaxis().set_visible(False)\n",
    "plt.title(\"South\")   \n",
    "\n",
    "plt.show()\n",
    "\n",
    "plt.figure()\n",
    "\n",
    "df = PowerallE\n",
    "\n",
    "plt.rcParams.update({'font.size': 22})\n",
    "plt.rcParams['figure.figsize'] = (12, 8)\n",
    "\n",
    "\n",
    "with sns.axes_style(\"white\"):\n",
    "    fig = plt.imshow(df, cmap='hot', vmin=minmin, vmax=maxmax, interpolation='none', aspect =  1.5)\n",
    "    plt.colorbar(label='Power [W/m$^2$]')\n",
    "    #plt.title('Yearly Bifacial, in matrix form')\n",
    "    fig.axes.get_yaxis().set_visible(False)\n",
    "    fig.axes.get_xaxis().set_visible(False)\n",
    "plt.title(\"East\")   \n",
    "\n",
    "plt.show()\n",
    "\n",
    "plt.figure()\n",
    "\n",
    "df = PowerallW\n",
    "\n",
    "plt.rcParams.update({'font.size': 22})\n",
    "plt.rcParams['figure.figsize'] = (12, 8)\n",
    "\n",
    "\n",
    "with sns.axes_style(\"white\"):\n",
    "    fig = plt.imshow(df, cmap='hot', vmin=minmin, vmax=maxmax, interpolation='none', aspect =  1.5)\n",
    "    plt.colorbar(label='Power [W/m$^2$]')\n",
    "    #plt.title('Yearly Bifacial, in matrix form')\n",
    "    fig.axes.get_yaxis().set_visible(False)\n",
    "    fig.axes.get_xaxis().set_visible(False)\n",
    "plt.title(\"West\")   \n",
    "plt.show()"
   ]
  },
  {
   "cell_type": "code",
   "execution_count": null,
   "id": "643eaa84",
   "metadata": {},
   "outputs": [],
   "source": []
  },
  {
   "cell_type": "code",
   "execution_count": null,
   "id": "683a5a80",
   "metadata": {},
   "outputs": [],
   "source": []
  }
 ],
 "metadata": {
  "kernelspec": {
   "display_name": "Python 3 (ipykernel)",
   "language": "python",
   "name": "python3"
  },
  "language_info": {
   "codemirror_mode": {
    "name": "ipython",
    "version": 3
   },
   "file_extension": ".py",
   "mimetype": "text/x-python",
   "name": "python",
   "nbconvert_exporter": "python",
   "pygments_lexer": "ipython3",
   "version": "3.9.13"
  }
 },
 "nbformat": 4,
 "nbformat_minor": 5
}

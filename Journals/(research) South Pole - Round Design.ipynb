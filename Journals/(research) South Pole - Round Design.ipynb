{
 "cells": [
  {
   "cell_type": "code",
   "execution_count": 1,
   "id": "ea7d39f1",
   "metadata": {},
   "outputs": [
    {
     "data": {
      "text/plain": [
       "'0.4.1+119.g59c6985.dirty'"
      ]
     },
     "execution_count": 1,
     "metadata": {},
     "output_type": "execute_result"
    }
   ],
   "source": [
    "import os\n",
    "import numpy as np\n",
    "import pandas as pd\n",
    "from pathlib import Path\n",
    "import bifacial_radiance\n",
    "bifacial_radiance.__version__"
   ]
  },
  {
   "cell_type": "code",
   "execution_count": 2,
   "id": "ebd97979",
   "metadata": {},
   "outputs": [],
   "source": [
    "testfolder = r'TEMP\\RoundDesign'\n",
    "if not os.path.exists(testfolder):\n",
    "    os.makedirs(testfolder)\n"
   ]
  },
  {
   "cell_type": "code",
   "execution_count": 3,
   "id": "3e45559c",
   "metadata": {},
   "outputs": [
    {
     "name": "stdout",
     "output_type": "stream",
     "text": [
      "path = TEMP\\SquareDesign\n",
      "Loading albedo, 1 value(s), 0.700 avg\n",
      "1 nonzero albedo values.\n",
      "8760 line in WeatherFile. Assuming this is a standard hourly WeatherFile for the year for purposes of saving Gencumulativesky temporary weather files in EPW folder.\n",
      "Coercing year to 2021\n",
      "Saving file EPWs\\metdata_temp.csv, # points: 8760\n",
      "Calculating Sun position for Metdata that is left-labeled  with a delta of +30 mins. i.e. 12 is 12:30 sunpos.\n"
     ]
    },
    {
     "name": "stderr",
     "output_type": "stream",
     "text": [
      "C:\\Users\\sayala\\Documents\\GitHub\\pvlib-python\\pvlib\\spa.py:1200: RuntimeWarning: invalid value encountered in remainder\n",
      "  H0 = np.degrees(np.arccos(cos_arg)) % 180\n",
      "C:\\Users\\sayala\\Documents\\GitHub\\pvlib-python\\pvlib\\spa.py:1211: RuntimeWarning: invalid value encountered in remainder\n",
      "  m[1] = m[1] % 1\n",
      "C:\\Users\\sayala\\Documents\\GitHub\\pvlib-python\\pvlib\\spa.py:1212: RuntimeWarning: invalid value encountered in remainder\n",
      "  m[2] = m[2] % 1\n",
      "C:\\Users\\sayala\\Documents\\GitHub\\pvlib-python\\pvlib\\spa.py:1229: RuntimeWarning: invalid value encountered in remainder\n",
      "  Hp = (vs + lon - alpha_prime) % 360\n"
     ]
    }
   ],
   "source": [
    "rawfile = r'..\\..\\SAM_SP_WeatherFile.csv'\n",
    "demo = bifacial_radiance.RadianceObj(\"SouthPole\", path = testfolder)  # Create a RadianceObj 'object'\n",
    "demo.setGround(0.7)\n",
    "metdata = demo.readWeatherFile(rawfile, source='SAM') "
   ]
  },
  {
   "cell_type": "code",
   "execution_count": 4,
   "id": "7532a410",
   "metadata": {},
   "outputs": [
    {
     "name": "stdout",
     "output_type": "stream",
     "text": [
      "\n",
      "Module Name: module\n",
      "Module module updated in module.json\n"
     ]
    }
   ],
   "source": [
    "timestamp = metdata.datetime.index(pd.to_datetime('2021-12-24 13:0:0 -0'))\n",
    "demo.gendaylit(timestamp) \n",
    "\n",
    "# For sanity check, we are creating the same module but with different names for each orientation.\n",
    "numpanels=1 \n",
    "ygap = 0.01 # m Spacing between modules on each shed.\n",
    "y=2   # m. module size, one side\n",
    "x=1   # m. module size, other side. for landscape, x > y\n",
    "xgap = 2\n",
    "mymodule = demo.makeModule(name='module',y=y,x=x, numpanels=numpanels, xgap=xgap, ygap=ygap)"
   ]
  },
  {
   "cell_type": "code",
   "execution_count": null,
   "id": "81df409b",
   "metadata": {},
   "outputs": [],
   "source": [
    "Rays = 15\n",
    "pitch = 5\n",
    "innerR = 5\n",
    "nMods = 1\n",
    "nRows = 10\n",
    "clearance_height = 0.5\n",
    "\n",
    "sceneObjDict = {}\n",
    "for rr in range(0, Rays):\n",
    "    ray_azm = 0 + 360*rr/Rays\n",
    "    centerpitch = innerR + pitch*(nRows-1)/2         # This might be off by half a pitch, check for even and odd nMods  \n",
    "    azm = ray_azm - 90  # Radiance and Pvlib use N = 0, so converting\n",
    "    centerpitch_x = centerpitch*np.cos(np.radians(azm))\n",
    "    centerpitch_y = centerpitch*np.sin(np.radians(azm))*-1\n",
    "    sceneDict = {'tilt':90,'pitch':pitch,'clearance_height':clearance_height,'azimuth':ray_azm, 'nMods': 1, 'nRows': nRows, \n",
    "             'appendRadfile':True, 'originx': centerpitch_x, 'originy': centerpitch_y} \n",
    "    sceneObjDict['sceneObj'+str(rr)] = demo.makeScene(mymodule, sceneDict)  "
   ]
  },
  {
   "cell_type": "code",
   "execution_count": null,
   "id": "aa554a5e",
   "metadata": {},
   "outputs": [],
   "source": [
    "octfile = demo.makeOct(demo.getfilelist()) "
   ]
  },
  {
   "cell_type": "code",
   "execution_count": null,
   "id": "0c1dd862",
   "metadata": {},
   "outputs": [],
   "source": [
    "!rvu -vf views\\front.vp -e .01 -pe 0.3 -vp 0 -27.5 40 -vd 0 0.7071 -0.7071 SouthPole.oct"
   ]
  },
  {
   "cell_type": "code",
   "execution_count": null,
   "id": "9d9b49db",
   "metadata": {},
   "outputs": [],
   "source": [
    "demo.genCumSky()\n",
    "octfile = demo.makeOct(demo.getfilelist()) "
   ]
  },
  {
   "cell_type": "code",
   "execution_count": null,
   "id": "74e7c77a",
   "metadata": {},
   "outputs": [],
   "source": [
    "# Make a color render and falsecolor image of the scene.\n",
    "analysis.makeImage('side.vp')\n",
    "analysis.makeFalseColor('side.vp')"
   ]
  },
  {
   "cell_type": "code",
   "execution_count": null,
   "id": "af84a516",
   "metadata": {},
   "outputs": [],
   "source": [
    "for obj in sceneObjDict:\n",
    "    for mm in range(1, nMods+1):\n",
    "        for rr in range(1, nRows+1):\n",
    "            frontscan, backscan = analysis.moduleAnalysis(sceneObjDict[obj], sensorsy=4, sensorsx = 4, modWanted = mm, rowWanted = rr)\n",
    "            frontdict, backdict = analysis.analysis(octfile, obj, frontscan, backscan)  # compare the back vs front irradiance  "
   ]
  },
  {
   "cell_type": "code",
   "execution_count": null,
   "id": "6bba3259",
   "metadata": {},
   "outputs": [],
   "source": [
    "bifaciality = 0.7\n",
    "\n",
    "filetitle = 'irr_sceneObj0_Mod_1_Row_3_Row3_Module1.csv'\n",
    "for obj in sceneObjDict:\n",
    "    for mm in range(1, nMods+1):\n",
    "        for rr in range(1, nRows+1):\n",
    "            filetitle = 'results\\irr_'+obj+'_Row'+rr+'_Module'+mm+'.csv'\n",
    "            data=load.read1Result(filetitle)\n",
    "            Gpoa = data['Wm2Front'].mean() + data['Wm2Back'].mean()*bifaciality\n"
   ]
  },
  {
   "cell_type": "code",
   "execution_count": null,
   "id": "ddc2f0cb",
   "metadata": {},
   "outputs": [],
   "source": [
    "sensorsy=4  # 1 per module. consider increasing the number but be careful with sensors in the space between modules.\n",
    "analysis = bifacial_radiance.AnalysisObj(octfile, demo.basename)  \n",
    "frontscan, backscan = analysis.moduleAnalysis(sceneObj1, sensorsy=sensorsy)\n",
    "frontdict, backdict = analysis.analysis(octfile, \"EastFacingShed\", frontscan, backscan)  # compare the back vs front irradiance  \n",
    "\n",
    "frontscan, backscan = analysis.moduleAnalysis(sceneObj2, sensorsy=sensorsy )\n",
    "frontdict2, backdict2 = analysis.analysis(octfile, \"WestFacingShed\", frontscan, backscan)  # compare the back vs front irradiance  \n"
   ]
  }
 ],
 "metadata": {
  "kernelspec": {
   "display_name": "Python 3 (ipykernel)",
   "language": "python",
   "name": "python3"
  },
  "language_info": {
   "codemirror_mode": {
    "name": "ipython",
    "version": 3
   },
   "file_extension": ".py",
   "mimetype": "text/x-python",
   "name": "python",
   "nbconvert_exporter": "python",
   "pygments_lexer": "ipython3",
   "version": "3.8.8"
  }
 },
 "nbformat": 4,
 "nbformat_minor": 5
}

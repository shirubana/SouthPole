{
 "cells": [
  {
   "cell_type": "markdown",
   "id": "f683efa5",
   "metadata": {},
   "source": [
    "# Array Size Calculation"
   ]
  },
  {
   "cell_type": "code",
   "execution_count": 1,
   "id": "ea7d39f1",
   "metadata": {},
   "outputs": [],
   "source": [
    "import numpy as np"
   ]
  },
  {
   "cell_type": "code",
   "execution_count": 2,
   "id": "8656dc25",
   "metadata": {},
   "outputs": [],
   "source": [
    "SystemCapacity = 340 #kW, for solar\n",
    "panel_nameplate = .380 # kW\n",
    "nSections = 4\n",
    "\n",
    "# Module Sizes\n",
    "# Portrait mode, typically x = 1 and y =2 for this. For landscape, rotate numbers.\n",
    "x = 1 # Module size parallel to ground\n",
    "y = 2 # Module edge in the Z direction. \n",
    "\n",
    "pitch = 8 # a.k.a. row-to-row distance\n",
    "xgap = 1 # module-to-module space along the row axis. \n",
    "         # This account for the sleds, racking, as well as increase diffuse light in the array/minimize shading.\n"
   ]
  },
  {
   "cell_type": "code",
   "execution_count": 3,
   "id": "87593d4a",
   "metadata": {},
   "outputs": [
    {
     "name": "stdout",
     "output_type": "stream",
     "text": [
      "Panels in Field 896\n",
      "Panels per section  224\n"
     ]
    }
   ],
   "source": [
    "nPanels = np.round(SystemCapacity/panel_nameplate/4)*4  # 4 sections (NSEW), that's why dividing and rounding so it is a number dividable by 4. \n",
    "sectionnPanels = nPanels/nSections\n",
    "\n",
    "print(\"Panels in Field\", int(nPanels))\n",
    "print(\"Panels per section \", int(sectionnPanels))"
   ]
  },
  {
   "cell_type": "code",
   "execution_count": 4,
   "id": "36beddbc",
   "metadata": {},
   "outputs": [
    {
     "name": "stdout",
     "output_type": "stream",
     "text": [
      "nMods has to be ~ 4 x nRows for 'squareness'\n"
     ]
    }
   ],
   "source": [
    "squareness = int(pitch/(x+xgap))\n",
    "print(\"nMods has to be ~\", squareness, \"x nRows for 'squareness'\")"
   ]
  },
  {
   "cell_type": "code",
   "execution_count": 5,
   "id": "045d18d3",
   "metadata": {},
   "outputs": [
    {
     "name": "stdout",
     "output_type": "stream",
     "text": [
      "nMods 28 nRows 8\n"
     ]
    }
   ],
   "source": [
    "nMods = int(224/squareness/2)\n",
    "nRows = int(sectionnPanels/nMods)\n",
    "print(\"nMods\", nMods, \"nRows\", nRows)\n"
   ]
  },
  {
   "cell_type": "code",
   "execution_count": 6,
   "id": "0520c3b3",
   "metadata": {},
   "outputs": [
    {
     "name": "stdout",
     "output_type": "stream",
     "text": [
      "Corrected numbers: \n",
      "\t 224  per Section\n",
      " \t 896 for the whole System\n",
      " \t 340.48  kW System Capcaity\n"
     ]
    }
   ],
   "source": [
    "sectionnPanelsCorrected = nMods*nRows # Correcting for rounding\n",
    "nPanelsCorrected = sectionnPanelsCorrected*4\n",
    "SystemCapacityCorrected = nPanelsCorrected*panel_nameplate\n",
    " \n",
    "print(\"Corrected numbers: \\n\\t\", sectionnPanelsCorrected, \" per Section\\n\",\n",
    "      \"\\t\", nPanelsCorrected, \"for the whole System\\n\",\n",
    "      \"\\t\", SystemCapacityCorrected, \" kW System Capcaity\")"
   ]
  },
  {
   "cell_type": "code",
   "execution_count": 7,
   "id": "8840f096",
   "metadata": {},
   "outputs": [
    {
     "name": "stdout",
     "output_type": "stream",
     "text": [
      "Mega Array Side:  131 m\n"
     ]
    }
   ],
   "source": [
    "CO = 20          # Section Offset space. giving enough space for cars to go through, inverter systems etc.\n",
    "\n",
    "print(\"Mega Array Side: \", nMods + (nMods-1) * xgap + CO + (nRows-1)*pitch,  \"m\")"
   ]
  },
  {
   "cell_type": "markdown",
   "id": "51d2050c",
   "metadata": {},
   "source": [
    "## Imaging"
   ]
  },
  {
   "cell_type": "code",
   "execution_count": 8,
   "id": "ebd97979",
   "metadata": {},
   "outputs": [],
   "source": [
    "import pandas as pd\n",
    "import os\n",
    "from pathlib import Path\n",
    "import bifacial_radiance\n",
    "bifacial_radiance.__version__\n",
    "\n",
    "testfolder = r'TEMP\\SquareDesign'\n",
    "if not os.path.exists(testfolder):\n",
    "    os.makedirs(testfolder)\n"
   ]
  },
  {
   "cell_type": "code",
   "execution_count": 9,
   "id": "3e45559c",
   "metadata": {},
   "outputs": [
    {
     "name": "stdout",
     "output_type": "stream",
     "text": [
      "path = TEMP\\SquareDesign\n",
      "Loading albedo, 1 value(s), 0.700 avg\n",
      "1 nonzero albedo values.\n",
      "8760 line in WeatherFile. Assuming this is a standard hourly WeatherFile for the year for purposes of saving Gencumulativesky temporary weather files in EPW folder.\n",
      "Coercing year to 2021\n",
      "Saving file EPWs\\metdata_temp.csv, # points: 8760\n",
      "Calculating Sun position for Metdata that is left-labeled  with a delta of +30 mins. i.e. 12 is 12:30 sunpos.\n"
     ]
    },
    {
     "name": "stderr",
     "output_type": "stream",
     "text": [
      "C:\\Users\\sayala\\Documents\\GitHub\\pvlib-python\\pvlib\\spa.py:1200: RuntimeWarning: invalid value encountered in remainder\n",
      "  H0 = np.degrees(np.arccos(cos_arg)) % 180\n",
      "C:\\Users\\sayala\\Documents\\GitHub\\pvlib-python\\pvlib\\spa.py:1211: RuntimeWarning: invalid value encountered in remainder\n",
      "  m[1] = m[1] % 1\n",
      "C:\\Users\\sayala\\Documents\\GitHub\\pvlib-python\\pvlib\\spa.py:1212: RuntimeWarning: invalid value encountered in remainder\n",
      "  m[2] = m[2] % 1\n",
      "C:\\Users\\sayala\\Documents\\GitHub\\pvlib-python\\pvlib\\spa.py:1229: RuntimeWarning: invalid value encountered in remainder\n",
      "  Hp = (vs + lon - alpha_prime) % 360\n"
     ]
    }
   ],
   "source": [
    "rawfile = r'..\\..\\IOFiles\\SouthPole_2021_WeatherFile.csv'\n",
    "demo = bifacial_radiance.RadianceObj(\"SouthPole\", path = testfolder)  # Create a RadianceObj 'object'\n",
    "demo.setGround(0.7)\n",
    "metdata = demo.readWeatherFile(rawfile, source='SAM') "
   ]
  },
  {
   "cell_type": "code",
   "execution_count": 10,
   "id": "58e90f31",
   "metadata": {},
   "outputs": [
    {
     "name": "stdout",
     "output_type": "stream",
     "text": [
      "\n",
      "Module Name: module\n",
      "Module module updated in module.json\n",
      "Pre-existing .rad file objects\\module.rad will be overwritten\n",
      "\n"
     ]
    }
   ],
   "source": [
    "# For sanity check, we are creating the same module but with different names for each orientation.\n",
    "mymodule = demo.makeModule(name='module',y=y,x=x, xgap=xgap)"
   ]
  },
  {
   "cell_type": "code",
   "execution_count": 11,
   "id": "6f6255dc",
   "metadata": {},
   "outputs": [
    {
     "data": {
      "text/plain": [
       "'skies\\\\sky2_-89.98_-24.8_2021-12-24_1000.rad'"
      ]
     },
     "execution_count": 11,
     "metadata": {},
     "output_type": "execute_result"
    }
   ],
   "source": [
    "timestamp = metdata.datetime.index(pd.to_datetime('2021-12-24 13:0:0 -0'))\n",
    "demo.gendaylit(timestamp) "
   ]
  },
  {
   "cell_type": "code",
   "execution_count": 12,
   "id": "6ddd370f",
   "metadata": {},
   "outputs": [],
   "source": [
    "clearance_height = 0.5\n",
    "\n",
    "sceneObjDict = {}\n",
    "for rr in range(0, nSections):\n",
    "    ray_azm = 45 + 360*rr/nSections\n",
    "    sazm = ray_azm - 45\n",
    "    centerpitch = CO + pitch*(nRows-1)/2         # This might be off by half a pitch, check for even and odd nMods  \n",
    "    azm = ray_azm - 90  # Radiance and Pvlib use N = 0, so converting\n",
    "    centerpitch_x = centerpitch*np.cos(np.radians(azm))\n",
    "    centerpitch_y = centerpitch*np.sin(np.radians(azm))*-1\n",
    "    sceneDict = {'tilt':90,'pitch':pitch,'clearance_height':clearance_height,'azimuth':sazm, 'nMods': nMods, 'nRows': nRows, \n",
    "             'appendRadfile':True, 'originx': centerpitch_x, 'originy': centerpitch_y} \n",
    "    sceneObjDict['sceneObj'+str(rr)] = demo.makeScene(mymodule, sceneDict)  "
   ]
  },
  {
   "cell_type": "code",
   "execution_count": 13,
   "id": "92ed69fc",
   "metadata": {},
   "outputs": [
    {
     "name": "stdout",
     "output_type": "stream",
     "text": [
      "Created SouthPole.oct\n"
     ]
    }
   ],
   "source": [
    "octfile = demo.makeOct() "
   ]
  },
  {
   "cell_type": "code",
   "execution_count": null,
   "id": "d2753807",
   "metadata": {},
   "outputs": [],
   "source": [
    "!rvu -vf views\\front.vp -e .01 -pe 0.3 -vp 5 -50 50 -vd 0 0.7071 -0.7071 SouthPole.oct"
   ]
  },
  {
   "attachments": {
    "image.png": {
     "image/png": "[encoded data removed]"
    }
   },
   "cell_type": "markdown",
   "id": "4736efd6",
   "metadata": {},
   "source": [
    "![image.png](attachment:image.png)"
   ]
  }
 ],
 "metadata": {
  "kernelspec": {
   "display_name": "Python 3 (ipykernel)",
   "language": "python",
   "name": "python3"
  },
  "language_info": {
   "codemirror_mode": {
    "name": "ipython",
    "version": 3
   },
   "file_extension": ".py",
   "mimetype": "text/x-python",
   "name": "python",
   "nbconvert_exporter": "python",
   "pygments_lexer": "ipython3",
   "version": "3.9.13"
  }
 },
 "nbformat": 4,
 "nbformat_minor": 5
}

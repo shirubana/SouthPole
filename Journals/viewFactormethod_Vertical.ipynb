{
 "cells": [
  {
   "cell_type": "markdown",
   "id": "e8d7fbee",
   "metadata": {},
   "source": [
    "# Vertical panels, sanity check of results on bifacial_radiance and view factor\n",
    "\n",
    "- Four locations of different DNI/DHI ratios and latitudes.\n",
    "- Extreme case south pole.\n",
    "- Geometries: Facing N/S and E/W.\n",
    "- Clearance heights: 0.3, 0.5, 0.75, 1.0\n",
    "- Albedo: 0.22 & 0.8\n",
    "\n",
    "Locations: \n",
    "* 722740\tTUCSON INTERNATIONAL AP\n",
    "* 724666\tDENVER/CENTENNIAL [GOLDEN - NREL]\n",
    "* 724010\tRICHMOND INTERNATIONAL AP\n",
    "* 723260\tKNOXVILLE MCGHEE TYSON AP\n",
    "* 727930\tSEATTLE SEATTLE-TACOMA INTL A\n",
    "\n"
   ]
  },
  {
   "cell_type": "code",
   "execution_count": 1,
   "id": "2f15b78b",
   "metadata": {},
   "outputs": [
    {
     "name": "stdout",
     "output_type": "stream",
     "text": [
      "0.1.7-dev1+73.gf25ac0f.dirty\n",
      "0.4.1+121.g952f921.dirty\n"
     ]
    }
   ],
   "source": [
    "import os\n",
    "import numpy as np\n",
    "import pandas as pd\n",
    "from pathlib import Path\n",
    "import bifacial_radiance\n",
    "import bifacialvf\n",
    "print(bifacialvf.__version__)\n",
    "print(bifacial_radiance.__version__)"
   ]
  },
  {
   "cell_type": "code",
   "execution_count": 2,
   "id": "a8ea2d7e",
   "metadata": {},
   "outputs": [],
   "source": [
    "testfolder = r'TEMP\\ViewFactor'\n",
    "if not os.path.exists(testfolder):\n",
    "    os.makedirs(testfolder)\n"
   ]
  },
  {
   "cell_type": "code",
   "execution_count": 3,
   "id": "99f5035b",
   "metadata": {},
   "outputs": [],
   "source": [
    "# LOOP\n",
    "\n",
    "pitchs = [2.5] # , 3, 5] \n",
    "CHs = [0.01] # , 0.5, 0.75, 1.0]\n",
    "albs = [0.22, 0.8]\n",
    "locs = [722740, 727930] # 724666, 724010, 723260,  ]\n",
    "locsnames = ['Tucson', 'Seattle'] #, 'Denver', 'Richmond', 'Knoxville', ]"
   ]
  },
  {
   "cell_type": "code",
   "execution_count": 5,
   "id": "4424d2c1",
   "metadata": {},
   "outputs": [
    {
     "name": "stdout",
     "output_type": "stream",
     "text": [
      "Calculating Sun position with a delta of +30 mins. i.e. 12 is 12:30 sunpos\n",
      "Albedo value passed, but also present in TMY3 file.  Using albedo value passed. To use the ones in TMY3 file re-run simulation with albedo=None\n",
      "\n",
      " \n",
      "********* \n",
      "Running Simulation for TMY3: \n",
      "Location:   \"TUCSON INTERNATIONAL AP\"\n",
      "Lat:  32.133  Long:  -110.95  Tz  -7.0\n",
      "Parameters: tilt:  90   Sazm:  180     Clearance_Height :  0.01   Pitch:  2.5   Row type:  interior   Albedo:  0.22\n",
      "Saving into TEMP\\ViewFactor\\NS_Tucson_Alb_0.22_CH_0.01_rtr_2.5.csv\n",
      " \n",
      " \n",
      "Distance between rows for no shading on Dec 21 at 9 am solar time =  2.1773682101273413\n",
      "Actual distance between rows =  2.5\n",
      " \n"
     ]
    },
    {
     "name": "stderr",
     "output_type": "stream",
     "text": [
      "100%|██████████████████████████████████████████████████████████████████████████████████████████████████████████████████████████████████████████████████████████████████████████████████████████████████| 8760/8760 [01:22<00:00, 106.72it/s]\n"
     ]
    },
    {
     "name": "stdout",
     "output_type": "stream",
     "text": [
      "Finished\n",
      "Albedo value passed, but also present in TMY3 file.  Using albedo value passed. To use the ones in TMY3 file re-run simulation with albedo=None\n",
      "\n",
      " \n",
      "********* \n",
      "Running Simulation for TMY3: \n",
      "Location:   \"TUCSON INTERNATIONAL AP\"\n",
      "Lat:  32.133  Long:  -110.95  Tz  -7.0\n",
      "Parameters: tilt:  90   Sazm:  90     Clearance_Height :  0.01   Pitch:  2.5   Row type:  interior   Albedo:  0.22\n",
      "Saving into TEMP\\ViewFactor\\EW_Tucson_Alb_0.22_CH_0.01_rtr_2.5.csv\n",
      " \n",
      " \n",
      "Distance between rows for no shading on Dec 21 at 9 am solar time =  2.2742454934204606\n",
      "Actual distance between rows =  2.5\n",
      " \n"
     ]
    },
    {
     "name": "stderr",
     "output_type": "stream",
     "text": [
      "100%|██████████████████████████████████████████████████████████████████████████████████████████████████████████████████████████████████████████████████████████████████████████████████████████████████| 8760/8760 [01:20<00:00, 108.19it/s]\n"
     ]
    },
    {
     "name": "stdout",
     "output_type": "stream",
     "text": [
      "Finished\n",
      "Calculating Sun position with a delta of +30 mins. i.e. 12 is 12:30 sunpos\n",
      "Albedo value passed, but also present in TMY3 file.  Using albedo value passed. To use the ones in TMY3 file re-run simulation with albedo=None\n",
      "\n",
      " \n",
      "********* \n",
      "Running Simulation for TMY3: \n",
      "Location:   \"TUCSON INTERNATIONAL AP\"\n",
      "Lat:  32.133  Long:  -110.95  Tz  -7.0\n",
      "Parameters: tilt:  90   Sazm:  180     Clearance_Height :  0.01   Pitch:  2.5   Row type:  interior   Albedo:  0.8\n",
      "Saving into TEMP\\ViewFactor\\NS_Tucson_Alb_0.8_CH_0.01_rtr_2.5.csv\n",
      " \n",
      " \n",
      "Distance between rows for no shading on Dec 21 at 9 am solar time =  2.1773682101273413\n",
      "Actual distance between rows =  2.5\n",
      " \n"
     ]
    },
    {
     "name": "stderr",
     "output_type": "stream",
     "text": [
      "100%|██████████████████████████████████████████████████████████████████████████████████████████████████████████████████████████████████████████████████████████████████████████████████████████████████| 8760/8760 [01:21<00:00, 107.06it/s]\n"
     ]
    },
    {
     "name": "stdout",
     "output_type": "stream",
     "text": [
      "Finished\n",
      "Albedo value passed, but also present in TMY3 file.  Using albedo value passed. To use the ones in TMY3 file re-run simulation with albedo=None\n",
      "\n",
      " \n",
      "********* \n",
      "Running Simulation for TMY3: \n",
      "Location:   \"TUCSON INTERNATIONAL AP\"\n",
      "Lat:  32.133  Long:  -110.95  Tz  -7.0\n",
      "Parameters: tilt:  90   Sazm:  90     Clearance_Height :  0.01   Pitch:  2.5   Row type:  interior   Albedo:  0.8\n",
      "Saving into TEMP\\ViewFactor\\EW_Tucson_Alb_0.8_CH_0.01_rtr_2.5.csv\n",
      " \n",
      " \n",
      "Distance between rows for no shading on Dec 21 at 9 am solar time =  2.2742454934204606\n",
      "Actual distance between rows =  2.5\n",
      " \n"
     ]
    },
    {
     "name": "stderr",
     "output_type": "stream",
     "text": [
      "100%|██████████████████████████████████████████████████████████████████████████████████████████████████████████████████████████████████████████████████████████████████████████████████████████████████| 8760/8760 [01:22<00:00, 105.67it/s]\n"
     ]
    },
    {
     "name": "stdout",
     "output_type": "stream",
     "text": [
      "Finished\n",
      "Calculating Sun position with a delta of +30 mins. i.e. 12 is 12:30 sunpos\n",
      "Albedo value passed, but also present in TMY3 file.  Using albedo value passed. To use the ones in TMY3 file re-run simulation with albedo=None\n",
      "\n",
      " \n",
      "********* \n",
      "Running Simulation for TMY3: \n",
      "Location:   \"SEATTLE SEATTLE-TACOMA INTL A\"\n",
      "Lat:  47.467  Long:  -122.317  Tz  -8.0\n",
      "Parameters: tilt:  90   Sazm:  180     Clearance_Height :  0.01   Pitch:  2.5   Row type:  interior   Albedo:  0.22\n",
      "Saving into TEMP\\ViewFactor\\NS_Seattle_Alb_0.22_CH_0.01_rtr_2.5.csv\n",
      " \n",
      " \n",
      "Distance between rows for no shading on Dec 21 at 9 am solar time =  5.072801884798581\n",
      "Actual distance between rows =  2.5\n",
      " \n"
     ]
    },
    {
     "name": "stderr",
     "output_type": "stream",
     "text": [
      "100%|██████████████████████████████████████████████████████████████████████████████████████████████████████████████████████████████████████████████████████████████████████████████████████████████████| 8760/8760 [01:21<00:00, 108.07it/s]\n"
     ]
    },
    {
     "name": "stdout",
     "output_type": "stream",
     "text": [
      "Finished\n",
      "Albedo value passed, but also present in TMY3 file.  Using albedo value passed. To use the ones in TMY3 file re-run simulation with albedo=None\n",
      "\n",
      " \n",
      "********* \n",
      "Running Simulation for TMY3: \n",
      "Location:   \"SEATTLE SEATTLE-TACOMA INTL A\"\n",
      "Lat:  47.467  Long:  -122.317  Tz  -8.0\n",
      "Parameters: tilt:  90   Sazm:  90     Clearance_Height :  0.01   Pitch:  2.5   Row type:  interior   Albedo:  0.22\n",
      "Saving into TEMP\\ViewFactor\\EW_Seattle_Alb_0.22_CH_0.01_rtr_2.5.csv\n",
      " \n",
      " \n",
      "Distance between rows for no shading on Dec 21 at 9 am solar time =  4.407278074147264\n",
      "Actual distance between rows =  2.5\n",
      " \n"
     ]
    },
    {
     "name": "stderr",
     "output_type": "stream",
     "text": [
      "100%|██████████████████████████████████████████████████████████████████████████████████████████████████████████████████████████████████████████████████████████████████████████████████████████████████| 8760/8760 [01:21<00:00, 107.15it/s]\n"
     ]
    },
    {
     "name": "stdout",
     "output_type": "stream",
     "text": [
      "Finished\n",
      "Calculating Sun position with a delta of +30 mins. i.e. 12 is 12:30 sunpos\n",
      "Albedo value passed, but also present in TMY3 file.  Using albedo value passed. To use the ones in TMY3 file re-run simulation with albedo=None\n",
      "\n",
      " \n",
      "********* \n",
      "Running Simulation for TMY3: \n",
      "Location:   \"SEATTLE SEATTLE-TACOMA INTL A\"\n",
      "Lat:  47.467  Long:  -122.317  Tz  -8.0\n",
      "Parameters: tilt:  90   Sazm:  180     Clearance_Height :  0.01   Pitch:  2.5   Row type:  interior   Albedo:  0.8\n",
      "Saving into TEMP\\ViewFactor\\NS_Seattle_Alb_0.8_CH_0.01_rtr_2.5.csv\n",
      " \n",
      " \n",
      "Distance between rows for no shading on Dec 21 at 9 am solar time =  5.072801884798581\n",
      "Actual distance between rows =  2.5\n",
      " \n"
     ]
    },
    {
     "name": "stderr",
     "output_type": "stream",
     "text": [
      "100%|██████████████████████████████████████████████████████████████████████████████████████████████████████████████████████████████████████████████████████████████████████████████████████████████████| 8760/8760 [01:22<00:00, 106.16it/s]\n"
     ]
    },
    {
     "name": "stdout",
     "output_type": "stream",
     "text": [
      "Finished\n",
      "Albedo value passed, but also present in TMY3 file.  Using albedo value passed. To use the ones in TMY3 file re-run simulation with albedo=None\n",
      "\n",
      " \n",
      "********* \n",
      "Running Simulation for TMY3: \n",
      "Location:   \"SEATTLE SEATTLE-TACOMA INTL A\"\n",
      "Lat:  47.467  Long:  -122.317  Tz  -8.0\n",
      "Parameters: tilt:  90   Sazm:  90     Clearance_Height :  0.01   Pitch:  2.5   Row type:  interior   Albedo:  0.8\n",
      "Saving into TEMP\\ViewFactor\\EW_Seattle_Alb_0.8_CH_0.01_rtr_2.5.csv\n",
      " \n",
      " \n",
      "Distance between rows for no shading on Dec 21 at 9 am solar time =  4.407278074147264\n",
      "Actual distance between rows =  2.5\n",
      " \n"
     ]
    },
    {
     "name": "stderr",
     "output_type": "stream",
     "text": [
      "100%|██████████████████████████████████████████████████████████████████████████████████████████████████████████████████████████████████████████████████████████████████████████████████████████████████| 8760/8760 [01:21<00:00, 107.05it/s]"
     ]
    },
    {
     "name": "stdout",
     "output_type": "stream",
     "text": [
      "Finished\n"
     ]
    },
    {
     "name": "stderr",
     "output_type": "stream",
     "text": [
      "\n"
     ]
    }
   ],
   "source": [
    "deltastyle = 'SAM'  # \n",
    "tilt = 90                   # PV tilt (deg)\n",
    "sazm = 180                  # PV Azimuth(deg) or tracker axis direction\n",
    "albedo = 0.80               # ground albedo\n",
    "clearance_height = 0.5\n",
    "pitch = 3                   # row to row spacing in normalized panel lengths. \n",
    "rowType = \"interior\"        # RowType(first interior last single)\n",
    "transFactor = 0.013         # TransmissionFactor(open area fraction)\n",
    "sensorsy = 12                # sensorsy(# hor rows in panel)   <--> THIS ASSUMES LANDSCAPE ORIENTATION \n",
    "PVfrontSurface = \"glass\"    # PVfrontSurface(glass or ARglass)\n",
    "PVbackSurface = \"glass\"     # PVbackSurface(glass or ARglass)\n",
    "\n",
    "# Calculate PV Output Through Various Methods    \n",
    "# This variables are advanced and explored in other tutorials.\n",
    "#calculateBilInterpol = True         # Only works with landscape at the moment.\n",
    "#calculatePVMismatch = True\n",
    "#portraitorlandscape='landscape'   # portrait or landscape\n",
    "#cellsnum = 72\n",
    "#bififactor = 1.0\n",
    "#agriPV = True                       # Returns ground irradiance values\n",
    "\n",
    "# Tracking instructions\n",
    "tracking=False\n",
    "backtrack=False\n",
    "limit_angle = 60\n",
    "\n",
    "sazmNS = 180                  # PV Azimuth(deg) or tracker axis direction\n",
    "sazmEW = 90                  # PV Azimuth(deg) or tracker axis direction\n",
    "\n",
    "for ii in range(0, len(locs)):\n",
    "    for jj in range(0, len(albs)):\n",
    "        for zz in range(0, len(CHs)):\n",
    "            for ww in range(0, len(pitchs)):\n",
    "\n",
    "                loc = locs[ii]\n",
    "                locname = locsnames[ii]\n",
    "                alb = albs[jj]\n",
    "                CH = CHs[zz]\n",
    "                pitch = pitchs[ww]\n",
    "\n",
    "                weatherfile = r'C:\\Users\\sayala\\Desktop\\VERTICAL\\{}TYA.CSV'.format(loc)\n",
    "                writefiletitle = os.path.join(testfolder, 'NS_'+locname+'_Alb_'+str(alb)+'_CH_'+str(CH)+'_rtr_'+str(pitch)+'.csv')\n",
    "                df, meta = bifacialvf.readInputTMY(weatherfile)\n",
    "\n",
    "                bifacialvf.simulate(df, meta, writefiletitle=writefiletitle, \n",
    "                         tilt=tilt, sazm=sazmNS, pitch=pitch, clearance_height=CH, \n",
    "                         rowType=rowType, transFactor=transFactor, sensorsy=sensorsy, \n",
    "                         PVfrontSurface=PVfrontSurface, PVbackSurface=PVbackSurface, \n",
    "                         albedo=alb, tracking=tracking, backtrack=backtrack, \n",
    "                         limit_angle=limit_angle, deltastyle=deltastyle)\n",
    "\n",
    "                writefiletitle = os.path.join(testfolder, 'EW_'+locname+'_Alb_'+str(alb)+'_CH_'+str(CH)+'_rtr_'+str(pitch)+'.csv')\n",
    "\n",
    "                bifacialvf.simulate(df, meta, writefiletitle=writefiletitle, \n",
    "                         tilt=tilt, sazm=sazmEW, pitch=pitch, clearance_height=CH, \n",
    "                         rowType=rowType, transFactor=transFactor, sensorsy=sensorsy, \n",
    "                         PVfrontSurface=PVfrontSurface, PVbackSurface=PVbackSurface, \n",
    "                         albedo=alb, tracking=tracking, backtrack=backtrack, \n",
    "                         limit_angle=limit_angle, deltastyle=deltastyle)"
   ]
  },
  {
   "cell_type": "code",
   "execution_count": null,
   "id": "91ab0f96",
   "metadata": {},
   "outputs": [],
   "source": [
    "bifacialvf.readInputTMY"
   ]
  },
  {
   "cell_type": "code",
   "execution_count": null,
   "id": "d0f305fa",
   "metadata": {},
   "outputs": [],
   "source": [
    "TMYtoread=bifacialvf.getEPW(lat=37.5407,lon=-77.4360, path = testfolder)\n",
    "myTMY3, meta = bifacialvf.readInputTMY(TMYtoread)"
   ]
  },
  {
   "cell_type": "code",
   "execution_count": null,
   "id": "ae29e47d",
   "metadata": {},
   "outputs": [],
   "source": []
  },
  {
   "cell_type": "code",
   "execution_count": null,
   "id": "1974f9c7",
   "metadata": {},
   "outputs": [],
   "source": [
    "myTMY3.keys()"
   ]
  },
  {
   "cell_type": "code",
   "execution_count": null,
   "id": "85539ee0",
   "metadata": {},
   "outputs": [],
   "source": [
    "testfolder"
   ]
  },
  {
   "cell_type": "code",
   "execution_count": null,
   "id": "6757ecec",
   "metadata": {},
   "outputs": [],
   "source": [
    "meta"
   ]
  },
  {
   "cell_type": "code",
   "execution_count": null,
   "id": "d86203c4",
   "metadata": {},
   "outputs": [],
   "source": [
    "rawfile = r'..\\..\\SAM_SP_WeatherFile.csv'\n",
    "demo = bifacial_radiance.RadianceObj(\"SouthPole\")  # Create a RadianceObj 'object'\n",
    "demo.setGround(0.7)\n",
    "metdata = demo.readWeatherFile(rawfile, source='SAM') "
   ]
  },
  {
   "cell_type": "code",
   "execution_count": null,
   "id": "18ed76e2",
   "metadata": {},
   "outputs": [],
   "source": [
    "meta['city'] = metdata.city\n",
    "meta['latitude'] = metdata.latitude\n",
    "meta['longitude'] = metdata.longitude\n",
    "meta['altitude'] = metdata.elevation\n",
    "meta['data_type'] = 'SAM'\n",
    "meta['country'] = 'Antarctica'\n",
    "meta['loc'] = 'SP'\n",
    "meta['state-prov'] = 'SP'\n"
   ]
  },
  {
   "cell_type": "code",
   "execution_count": null,
   "id": "9304464f",
   "metadata": {},
   "outputs": [],
   "source": [
    "myTMY3.keys()"
   ]
  },
  {
   "cell_type": "code",
   "execution_count": null,
   "id": "230bfeb8",
   "metadata": {},
   "outputs": [],
   "source": [
    "df = pd.DataFrame()\n",
    "df['DNI'] = metdata.dni\n",
    "df['GHI'] = metdata.ghi\n",
    "df['DHI'] = metdata.dhi\n",
    "df['DryBulb'] = metdata.temp_air\n",
    "df['Wspd'] = metdata.wind_speed\n",
    "df['datetime'] = metdata.datetime\n"
   ]
  },
  {
   "cell_type": "code",
   "execution_count": null,
   "id": "e21a9fe9",
   "metadata": {},
   "outputs": [],
   "source": [
    "df.set_index('datetime', inplace=True)"
   ]
  },
  {
   "cell_type": "code",
   "execution_count": null,
   "id": "d4a4a304",
   "metadata": {},
   "outputs": [],
   "source": [
    "deltastyle = 'SAM'  # \n",
    "tilt = 90                   # PV tilt (deg)\n",
    "sazm = 180                  # PV Azimuth(deg) or tracker axis direction\n",
    "albedo = 0.80               # ground albedo\n",
    "clearance_height = 0.5\n",
    "pitch = 3                   # row to row spacing in normalized panel lengths. \n",
    "rowType = \"interior\"        # RowType(first interior last single)\n",
    "transFactor = 0.013         # TransmissionFactor(open area fraction)\n",
    "sensorsy = 12                # sensorsy(# hor rows in panel)   <--> THIS ASSUMES LANDSCAPE ORIENTATION \n",
    "PVfrontSurface = \"glass\"    # PVfrontSurface(glass or ARglass)\n",
    "PVbackSurface = \"glass\"     # PVbackSurface(glass or ARglass)\n",
    "\n",
    "# Calculate PV Output Through Various Methods    \n",
    "# This variables are advanced and explored in other tutorials.\n",
    "#calculateBilInterpol = True         # Only works with landscape at the moment.\n",
    "#calculatePVMismatch = True\n",
    "#portraitorlandscape='landscape'   # portrait or landscape\n",
    "#cellsnum = 72\n",
    "#bififactor = 1.0\n",
    "#agriPV = True                       # Returns ground irradiance values\n",
    "\n",
    "# Tracking instructions\n",
    "tracking=False\n",
    "backtrack=False\n",
    "limit_angle = 60\n",
    "\n",
    "sazm = 180                  # PV Azimuth(deg) or tracker axis direction\n",
    "writefiletitle = os.path.join(testfolder, 'South_Facing.csv')\n",
    "#myTMY3 = myTMY3.iloc[0:24].copy()  # Simulate just the first 24 hours of the data file for speed on this example\n",
    "bifacialvf.simulate(df, meta, writefiletitle=writefiletitle, \n",
    "         tilt=tilt, sazm=sazm, pitch=pitch, clearance_height=clearance_height, \n",
    "         rowType=rowType, transFactor=transFactor, sensorsy=sensorsy, \n",
    "         PVfrontSurface=PVfrontSurface, PVbackSurface=PVbackSurface, \n",
    "         albedo=albedo, tracking=tracking, backtrack=backtrack, \n",
    "         limit_angle=limit_angle, deltastyle=deltastyle)\n",
    "\n"
   ]
  },
  {
   "cell_type": "code",
   "execution_count": null,
   "id": "0eb2d502",
   "metadata": {},
   "outputs": [],
   "source": [
    "sazm = 180                  # PV Azimuth(deg) or tracker axis direction\n",
    "writefiletitle = os.path.join(testfolder, 'South_Facing.csv')\n",
    "#myTMY3 = myTMY3.iloc[0:24].copy()  # Simulate just the first 24 hours of the data file for speed on this example\n",
    "bifacialvf.simulate(df, meta, writefiletitle=writefiletitle, \n",
    "         tilt=tilt, sazm=sazm, pitch=pitch, clearance_height=clearance_height, \n",
    "         rowType=rowType, transFactor=transFactor, sensorsy=sensorsy, \n",
    "         PVfrontSurface=PVfrontSurface, PVbackSurface=PVbackSurface, \n",
    "         albedo=albedo, tracking=tracking, backtrack=backtrack, \n",
    "         limit_angle=limit_angle, deltastyle=deltastyle)\n",
    "\n"
   ]
  },
  {
   "cell_type": "code",
   "execution_count": null,
   "id": "ff07e205",
   "metadata": {},
   "outputs": [],
   "source": [
    "sazm = 90                  # PV Azimuth(deg) or tracker axis direction\n",
    "\n",
    "writefiletitle = os.path.join(testfolder, 'East_Facing.csv')\n",
    "#myTMY3 = myTMY3.iloc[0:24].copy()  # Simulate just the first 24 hours of the data file for speed on this example\n",
    "bifacialvf.simulate(df, meta, writefiletitle=writefiletitle, \n",
    "         tilt=tilt, sazm=sazm, pitch=pitch, clearance_height=clearance_height, \n",
    "         rowType=rowType, transFactor=transFactor, sensorsy=sensorsy, \n",
    "         PVfrontSurface=PVfrontSurface, PVbackSurface=PVbackSurface, \n",
    "         albedo=albedo, tracking=tracking, backtrack=backtrack, \n",
    "         limit_angle=limit_angle, deltastyle=deltastyle)\n",
    "\n"
   ]
  },
  {
   "cell_type": "code",
   "execution_count": null,
   "id": "bb07ba57",
   "metadata": {},
   "outputs": [],
   "source": [
    "sazm = 270                  # PV Azimuth(deg) or tracker axis direction\n",
    "\n",
    "writefiletitle = os.path.join(testfolder, 'West_Facing.csv')\n",
    "#myTMY3 = myTMY3.iloc[0:24].copy()  # Simulate just the first 24 hours of the data file for speed on this example\n",
    "bifacialvf.simulate(df, meta, writefiletitle=writefiletitle, \n",
    "         tilt=tilt, sazm=sazm, pitch=pitch, clearance_height=clearance_height, \n",
    "         rowType=rowType, transFactor=transFactor, sensorsy=sensorsy, \n",
    "         PVfrontSurface=PVfrontSurface, PVbackSurface=PVbackSurface, \n",
    "         albedo=albedo, tracking=tracking, backtrack=backtrack, \n",
    "         limit_angle=limit_angle, deltastyle=deltastyle)\n",
    "\n"
   ]
  },
  {
   "cell_type": "code",
   "execution_count": null,
   "id": "ce3a4382",
   "metadata": {},
   "outputs": [],
   "source": [
    "sazm = 0                  # PV Azimuth(deg) or tracker axis direction\n",
    "\n",
    "writefiletitle = os.path.join(testfolder, 'North_Facing.csv')\n",
    "#myTMY3 = myTMY3.iloc[0:24].copy()  # Simulate just the first 24 hours of the data file for speed on this example\n",
    "bifacialvf.simulate(df, meta, writefiletitle=writefiletitle, \n",
    "         tilt=tilt, sazm=sazm, pitch=pitch, clearance_height=clearance_height, \n",
    "         rowType=rowType, transFactor=transFactor, sensorsy=sensorsy, \n",
    "         PVfrontSurface=PVfrontSurface, PVbackSurface=PVbackSurface, \n",
    "         albedo=albedo, tracking=tracking, backtrack=backtrack, \n",
    "         limit_angle=limit_angle, deltastyle=deltastyle)\n",
    "\n"
   ]
  },
  {
   "cell_type": "code",
   "execution_count": null,
   "id": "d4ccb833",
   "metadata": {},
   "outputs": [],
   "source": [
    "pwd\n"
   ]
  },
  {
   "cell_type": "code",
   "execution_count": null,
   "id": "dca3b183",
   "metadata": {},
   "outputs": [],
   "source": [
    "fileNorth = r'Temp\\SquareDesign\\North_Facing.csv'\n",
    "fileEast = r'Temp\\SquareDesign\\East_Facing.csv'\n",
    "fileSouth = r'Temp\\SquareDesign\\South_Facing.csv'\n",
    "fileWest = r'Temp\\SquareDesign\\West_Facing.csv'"
   ]
  },
  {
   "cell_type": "code",
   "execution_count": null,
   "id": "8cde538b",
   "metadata": {},
   "outputs": [],
   "source": [
    "(dataN, metadata) = bifacialvf.loadVFresults(fileNorth)\n",
    "(dataE, metadata) = bifacialvf.loadVFresults(fileEast)\n",
    "(dataS, metadata) = bifacialvf.loadVFresults(fileSouth)\n",
    "(dataW, metadata) = bifacialvf.loadVFresults(fileWest)"
   ]
  },
  {
   "cell_type": "code",
   "execution_count": null,
   "id": "2fbce76e",
   "metadata": {},
   "outputs": [],
   "source": [
    "col_Front = [col for col in dataN.columns if col.endswith('_RowFrontGTI')]\n",
    "col_Back = [col for col in dataN.columns if col.endswith('_RowBackGTI')]\n",
    "\n",
    "dataN['GTIFrontavg'] = dataN[col_Front].mean(axis=1)\n",
    "dataN['GTIBackavg'] = dataN[col_Back].mean(axis=1)*0.6\n",
    "dataE['GTIFrontavg'] = dataE[col_Front].mean(axis=1)\n",
    "dataE['GTIBackavg'] = dataE[col_Back].mean(axis=1)*0.6\n",
    "dataS['GTIFrontavg'] = dataS[col_Front].mean(axis=1)\n",
    "dataS['GTIBackavg'] = dataS[col_Back].mean(axis=1)*0.6\n",
    "dataW['GTIFrontavg'] = dataW[col_Front].mean(axis=1)\n",
    "dataW['GTIBackavg'] = dataW[col_Back].mean(axis=1)*0.6\n"
   ]
  },
  {
   "cell_type": "code",
   "execution_count": null,
   "id": "dd886c9a",
   "metadata": {},
   "outputs": [],
   "source": [
    "dataN['POA'] = (dataN[col_Front] + dataN[col_Back].values*0.6).mean(axis=1)\n",
    "dataE['POA'] = (dataE[col_Front] + dataE[col_Back].values*0.6).mean(axis=1)\n",
    "dataS['POA'] = (dataS[col_Front] + dataS[col_Back].values*0.6).mean(axis=1)\n",
    "dataW['POA'] = (dataW[col_Front] + dataW[col_Back].values*0.6).mean(axis=1)\n",
    "\n",
    "POAN= (dataN[col_Front] + dataN[col_Back].values*0.6)\n",
    "POAE = (dataE[col_Front] + dataE[col_Back].values*0.6)\n",
    "POAS = (dataS[col_Front] + dataS[col_Back].values*0.6)\n",
    "POAW = (dataW[col_Front] + dataW[col_Back].values*0.6)\n"
   ]
  },
  {
   "cell_type": "code",
   "execution_count": null,
   "id": "76a4877e",
   "metadata": {},
   "outputs": [],
   "source": [
    "dataN['nonuniformity'] = (POAN.max()-POAN.min())/(0.5*POAN.max()+POAN.min())\n",
    "dataE['nonuniformity'] = (POAE.max()-POAE.min())/(0.5*POAE.max()+POAE.min())\n",
    "dataS['nonuniformity'] = (POAS.max()-POAS.min())/(0.5*POAS.max()+POAS.min())\n",
    "dataW['nonuniformity'] = (POAW.max()-POAW.min())/(0.5*POAW.max()+POAW.min())"
   ]
  },
  {
   "cell_type": "code",
   "execution_count": null,
   "id": "fb30bd88",
   "metadata": {},
   "outputs": [],
   "source": [
    "import matplotlib.pyplot as plt\n"
   ]
  },
  {
   "cell_type": "code",
   "execution_count": null,
   "id": "5ea17e4c",
   "metadata": {},
   "outputs": [],
   "source": [
    "dataN.set_index(pd.to_datetime(dataN['date']), inplace=True, drop=True)\n",
    "dataE.set_index(pd.to_datetime(dataE['date']), inplace=True, drop=True)\n",
    "dataS.set_index(pd.to_datetime(dataS['date']), inplace=True, drop=True)\n",
    "dataW.set_index(pd.to_datetime(dataW['date']), inplace=True, drop=True)\n"
   ]
  },
  {
   "cell_type": "code",
   "execution_count": null,
   "id": "cf6edf7b",
   "metadata": {},
   "outputs": [],
   "source": []
  },
  {
   "cell_type": "code",
   "execution_count": null,
   "id": "e1f07392",
   "metadata": {},
   "outputs": [],
   "source": [
    "data.keys()"
   ]
  },
  {
   "cell_type": "code",
   "execution_count": null,
   "id": "174d6606",
   "metadata": {},
   "outputs": [],
   "source": [
    "singleday = (data.index > '2021-01-01') & (data.index<'2021-01-05')\n",
    "fig, ax = plt.subplots()\n",
    "plt.plot(data.index[singleday],data['ghi'][singleday],'k')\n",
    "#ax1.plot(data.index[singleday],data['DNI'][singleday],'k')\n",
    "#ax1.plot(data.index[singleday],data['DHI'][singleday],'k')"
   ]
  },
  {
   "cell_type": "code",
   "execution_count": null,
   "id": "03911560",
   "metadata": {},
   "outputs": [],
   "source": [
    "idxstart = '2021-03-02'\n",
    "idxend = '2021-03-02'\n",
    "#idxstart = '2021-01-03'\n",
    "#idxend = '2021-01-03'\n",
    "#data.loc['2021-01-03':'2021-01-04']\n",
    "\n",
    "fig, ax = plt.subplots()\n",
    "ax1 = ax.twinx()\n",
    "#ax1.plot(data.index[singleday],data['ghi'][singleday],'k')\n",
    "ax1.plot(dataN.loc[idxstart:idxend].index,dataN.loc[idxstart:idxend].ghi,'k')\n",
    "\n",
    "ax1.set_ylabel('GHI')\n",
    "ax.set_ylabel('Irradiance (Wm-2)')\n",
    "allPOA = (dataN.loc[idxstart:idxend].POA + dataE.loc[idxstart:idxend].POA.values + \n",
    "dataS.loc[idxstart:idxend].POA.values + dataW.loc[idxstart:idxend].POA.values)\n",
    "ax.plot(dataN.loc[idxstart:idxend].index,dataN.loc[idxstart:idxend].POA,'r')\n",
    "ax.plot(dataN.loc[idxstart:idxend].index,dataE.loc[idxstart:idxend].POA,'g')\n",
    "ax.plot(dataN.loc[idxstart:idxend].index,dataS.loc[idxstart:idxend].POA,'b')\n",
    "ax.plot(dataN.loc[idxstart:idxend].index,dataW.loc[idxstart:idxend].POA,'y')\n",
    "ax.plot(dataN.loc[idxstart:idxend].index,allPOA,'r--.')\n",
    "ax1.set_ylim([0, 1400])\n",
    "ax.set_ylim([0, 8000])\n",
    "\n",
    "ax.set_title('Day '+idxstart)\n",
    "\n",
    "fig.autofmt_xdate()\n",
    "fig.tight_layout()\n"
   ]
  },
  {
   "cell_type": "code",
   "execution_count": null,
   "id": "f93dc92d",
   "metadata": {},
   "outputs": [],
   "source": []
  },
  {
   "cell_type": "code",
   "execution_count": null,
   "id": "36b47034",
   "metadata": {},
   "outputs": [],
   "source": [
    "data = dataN.copy()\n",
    "singleday = (data.index > '2021-01-03') & (data.index<'2021-01-04')\n",
    "\n",
    "fig, ax = plt.subplots()\n",
    "ax1 = ax.twinx()\n",
    "ax1.plot(data.index[singleday],data['ghi'][singleday],'k')\n",
    "ax1.set_ylabel('DNI')\n",
    "ax.set_ylabel('Irradiance (Wm-2)')\n",
    "ax.plot(data.index[singleday],data['GTIFrontavg'][singleday],'k')\n",
    "ax.plot(data.index[singleday], data['No_1_RowBackGTI'][singleday],'r' , alpha =0.5)\n",
    "ax.plot(data.index[singleday], data['No_2_RowBackGTI'][singleday], 'b', alpha = 0.5)\n",
    "ax.plot(data.index[singleday], data['No_6_RowBackGTI'][singleday], 'g', alpha = 0.5)\n",
    "ax.set_title('Sunny day')\n",
    "fig.autofmt_xdate()\n",
    "fig.tight_layout()\n"
   ]
  },
  {
   "cell_type": "code",
   "execution_count": null,
   "id": "4725e20d",
   "metadata": {},
   "outputs": [],
   "source": [
    "# plot the rear irradiance distribution for a single point in time. 1999-07-06\n",
    "import matplotlib.pyplot as plt\n",
    "import pandas as pd\n",
    "%matplotlib inline\n",
    "\n",
    "data['GTIBackstd'] = data[['No_1_RowBackGTI', 'No_2_RowBackGTI','No_3_RowBackGTI','No_4_RowBackGTI','No_5_RowBackGTI','No_6_RowBackGTI']].std(axis=1)\n",
    "data.set_index(pd.to_datetime(data['date']), inplace=True, drop=True)\n",
    "data.index = data.index.map(lambda t: t.replace(year=2021))   # Chagning to be the same year\n",
    "singleday = (data.index > '2021-07-09') & (data.index<'2021-07-10')\n",
    "singleday2 = (data.index > '2021-07-15') & (data.index<'2021-07-16')\n",
    "\n",
    "fig, ax = plt.subplots()\n",
    "ax1 = ax.twinx()\n",
    "ax1.plot(data.index[singleday],data['GTIFrontavg'][singleday],'k')\n",
    "ax1.set_ylabel('Front Irradiance (Wm-2)')\n",
    "ax.set_ylabel('Rear Irradiance (Wm-2)')\n",
    "ax.plot(data.index[singleday], data['No_1_RowBackGTI'][singleday],'r' , alpha =0.5)\n",
    "ax.plot(data.index[singleday], data['No_2_RowBackGTI'][singleday], 'b', alpha = 0.5)\n",
    "ax.plot(data.index[singleday], data['No_6_RowBackGTI'][singleday], 'g', alpha = 0.5)\n",
    "ax.set_title('Sunny day')\n",
    "fig.autofmt_xdate()\n",
    "fig.tight_layout()\n",
    "\n",
    "\n",
    "fig2, ax2 = plt.subplots()\n",
    "ax3 = ax2.twinx()\n",
    "ax3.plot(data.index[singleday2],data['GTIFrontavg'][singleday2],'k')\n",
    "ax3.set_ylabel('Front Irradiance (Wm-2)')\n",
    "ax2.set_ylabel('Rear Irradiance (Wm-2)')\n",
    "ax2.plot(data.index[singleday2], data['No_1_RowBackGTI'][singleday2],'r' , alpha =0.5)\n",
    "ax2.plot(data.index[singleday2], data['No_2_RowBackGTI'][singleday2], 'b', alpha = 0.5)\n",
    "ax2.plot(data.index[singleday2], data['No_6_RowBackGTI'][singleday2], 'g', alpha = 0.5)\n",
    "ax2.set_title('Cloudy day')\n",
    "fig2.autofmt_xdate()\n",
    "fig2.tight_layout()\n"
   ]
  },
  {
   "cell_type": "code",
   "execution_count": null,
   "id": "3a2ff228",
   "metadata": {},
   "outputs": [],
   "source": []
  },
  {
   "cell_type": "code",
   "execution_count": null,
   "id": "83dc1046",
   "metadata": {},
   "outputs": [],
   "source": [
    "rawfile = r'..\\..\\SAM_SP_WeatherFile.csv'\n",
    "demo = bifacial_radiance.RadianceObj(\"SouthPole\", path = testfolder)  # Create a RadianceObj 'object'\n",
    "demo.setGround(0.7)\n",
    "metdata = demo.readWeatherFile(rawfile, source='SAM') "
   ]
  }
 ],
 "metadata": {
  "kernelspec": {
   "display_name": "Python 3 (ipykernel)",
   "language": "python",
   "name": "python3"
  },
  "language_info": {
   "codemirror_mode": {
    "name": "ipython",
    "version": 3
   },
   "file_extension": ".py",
   "mimetype": "text/x-python",
   "name": "python",
   "nbconvert_exporter": "python",
   "pygments_lexer": "ipython3",
   "version": "3.8.8"
  }
 },
 "nbformat": 4,
 "nbformat_minor": 5
}

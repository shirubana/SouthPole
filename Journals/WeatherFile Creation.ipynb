{
 "cells": [
  {
   "cell_type": "code",
   "execution_count": 1,
   "id": "72b1cb59",
   "metadata": {},
   "outputs": [],
   "source": [
    "import pandas as pd\n",
    "import os\n",
    "import pvlib"
   ]
  },
  {
   "cell_type": "code",
   "execution_count": 2,
   "id": "e8ad46a0",
   "metadata": {},
   "outputs": [
    {
     "data": {
      "text/plain": [
       "'0.9.4.dev0+g73965c2.d20220922'"
      ]
     },
     "execution_count": 2,
     "metadata": {},
     "output_type": "execute_result"
    }
   ],
   "source": [
    "pvlib.__version__"
   ]
  },
  {
   "cell_type": "code",
   "execution_count": 3,
   "id": "bd39c31d",
   "metadata": {},
   "outputs": [],
   "source": [
    "weatherfolder = r'WeatherFileDats'"
   ]
  },
  {
   "cell_type": "code",
   "execution_count": 4,
   "id": "7e9c4f89",
   "metadata": {},
   "outputs": [],
   "source": [
    "# NOAO  -- pvlib / SAM\n",
    "# dw_solar = ghi\n",
    "# direct_n = dni\n",
    "# diffuse = dhi\n",
    "# rh = \n",
    "# pressure\n",
    "# windspd = wind_speed\n",
    "# windir\n",
    "# tmep = temp_air\n",
    "\n",
    "headers = ['year', 'jday', 'month', 'day', 'hour', 'minute', 'dt', 'zen',\n",
    "'ghi', 'blank', 'uw_solar', 'blank', 'dni', 'blank', 'dhi', 'blank',\n",
    "'dw_ir', 'blank', 'dw_casetemp', 'blank', 'dw_dometemp', 'blank', 'uw_ir',\n",
    "'blank', 'uw_casetemp', 'blank', 'uw_dometemp', 'blank', 'uvb', 'blank', 'par',\n",
    "'blank', 'netsolar', 'blank', 'netir', 'blank', 'totalnet', 'blank', 'temp_air',\n",
    "'blank', 'rh', 'blank', 'wind_speed', 'blank', 'winddir', 'blank', 'pressure', 'blank'\n",
    "]"
   ]
  },
  {
   "cell_type": "code",
   "execution_count": 5,
   "id": "83b01020",
   "metadata": {},
   "outputs": [],
   "source": [
    "df_all = pd.DataFrame()\n",
    "for ii in range (1, 366):\n",
    "    wfile = os.path.join(weatherfolder, 'spo21{:2}.dat'.format(f'{ii:03}'))\n",
    "    df = pd.read_table(wfile, sep=\"\\s+\", skiprows=2, header=None,  engine='python') #, sep=\"\\s+\") \n",
    "    df.columns=headers\n",
    "    df = df.drop(columns='blank')\n",
    "    frames = [df_all, df]\n",
    "    df_all = pd.concat(frames)\n"
   ]
  },
  {
   "cell_type": "code",
   "execution_count": 6,
   "id": "d06dfd28",
   "metadata": {},
   "outputs": [],
   "source": [
    "df_all['timestamps'] = pd.to_datetime(df_all[['year', 'month', 'day', 'hour', 'minute']])"
   ]
  },
  {
   "cell_type": "code",
   "execution_count": 7,
   "id": "5638d434",
   "metadata": {},
   "outputs": [],
   "source": [
    "df_all.set_index(df_all['timestamps'], inplace = True)"
   ]
  },
  {
   "cell_type": "code",
   "execution_count": 8,
   "id": "bad6db07",
   "metadata": {},
   "outputs": [],
   "source": [
    "df_all = df_all.iloc[:-60]"
   ]
  },
  {
   "cell_type": "code",
   "execution_count": 9,
   "id": "7a7d6044",
   "metadata": {},
   "outputs": [],
   "source": [
    "df_all.replace(to_replace = -9999.9, value =0 , inplace=True)# -9999.9]"
   ]
  },
  {
   "cell_type": "code",
   "execution_count": 10,
   "id": "30ac9022",
   "metadata": {},
   "outputs": [],
   "source": [
    "#df_all['dhi'].replace(to_replace = -0.1, value =0 , inplace=True)# -9999.9]\n"
   ]
  },
  {
   "cell_type": "code",
   "execution_count": 11,
   "id": "032c6a47",
   "metadata": {},
   "outputs": [],
   "source": [
    "df_all.loc[df_all['dni']<0,'dni']=0\n",
    "df_all.loc[df_all['ghi']<0,'ghi']=0\n",
    "df_all.loc[df_all['dhi']<0,'dhi']=0"
   ]
  },
  {
   "cell_type": "code",
   "execution_count": 12,
   "id": "23a3582f",
   "metadata": {},
   "outputs": [],
   "source": [
    "df_all.replace(to_replace = -9999.9, value =0 , inplace=True)# -9999.9]-0.1"
   ]
  },
  {
   "cell_type": "code",
   "execution_count": 13,
   "id": "c720f802",
   "metadata": {},
   "outputs": [],
   "source": [
    "metdata = {'latitude':  -89.98,  # From the NOAA metdata\n",
    "           'longitude':-24.80,\n",
    "           'source':'NOAA',\n",
    "           'elevation': 2810,\n",
    "            'TZ':-3}"
   ]
  },
  {
   "cell_type": "code",
   "execution_count": 14,
   "id": "f99d1d3f",
   "metadata": {},
   "outputs": [],
   "source": [
    "pvlib.iotools.saveSAM_WeatherFile(df_all, metdata, savefile='SAM_SP_WeatherFile.csv')"
   ]
  },
  {
   "cell_type": "code",
   "execution_count": null,
   "id": "53985320",
   "metadata": {},
   "outputs": [],
   "source": []
  }
 ],
 "metadata": {
  "kernelspec": {
   "display_name": "Python 3 (ipykernel)",
   "language": "python",
   "name": "python3"
  },
  "language_info": {
   "codemirror_mode": {
    "name": "ipython",
    "version": 3
   },
   "file_extension": ".py",
   "mimetype": "text/x-python",
   "name": "python",
   "nbconvert_exporter": "python",
   "pygments_lexer": "ipython3",
   "version": "3.8.8"
  }
 },
 "nbformat": 4,
 "nbformat_minor": 5
}

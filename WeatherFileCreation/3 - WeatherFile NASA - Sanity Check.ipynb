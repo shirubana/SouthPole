{
 "cells": [
  {
   "cell_type": "markdown",
   "id": "bc7f1a25",
   "metadata": {},
   "source": [
    "# NASA Min-MeteorologicalYear \n",
    "\n",
    "Calculates two-week minimum DNI to create a Minimum TMY \n",
    "\n",
    "Uses NASA data files for ~20 years"
   ]
  },
  {
   "cell_type": "code",
   "execution_count": 1,
   "id": "62af86a5",
   "metadata": {},
   "outputs": [],
   "source": [
    "import pvlib\n",
    "import os\n",
    "import pandas as pd\n",
    "import matplotlib.pyplot as plt\n",
    "import numpy as np"
   ]
  },
  {
   "cell_type": "code",
   "execution_count": 7,
   "id": "c48f2fea",
   "metadata": {},
   "outputs": [],
   "source": [
    "SAMfile = r'../DATA/WeatherFilesNASA/POWER_Point_Hourly_20160101_20161231_090d00S_000d00E_LT.csv'"
   ]
  },
  {
   "cell_type": "code",
   "execution_count": 9,
   "id": "f2ba45b1",
   "metadata": {},
   "outputs": [],
   "source": [
    "with open(SAMfile) as myfile:\n",
    "    head = next(myfile)#\n",
    "    meta = next(myfile)\n",
    "\n",
    "meta2=meta.split(',')\n",
    "meta2[-1] = meta2[-1][:-1] # Remove the carryover sig\n",
    "\n",
    "head2 = head.split(',')\n",
    "head2[-1] = head2[-1][:-1] \n",
    "\n",
    "res = {head2[i]: meta2[i] for i in range(len(head2))}\n",
    "\n",
    "\n",
    "data = pd.read_csv(SAMfile, skiprows=2)\n",
    "\n",
    "metadata = {}\n",
    "metadata['TZ'] = float(res['Time Zone'])\n",
    "metadata['latitude'] = float(res['Latitude'])\n",
    "metadata['longitude'] = float(res['Longitude'])\n",
    "metadata['altitude'] = float(res['Elevation'])\n",
    "metadata['city'] = res['Source']\n",
    "\n",
    "if 'Minute' in data.columns:\n",
    "    dtidx = pd.to_datetime(\n",
    "        data[['year', 'month', 'day', 'hour', 'minute']])\n",
    "else: \n",
    "    dtidx = pd.to_datetime(\n",
    "        data[['year', 'month', 'day', 'hour']])\n",
    "# in USA all timezones are integers\n",
    "tz = 'Etc/GMT%+d' % -metadata['TZ']\n",
    "data.index = pd.DatetimeIndex(dtidx).tz_localize(tz)\n"
   ]
  },
  {
   "cell_type": "code",
   "execution_count": 10,
   "id": "4b21c911",
   "metadata": {},
   "outputs": [
    {
     "data": {
      "text/html": [
       "<div>\n",
       "<style scoped>\n",
       "    .dataframe tbody tr th:only-of-type {\n",
       "        vertical-align: middle;\n",
       "    }\n",
       "\n",
       "    .dataframe tbody tr th {\n",
       "        vertical-align: top;\n",
       "    }\n",
       "\n",
       "    .dataframe thead th {\n",
       "        text-align: right;\n",
       "    }\n",
       "</style>\n",
       "<table border=\"1\" class=\"dataframe\">\n",
       "  <thead>\n",
       "    <tr style=\"text-align: right;\">\n",
       "      <th></th>\n",
       "      <th>year</th>\n",
       "      <th>month</th>\n",
       "      <th>day</th>\n",
       "      <th>hour</th>\n",
       "      <th>ghi</th>\n",
       "      <th>dni</th>\n",
       "      <th>dhi</th>\n",
       "      <th>tdry</th>\n",
       "      <th>twet</th>\n",
       "      <th>Tdew</th>\n",
       "      <th>wspd</th>\n",
       "      <th>wdir</th>\n",
       "      <th>rh</th>\n",
       "      <th>pres</th>\n",
       "      <th>snow</th>\n",
       "      <th>albedo</th>\n",
       "      <th>aod</th>\n",
       "    </tr>\n",
       "  </thead>\n",
       "  <tbody>\n",
       "    <tr>\n",
       "      <th>2016-01-01 00:00:00+14:00</th>\n",
       "      <td>2016</td>\n",
       "      <td>1</td>\n",
       "      <td>1</td>\n",
       "      <td>0</td>\n",
       "      <td>478.156</td>\n",
       "      <td>1077.961</td>\n",
       "      <td>65.156</td>\n",
       "      <td>-30.611</td>\n",
       "      <td>-30.931</td>\n",
       "      <td>-31.244</td>\n",
       "      <td>3.108</td>\n",
       "      <td>53.793</td>\n",
       "      <td>93.375</td>\n",
       "      <td>684.896</td>\n",
       "      <td>NaN</td>\n",
       "      <td>0.750</td>\n",
       "      <td>0.0</td>\n",
       "    </tr>\n",
       "    <tr>\n",
       "      <th>2016-01-01 01:00:00+14:00</th>\n",
       "      <td>2016</td>\n",
       "      <td>1</td>\n",
       "      <td>1</td>\n",
       "      <td>1</td>\n",
       "      <td>478.016</td>\n",
       "      <td>1081.078</td>\n",
       "      <td>64.609</td>\n",
       "      <td>-30.541</td>\n",
       "      <td>-30.892</td>\n",
       "      <td>-31.244</td>\n",
       "      <td>2.999</td>\n",
       "      <td>49.755</td>\n",
       "      <td>92.625</td>\n",
       "      <td>684.658</td>\n",
       "      <td>NaN</td>\n",
       "      <td>0.750</td>\n",
       "      <td>0.0</td>\n",
       "    </tr>\n",
       "    <tr>\n",
       "      <th>2016-01-01 02:00:00+14:00</th>\n",
       "      <td>2016</td>\n",
       "      <td>1</td>\n",
       "      <td>1</td>\n",
       "      <td>2</td>\n",
       "      <td>478.055</td>\n",
       "      <td>1082.734</td>\n",
       "      <td>64.078</td>\n",
       "      <td>-30.470</td>\n",
       "      <td>-30.861</td>\n",
       "      <td>-31.252</td>\n",
       "      <td>2.917</td>\n",
       "      <td>45.651</td>\n",
       "      <td>91.938</td>\n",
       "      <td>684.413</td>\n",
       "      <td>NaN</td>\n",
       "      <td>0.750</td>\n",
       "      <td>0.0</td>\n",
       "    </tr>\n",
       "    <tr>\n",
       "      <th>2016-01-01 03:00:00+14:00</th>\n",
       "      <td>2016</td>\n",
       "      <td>1</td>\n",
       "      <td>1</td>\n",
       "      <td>3</td>\n",
       "      <td>480.219</td>\n",
       "      <td>1100.500</td>\n",
       "      <td>58.773</td>\n",
       "      <td>-30.392</td>\n",
       "      <td>-30.822</td>\n",
       "      <td>-31.252</td>\n",
       "      <td>2.884</td>\n",
       "      <td>41.376</td>\n",
       "      <td>91.188</td>\n",
       "      <td>684.158</td>\n",
       "      <td>NaN</td>\n",
       "      <td>0.750</td>\n",
       "      <td>0.0</td>\n",
       "    </tr>\n",
       "    <tr>\n",
       "      <th>2016-01-01 04:00:00+14:00</th>\n",
       "      <td>2016</td>\n",
       "      <td>1</td>\n",
       "      <td>1</td>\n",
       "      <td>4</td>\n",
       "      <td>482.266</td>\n",
       "      <td>1100.438</td>\n",
       "      <td>59.469</td>\n",
       "      <td>-30.298</td>\n",
       "      <td>-30.767</td>\n",
       "      <td>-31.236</td>\n",
       "      <td>2.884</td>\n",
       "      <td>36.963</td>\n",
       "      <td>90.438</td>\n",
       "      <td>683.894</td>\n",
       "      <td>NaN</td>\n",
       "      <td>0.750</td>\n",
       "      <td>0.0</td>\n",
       "    </tr>\n",
       "    <tr>\n",
       "      <th>...</th>\n",
       "      <td>...</td>\n",
       "      <td>...</td>\n",
       "      <td>...</td>\n",
       "      <td>...</td>\n",
       "      <td>...</td>\n",
       "      <td>...</td>\n",
       "      <td>...</td>\n",
       "      <td>...</td>\n",
       "      <td>...</td>\n",
       "      <td>...</td>\n",
       "      <td>...</td>\n",
       "      <td>...</td>\n",
       "      <td>...</td>\n",
       "      <td>...</td>\n",
       "      <td>...</td>\n",
       "      <td>...</td>\n",
       "      <td>...</td>\n",
       "    </tr>\n",
       "    <tr>\n",
       "      <th>2016-12-31 19:00:00+14:00</th>\n",
       "      <td>2016</td>\n",
       "      <td>12</td>\n",
       "      <td>31</td>\n",
       "      <td>19</td>\n",
       "      <td>416.984</td>\n",
       "      <td>377.141</td>\n",
       "      <td>268.742</td>\n",
       "      <td>-22.572</td>\n",
       "      <td>-22.830</td>\n",
       "      <td>-23.087</td>\n",
       "      <td>3.686</td>\n",
       "      <td>19.049</td>\n",
       "      <td>94.938</td>\n",
       "      <td>691.938</td>\n",
       "      <td>NaN</td>\n",
       "      <td>0.781</td>\n",
       "      <td>0.0</td>\n",
       "    </tr>\n",
       "    <tr>\n",
       "      <th>2016-12-31 20:00:00+14:00</th>\n",
       "      <td>2016</td>\n",
       "      <td>12</td>\n",
       "      <td>31</td>\n",
       "      <td>20</td>\n",
       "      <td>424.328</td>\n",
       "      <td>452.688</td>\n",
       "      <td>247.602</td>\n",
       "      <td>-22.603</td>\n",
       "      <td>-22.869</td>\n",
       "      <td>-23.134</td>\n",
       "      <td>3.896</td>\n",
       "      <td>14.399</td>\n",
       "      <td>94.812</td>\n",
       "      <td>692.032</td>\n",
       "      <td>NaN</td>\n",
       "      <td>0.766</td>\n",
       "      <td>0.0</td>\n",
       "    </tr>\n",
       "    <tr>\n",
       "      <th>2016-12-31 21:00:00+14:00</th>\n",
       "      <td>2016</td>\n",
       "      <td>12</td>\n",
       "      <td>31</td>\n",
       "      <td>21</td>\n",
       "      <td>394.664</td>\n",
       "      <td>291.984</td>\n",
       "      <td>281.430</td>\n",
       "      <td>-22.650</td>\n",
       "      <td>-22.955</td>\n",
       "      <td>-23.259</td>\n",
       "      <td>4.184</td>\n",
       "      <td>9.673</td>\n",
       "      <td>94.062</td>\n",
       "      <td>692.106</td>\n",
       "      <td>NaN</td>\n",
       "      <td>0.789</td>\n",
       "      <td>0.0</td>\n",
       "    </tr>\n",
       "    <tr>\n",
       "      <th>2016-12-31 22:00:00+14:00</th>\n",
       "      <td>2016</td>\n",
       "      <td>12</td>\n",
       "      <td>31</td>\n",
       "      <td>22</td>\n",
       "      <td>414.211</td>\n",
       "      <td>451.219</td>\n",
       "      <td>240.266</td>\n",
       "      <td>-22.736</td>\n",
       "      <td>-23.080</td>\n",
       "      <td>-23.423</td>\n",
       "      <td>4.441</td>\n",
       "      <td>6.262</td>\n",
       "      <td>93.312</td>\n",
       "      <td>692.194</td>\n",
       "      <td>NaN</td>\n",
       "      <td>0.766</td>\n",
       "      <td>0.0</td>\n",
       "    </tr>\n",
       "    <tr>\n",
       "      <th>2016-12-31 23:00:00+14:00</th>\n",
       "      <td>2016</td>\n",
       "      <td>12</td>\n",
       "      <td>31</td>\n",
       "      <td>23</td>\n",
       "      <td>377.672</td>\n",
       "      <td>274.930</td>\n",
       "      <td>272.211</td>\n",
       "      <td>-22.791</td>\n",
       "      <td>-23.142</td>\n",
       "      <td>-23.494</td>\n",
       "      <td>4.336</td>\n",
       "      <td>6.933</td>\n",
       "      <td>93.188</td>\n",
       "      <td>692.290</td>\n",
       "      <td>NaN</td>\n",
       "      <td>0.797</td>\n",
       "      <td>0.0</td>\n",
       "    </tr>\n",
       "  </tbody>\n",
       "</table>\n",
       "<p>8784 rows × 17 columns</p>\n",
       "</div>"
      ],
      "text/plain": [
       "                           year  month  day  hour      ghi       dni      dhi  \\\n",
       "2016-01-01 00:00:00+14:00  2016      1    1     0  478.156  1077.961   65.156   \n",
       "2016-01-01 01:00:00+14:00  2016      1    1     1  478.016  1081.078   64.609   \n",
       "2016-01-01 02:00:00+14:00  2016      1    1     2  478.055  1082.734   64.078   \n",
       "2016-01-01 03:00:00+14:00  2016      1    1     3  480.219  1100.500   58.773   \n",
       "2016-01-01 04:00:00+14:00  2016      1    1     4  482.266  1100.438   59.469   \n",
       "...                         ...    ...  ...   ...      ...       ...      ...   \n",
       "2016-12-31 19:00:00+14:00  2016     12   31    19  416.984   377.141  268.742   \n",
       "2016-12-31 20:00:00+14:00  2016     12   31    20  424.328   452.688  247.602   \n",
       "2016-12-31 21:00:00+14:00  2016     12   31    21  394.664   291.984  281.430   \n",
       "2016-12-31 22:00:00+14:00  2016     12   31    22  414.211   451.219  240.266   \n",
       "2016-12-31 23:00:00+14:00  2016     12   31    23  377.672   274.930  272.211   \n",
       "\n",
       "                             tdry    twet    Tdew   wspd    wdir      rh  \\\n",
       "2016-01-01 00:00:00+14:00 -30.611 -30.931 -31.244  3.108  53.793  93.375   \n",
       "2016-01-01 01:00:00+14:00 -30.541 -30.892 -31.244  2.999  49.755  92.625   \n",
       "2016-01-01 02:00:00+14:00 -30.470 -30.861 -31.252  2.917  45.651  91.938   \n",
       "2016-01-01 03:00:00+14:00 -30.392 -30.822 -31.252  2.884  41.376  91.188   \n",
       "2016-01-01 04:00:00+14:00 -30.298 -30.767 -31.236  2.884  36.963  90.438   \n",
       "...                           ...     ...     ...    ...     ...     ...   \n",
       "2016-12-31 19:00:00+14:00 -22.572 -22.830 -23.087  3.686  19.049  94.938   \n",
       "2016-12-31 20:00:00+14:00 -22.603 -22.869 -23.134  3.896  14.399  94.812   \n",
       "2016-12-31 21:00:00+14:00 -22.650 -22.955 -23.259  4.184   9.673  94.062   \n",
       "2016-12-31 22:00:00+14:00 -22.736 -23.080 -23.423  4.441   6.262  93.312   \n",
       "2016-12-31 23:00:00+14:00 -22.791 -23.142 -23.494  4.336   6.933  93.188   \n",
       "\n",
       "                              pres  snow  albedo  aod  \n",
       "2016-01-01 00:00:00+14:00  684.896   NaN   0.750  0.0  \n",
       "2016-01-01 01:00:00+14:00  684.658   NaN   0.750  0.0  \n",
       "2016-01-01 02:00:00+14:00  684.413   NaN   0.750  0.0  \n",
       "2016-01-01 03:00:00+14:00  684.158   NaN   0.750  0.0  \n",
       "2016-01-01 04:00:00+14:00  683.894   NaN   0.750  0.0  \n",
       "...                            ...   ...     ...  ...  \n",
       "2016-12-31 19:00:00+14:00  691.938   NaN   0.781  0.0  \n",
       "2016-12-31 20:00:00+14:00  692.032   NaN   0.766  0.0  \n",
       "2016-12-31 21:00:00+14:00  692.106   NaN   0.789  0.0  \n",
       "2016-12-31 22:00:00+14:00  692.194   NaN   0.766  0.0  \n",
       "2016-12-31 23:00:00+14:00  692.290   NaN   0.797  0.0  \n",
       "\n",
       "[8784 rows x 17 columns]"
      ]
     },
     "execution_count": 10,
     "metadata": {},
     "output_type": "execute_result"
    }
   ],
   "source": [
    "data"
   ]
  },
  {
   "cell_type": "code",
   "execution_count": 12,
   "id": "a76a3e86",
   "metadata": {},
   "outputs": [
    {
     "data": {
      "text/plain": [
       "{'TZ': 14.0,\n",
       " 'latitude': -90.0,\n",
       " 'longitude': 0.0,\n",
       " 'altitude': 2811.04,\n",
       " 'city': 'NASA/POWER'}"
      ]
     },
     "execution_count": 12,
     "metadata": {},
     "output_type": "execute_result"
    }
   ],
   "source": [
    "metadata"
   ]
  },
  {
   "cell_type": "code",
   "execution_count": 13,
   "id": "348469f9",
   "metadata": {},
   "outputs": [],
   "source": [
    "import pvlib"
   ]
  },
  {
   "cell_type": "code",
   "execution_count": 57,
   "id": "09e01b40",
   "metadata": {},
   "outputs": [],
   "source": [
    "#SP = pvlib.location.Location(latitude = -89.98, longitude = -24.8, tz = 'Etc/GMT+3', altitude = 2810, name='SouthPole')\n",
    "SP = pvlib.location.Location(latitude = metadata['latitude'], longitude = metadata['longitude'], tz = metadata['TZ'], \n",
    "                             altitude = metadata['altitude'], name='SouthPole')"
   ]
  },
  {
   "cell_type": "code",
   "execution_count": 32,
   "id": "e27c2007",
   "metadata": {},
   "outputs": [],
   "source": [
    "sun = SP.get_solarposition(data.index)\n",
    "data['Solar_Azimuth'] = sun['azimuth']\n",
    "data['Solar_Elevation'] = sun['elevation']"
   ]
  },
  {
   "cell_type": "code",
   "execution_count": 58,
   "id": "15d86413",
   "metadata": {},
   "outputs": [],
   "source": [
    "SP = SP.get_clearsky(data.index)\n",
    "data['dni_clearsky'] = SP.dni\n",
    "data['dhi_clearsky'] = SP.dhi\n",
    "data['ghi_clearsky'] = SP.ghi"
   ]
  },
  {
   "cell_type": "code",
   "execution_count": 27,
   "id": "d3927570",
   "metadata": {},
   "outputs": [],
   "source": [
    "import matplotlib.pyplot as plt"
   ]
  },
  {
   "cell_type": "code",
   "execution_count": 61,
   "id": "b9999265",
   "metadata": {},
   "outputs": [],
   "source": [
    "foo = data[data['Solar_Elevation']>0]"
   ]
  },
  {
   "cell_type": "code",
   "execution_count": 62,
   "id": "8e5ff15c",
   "metadata": {},
   "outputs": [
    {
     "data": {
      "text/plain": [
       "[<matplotlib.lines.Line2D at 0x1b66352f6a0>]"
      ]
     },
     "execution_count": 62,
     "metadata": {},
     "output_type": "execute_result"
    },
    {
     "data": {
      "image/png": "[encoded data removed]",
      "text/plain": [
       "<Figure size 640x480 with 1 Axes>"
      ]
     },
     "metadata": {},
     "output_type": "display_data"
    }
   ],
   "source": [
    "plt.plot(data['Solar_Azimuth'])"
   ]
  },
  {
   "cell_type": "code",
   "execution_count": 63,
   "id": "146233e9",
   "metadata": {},
   "outputs": [],
   "source": [
    "NS = foo[(foo['Solar_Azimuth'] < 90) | (foo['Solar_Azimuth'] > 270)]\n",
    "EW = foo[(foo['Solar_Azimuth'] >= 90) & (foo['Solar_Azimuth'] <= 270)]"
   ]
  },
  {
   "cell_type": "code",
   "execution_count": 71,
   "id": "f5dc0d82",
   "metadata": {},
   "outputs": [
    {
     "data": {
      "text/plain": [
       "0.9602075933337336"
      ]
     },
     "execution_count": 71,
     "metadata": {},
     "output_type": "execute_result"
    }
   ],
   "source": [
    "NS.dni.sum()/EW.dni.sum()"
   ]
  },
  {
   "cell_type": "code",
   "execution_count": 72,
   "id": "e279931f",
   "metadata": {},
   "outputs": [
    {
     "data": {
      "text/plain": [
       "0.9990813880192589"
      ]
     },
     "execution_count": 72,
     "metadata": {},
     "output_type": "execute_result"
    }
   ],
   "source": [
    "NS.dni_clearsky.sum()/EW.dni_clearsky.sum()"
   ]
  }
 ],
 "metadata": {
  "kernelspec": {
   "display_name": "Python 3 (ipykernel)",
   "language": "python",
   "name": "python3"
  },
  "language_info": {
   "codemirror_mode": {
    "name": "ipython",
    "version": 3
   },
   "file_extension": ".py",
   "mimetype": "text/x-python",
   "name": "python",
   "nbconvert_exporter": "python",
   "pygments_lexer": "ipython3",
   "version": "3.9.13"
  }
 },
 "nbformat": 4,
 "nbformat_minor": 5
}

{
 "cells": [
  {
   "cell_type": "markdown",
   "id": "7bbecfc1",
   "metadata": {},
   "source": [
    "# 2 - WeatherFile Creation - SAM format to TMY3 format"
   ]
  },
  {
   "cell_type": "markdown",
   "id": "3c6f4725",
   "metadata": {},
   "source": [
    "bifacial_radiance worked originally with TMY3 data format "
   ]
  },
  {
   "cell_type": "code",
   "execution_count": 13,
   "id": "ea7d39f1",
   "metadata": {},
   "outputs": [
    {
     "data": {
      "text/plain": [
       "'0.4.2+148.gdb91364.dirty'"
      ]
     },
     "execution_count": 13,
     "metadata": {},
     "output_type": "execute_result"
    }
   ],
   "source": [
    "import os\n",
    "import numpy as np\n",
    "import pandas as pd\n",
    "from pathlib import Path\n",
    "import bifacial_radiance\n",
    "bifacial_radiance.__version__"
   ]
  },
  {
   "cell_type": "code",
   "execution_count": 14,
   "id": "fdbefcb7",
   "metadata": {},
   "outputs": [
    {
     "name": "stdout",
     "output_type": "stream",
     "text": [
      "Last run: 2023-04-10\n"
     ]
    }
   ],
   "source": [
    "from datetime import date\n",
    "\n",
    "today = date.today()\n",
    "print(\"Last run:\", today)"
   ]
  },
  {
   "cell_type": "code",
   "execution_count": 15,
   "id": "ebd97979",
   "metadata": {},
   "outputs": [],
   "source": [
    "testfolder = testfolder = str(Path().resolve().parent.parent / 'bifacial_radiance' / 'SouthPole')\n",
    "if not os.path.exists(testfolder):\n",
    "    os.makedirs(testfolder)\n"
   ]
  },
  {
   "cell_type": "markdown",
   "id": "85bc69d0",
   "metadata": {},
   "source": [
    "# Weather File modification"
   ]
  },
  {
   "cell_type": "code",
   "execution_count": 18,
   "id": "9f14ba0a",
   "metadata": {},
   "outputs": [],
   "source": [
    "def convertTMYtoSAM(data, savefile='Bifacial_SAMfileAll2019_15.csv', includeminute = True):\n",
    "    \"\"\"\n",
    "    Saves a dataframe with weather data from SRRL on SAM-friendly format.\n",
    "\n",
    "    INPUT:\n",
    "    data\n",
    "    savefile\n",
    "    includeminute  -- especially for hourly data, if SAM input does not have Minutes, it assuems it's TMY3 format and \n",
    "                      calculates the sun position 30 minutes prior to the hour (i.e. 12 timestamp means sun position at 11:30)\n",
    "                      If minutes are included, it will calculate the sun position at the time of the timestamp (12:00 at 12:00)\n",
    "                      Include minutes if resolution of data is not hourly duh. (but it will calculate at the timestamp)\n",
    "                      \n",
    "    Headers expected by SAM:\n",
    "    ************************* \n",
    "    # Source\tLocation ID\tCity\tState\tCountry\tLatitude\tLongitude\tTime Zone\tElevation\t\t\n",
    "\n",
    "    Column names\n",
    "    *************\n",
    "    # Year\tMonth\tDay\tHour\tMinute\tWspd\tTdry\tDHI\tDNI\tGHI\tAlbedo\n",
    "\n",
    "    OR\n",
    "    # Year\tMonth\tDay\tHour\tWspd\tTdry\tDHI\tDNI\tGHI\tAlbedo\n",
    "\n",
    "    \"\"\"\n",
    "\n",
    "    import pandas as pd\n",
    "\n",
    "    header = \"Source,Location ID,City,State,Country,Latitude,Longitude,Time Zone,Elevation,,,,,,,,,,\\n\" + \\\n",
    "            \"Measured,99999,Antartica,SP,World,-0, -89.99,-0,2.3,,,,,,,,,,\\n\"\n",
    "\n",
    "    if includeminute:\n",
    "        savedata = pd.DataFrame({'Year':data.index.year, 'Month':data.index.month, 'data':srrl15.index.day,\n",
    "                                 'Hour':data.index.hour, 'Minute':data.index.minute,\n",
    "                                 'Wspd':data['Avg Wind Speed @ 6ft [m/s]'],\n",
    "                                 'Tdry':data['Tower Dry Bulb Temp [deg C]'],\n",
    "                                 'DHI':data['Diffuse 8-48 (vent) [W/m^2]'],\n",
    "                                 'DNI':data['Direct CHP1-1 [W/m^2]'],\n",
    "                                 'GHI':data['Global CMP22 (vent/cor) [W/m^2]'],\n",
    "                                 'Albedo':data['Albedo (CMP11)']\n",
    "                                 })\n",
    "    else:\n",
    "         savedata = pd.DataFrame({'Year':data.index.year, 'Month':data.index.month, 'Day':data.index.day,\n",
    "                                 'Hour':data.index.hour,\n",
    "                                 'Wspd':data['Avg Wind Speed @ 6ft [m/s]'],\n",
    "                                 'Tdry':data['Tower Dry Bulb Temp [deg C]'],\n",
    "                                 'DHI':data['Diffuse 8-48 (vent) [W/m^2]'],\n",
    "                                 'DNI':data['Direct CHP1-1 [W/m^2]'],\n",
    "                                 'GHI':data['Global CMP22 (vent/cor) [W/m^2]'],\n",
    "                                 'Albedo':data['Albedo (CMP11)']\n",
    "                                 })\n",
    "    with open(savefile, 'w', newline='') as ict:\n",
    "        # Write the header lines, including the index variable for\n",
    "        # the last one if you're letting Pandas produce that for you.\n",
    "        # (see above).\n",
    "        for line in header:\n",
    "            ict.write(line)\n",
    "\n",
    "        savedata.to_csv(ict, index=False)\n",
    "\n",
    "      \n",
    "\n",
    "def new_save_TMY3(srrl15, savefile='Bifacial_TMYfileAll2019_15.csv', includeTrackerData=False):\n",
    "    \"\"\"\n",
    "    NEW Routine to save TMY3 , assuming the columns Date and Time already exist and are in the right\n",
    "    1-24 hour format. (this can be done previous to submitting to this function by\n",
    "    reading a real CSV and joining those columns)\n",
    "    \n",
    "    Saves a dataframe with weathe data from SRRL in TMY3 data format.\n",
    "    \n",
    "    if includeTrackerData is True, it will also save the tracker data column.\n",
    "    \n",
    "\n",
    "    Headers expected by TMY3:\n",
    "    ************************* \n",
    "    # Location ID\tCity\tState\tTime Zone\tLatitude\tLongitude\tElevation\n",
    "\n",
    "    Column names\n",
    "    *************\n",
    "    # Date (MM/DD/YYYY)\t\tTime (HH:MM)\tGHI (W/m^2))\tDNI (W/m^2))\tDHI (W/m^2)\t\tWspd (m/s)\t\n",
    "    Dry-bulb (C)\tAlb (unitless)\t\n",
    "\n",
    "    \"\"\"\n",
    "\n",
    "    import pandas as pd\n",
    "\n",
    "    header = \"724666, ANTARCTICA, SP, -0, -89.99,50.0, 2.3\\n\"\n",
    "\n",
    "    savedata = pd.DataFrame({'Date (MM/DD/YYYY)':srrl15['Date (MM/DD/YYYY)'],\n",
    "                             'Time (HH:MM)':srrl15['Time (HH:MM)'],\n",
    "                             'Wspd (m/s)':srrl15['windspeed'],\n",
    "                             'Dry-bulb (C)':srrl15['Tamb'],\n",
    "                             'DHI (W/m^2)':srrl15['DHI'],\n",
    "                             'DNI (W/m^2)':srrl15['DNI'],\n",
    "                             'GHI (W/m^2)':srrl15['GHI'],\n",
    "                             'Alb (unitless)':srrl15['albedo']})\n",
    "\n",
    "    if includeTrackerData:\n",
    "        savedata['Tracker Angle (degrees)'] = srrl15['Tracker Angle (degrees)']\n",
    "\n",
    "    with open(savefile, 'w', newline='') as ict:\n",
    "        # Write the header lines, including the index variable for\n",
    "        # the last one if you're letting Pandas produce that for you.\n",
    "        # (see above).\n",
    "        for line in header:\n",
    "            ict.write(line)\n",
    "\n",
    "        savedata.to_csv(ict, index=False)"
   ]
  },
  {
   "cell_type": "code",
   "execution_count": 5,
   "id": "f7edb187",
   "metadata": {},
   "outputs": [
    {
     "data": {
      "text/html": [
       "<div>\n",
       "<style scoped>\n",
       "    .dataframe tbody tr th:only-of-type {\n",
       "        vertical-align: middle;\n",
       "    }\n",
       "\n",
       "    .dataframe tbody tr th {\n",
       "        vertical-align: top;\n",
       "    }\n",
       "\n",
       "    .dataframe thead th {\n",
       "        text-align: right;\n",
       "    }\n",
       "</style>\n",
       "<table border=\"1\" class=\"dataframe\">\n",
       "  <thead>\n",
       "    <tr style=\"text-align: right;\">\n",
       "      <th></th>\n",
       "      <th>index</th>\n",
       "      <th>Date (MM/DD/YYYY)</th>\n",
       "      <th>Time (HH:MM)</th>\n",
       "      <th>ETR (W/m^2)</th>\n",
       "      <th>ETRN (W/m^2)</th>\n",
       "      <th>GHI (W/m^2)</th>\n",
       "      <th>GHI source</th>\n",
       "      <th>GHI uncert (%)</th>\n",
       "      <th>DNI (W/m^2)</th>\n",
       "      <th>DNI source</th>\n",
       "      <th>...</th>\n",
       "      <th>Alb (unitless)</th>\n",
       "      <th>Alb source</th>\n",
       "      <th>Alb uncert (code)</th>\n",
       "      <th>Lprecip depth (mm)</th>\n",
       "      <th>Lprecip quantity (hr)</th>\n",
       "      <th>Lprecip source</th>\n",
       "      <th>Lprecip uncert (code)</th>\n",
       "      <th>PresWth (METAR code)</th>\n",
       "      <th>PresWth source</th>\n",
       "      <th>PresWth uncert (code)</th>\n",
       "    </tr>\n",
       "  </thead>\n",
       "  <tbody>\n",
       "    <tr>\n",
       "      <th>0</th>\n",
       "      <td>0</td>\n",
       "      <td>01/01/1987</td>\n",
       "      <td>01:00</td>\n",
       "      <td>0</td>\n",
       "      <td>0</td>\n",
       "      <td>0</td>\n",
       "      <td>1</td>\n",
       "      <td>0</td>\n",
       "      <td>0</td>\n",
       "      <td>1</td>\n",
       "      <td>...</td>\n",
       "      <td>0.0</td>\n",
       "      <td>?</td>\n",
       "      <td>0</td>\n",
       "      <td>0</td>\n",
       "      <td>1</td>\n",
       "      <td>D</td>\n",
       "      <td>9</td>\n",
       "      <td>0</td>\n",
       "      <td>C</td>\n",
       "      <td>8</td>\n",
       "    </tr>\n",
       "    <tr>\n",
       "      <th>1</th>\n",
       "      <td>1</td>\n",
       "      <td>01/01/1987</td>\n",
       "      <td>02:00</td>\n",
       "      <td>0</td>\n",
       "      <td>0</td>\n",
       "      <td>0</td>\n",
       "      <td>1</td>\n",
       "      <td>0</td>\n",
       "      <td>0</td>\n",
       "      <td>1</td>\n",
       "      <td>...</td>\n",
       "      <td>0.0</td>\n",
       "      <td>?</td>\n",
       "      <td>0</td>\n",
       "      <td>0</td>\n",
       "      <td>1</td>\n",
       "      <td>D</td>\n",
       "      <td>9</td>\n",
       "      <td>0</td>\n",
       "      <td>C</td>\n",
       "      <td>8</td>\n",
       "    </tr>\n",
       "  </tbody>\n",
       "</table>\n",
       "<p>2 rows × 72 columns</p>\n",
       "</div>"
      ],
      "text/plain": [
       "   index Date (MM/DD/YYYY) Time (HH:MM)  ETR (W/m^2)  ETRN (W/m^2)  \\\n",
       "0      0        01/01/1987        01:00            0             0   \n",
       "1      1        01/01/1987        02:00            0             0   \n",
       "\n",
       "   GHI (W/m^2)  GHI source  GHI uncert (%)  DNI (W/m^2)  DNI source  ...  \\\n",
       "0            0           1               0            0           1  ...   \n",
       "1            0           1               0            0           1  ...   \n",
       "\n",
       "   Alb (unitless)  Alb source  Alb uncert (code)  Lprecip depth (mm)  \\\n",
       "0             0.0           ?                  0                   0   \n",
       "1             0.0           ?                  0                   0   \n",
       "\n",
       "   Lprecip quantity (hr)  Lprecip source  Lprecip uncert (code)  \\\n",
       "0                      1               D                      9   \n",
       "1                      1               D                      9   \n",
       "\n",
       "   PresWth (METAR code)  PresWth source  PresWth uncert (code)  \n",
       "0                     0               C                      8  \n",
       "1                     0               C                      8  \n",
       "\n",
       "[2 rows x 72 columns]"
      ]
     },
     "execution_count": 5,
     "metadata": {},
     "output_type": "execute_result"
    }
   ],
   "source": [
    "real_tmy=r'C:\\Users\\sayala\\Documents\\Github\\bifacialvf\\bifacialvf\\data\\724010TYA.CSV'\n",
    "real_tmy = pd.read_csv(real_tmy, skiprows = [0])\n",
    "real_tmy = real_tmy.reset_index()\n",
    "real_tmy.head(2)"
   ]
  },
  {
   "cell_type": "code",
   "execution_count": 20,
   "id": "9811b97a",
   "metadata": {},
   "outputs": [
    {
     "data": {
      "text/html": [
       "<div>\n",
       "<style scoped>\n",
       "    .dataframe tbody tr th:only-of-type {\n",
       "        vertical-align: middle;\n",
       "    }\n",
       "\n",
       "    .dataframe tbody tr th {\n",
       "        vertical-align: top;\n",
       "    }\n",
       "\n",
       "    .dataframe thead th {\n",
       "        text-align: right;\n",
       "    }\n",
       "</style>\n",
       "<table border=\"1\" class=\"dataframe\">\n",
       "  <thead>\n",
       "    <tr style=\"text-align: right;\">\n",
       "      <th></th>\n",
       "      <th>datetime</th>\n",
       "      <th>DNI</th>\n",
       "      <th>DHI</th>\n",
       "      <th>GHI</th>\n",
       "      <th>windir</th>\n",
       "      <th>windspeed</th>\n",
       "      <th>rel_hum</th>\n",
       "      <th>albedo</th>\n",
       "    </tr>\n",
       "  </thead>\n",
       "  <tbody>\n",
       "    <tr>\n",
       "      <th>0</th>\n",
       "      <td>2021-01-01 00:00:00</td>\n",
       "      <td>1046.269492</td>\n",
       "      <td>74.516949</td>\n",
       "      <td>466.494915</td>\n",
       "      <td>74.247458</td>\n",
       "      <td>2.508475</td>\n",
       "      <td>65.571186</td>\n",
       "      <td>0.837950</td>\n",
       "    </tr>\n",
       "    <tr>\n",
       "      <th>1</th>\n",
       "      <td>2021-01-01 01:00:00</td>\n",
       "      <td>1042.085000</td>\n",
       "      <td>74.356667</td>\n",
       "      <td>467.708333</td>\n",
       "      <td>74.088333</td>\n",
       "      <td>2.711667</td>\n",
       "      <td>65.161667</td>\n",
       "      <td>0.845178</td>\n",
       "    </tr>\n",
       "  </tbody>\n",
       "</table>\n",
       "</div>"
      ],
      "text/plain": [
       "             datetime          DNI        DHI         GHI     windir  \\\n",
       "0 2021-01-01 00:00:00  1046.269492  74.516949  466.494915  74.247458   \n",
       "1 2021-01-01 01:00:00  1042.085000  74.356667  467.708333  74.088333   \n",
       "\n",
       "   windspeed    rel_hum    albedo  \n",
       "0   2.508475  65.571186  0.837950  \n",
       "1   2.711667  65.161667  0.845178  "
      ]
     },
     "execution_count": 20,
     "metadata": {},
     "output_type": "execute_result"
    }
   ],
   "source": [
    "rawfile = r'South_Pole.xlsx'\n",
    "data = pd.read_excel(rawfile)\n",
    "data.head(2)"
   ]
  },
  {
   "cell_type": "code",
   "execution_count": 21,
   "id": "626f0311",
   "metadata": {},
   "outputs": [
    {
     "data": {
      "text/html": [
       "<div>\n",
       "<style scoped>\n",
       "    .dataframe tbody tr th:only-of-type {\n",
       "        vertical-align: middle;\n",
       "    }\n",
       "\n",
       "    .dataframe tbody tr th {\n",
       "        vertical-align: top;\n",
       "    }\n",
       "\n",
       "    .dataframe thead th {\n",
       "        text-align: right;\n",
       "    }\n",
       "</style>\n",
       "<table border=\"1\" class=\"dataframe\">\n",
       "  <thead>\n",
       "    <tr style=\"text-align: right;\">\n",
       "      <th></th>\n",
       "      <th>datetime</th>\n",
       "      <th>DNI</th>\n",
       "      <th>DHI</th>\n",
       "      <th>GHI</th>\n",
       "      <th>windir</th>\n",
       "      <th>windspeed</th>\n",
       "      <th>rel_hum</th>\n",
       "      <th>albedo</th>\n",
       "      <th>Date (MM/DD/YYYY)</th>\n",
       "      <th>Time (HH:MM)</th>\n",
       "      <th>Tamb</th>\n",
       "    </tr>\n",
       "  </thead>\n",
       "  <tbody>\n",
       "    <tr>\n",
       "      <th>0</th>\n",
       "      <td>2021-01-01 00:00:00</td>\n",
       "      <td>1046.269492</td>\n",
       "      <td>74.516949</td>\n",
       "      <td>466.494915</td>\n",
       "      <td>74.247458</td>\n",
       "      <td>2.508475</td>\n",
       "      <td>65.571186</td>\n",
       "      <td>0.837950</td>\n",
       "      <td>01/01/2021</td>\n",
       "      <td>01:00</td>\n",
       "      <td>0</td>\n",
       "    </tr>\n",
       "    <tr>\n",
       "      <th>1</th>\n",
       "      <td>2021-01-01 01:00:00</td>\n",
       "      <td>1042.085000</td>\n",
       "      <td>74.356667</td>\n",
       "      <td>467.708333</td>\n",
       "      <td>74.088333</td>\n",
       "      <td>2.711667</td>\n",
       "      <td>65.161667</td>\n",
       "      <td>0.845178</td>\n",
       "      <td>01/01/2021</td>\n",
       "      <td>02:00</td>\n",
       "      <td>0</td>\n",
       "    </tr>\n",
       "  </tbody>\n",
       "</table>\n",
       "</div>"
      ],
      "text/plain": [
       "             datetime          DNI        DHI         GHI     windir  \\\n",
       "0 2021-01-01 00:00:00  1046.269492  74.516949  466.494915  74.247458   \n",
       "1 2021-01-01 01:00:00  1042.085000  74.356667  467.708333  74.088333   \n",
       "\n",
       "   windspeed    rel_hum    albedo Date (MM/DD/YYYY) Time (HH:MM)  Tamb  \n",
       "0   2.508475  65.571186  0.837950        01/01/2021        01:00     0  \n",
       "1   2.711667  65.161667  0.845178        01/01/2021        02:00     0  "
      ]
     },
     "execution_count": 21,
     "metadata": {},
     "output_type": "execute_result"
    }
   ],
   "source": [
    "data['Date (MM/DD/YYYY)'] = real_tmy['Date (MM/DD/YYYY)']\n",
    "data['Time (HH:MM)'] = real_tmy['Time (HH:MM)']\n",
    "data['Date (MM/DD/YYYY)']=data['Date (MM/DD/YYYY)'].map(lambda x: str(x)[:-4])+'2021'\n",
    "data['Tamb'] = 0\n",
    "data.head(2)"
   ]
  },
  {
   "cell_type": "code",
   "execution_count": 22,
   "id": "00b355b4",
   "metadata": {},
   "outputs": [],
   "source": [
    "data.set_index(data['datetime'], inplace=True)"
   ]
  },
  {
   "cell_type": "code",
   "execution_count": 23,
   "id": "af97d7b3",
   "metadata": {},
   "outputs": [],
   "source": [
    "data.set_index(data['datetime'], inplace=True)"
   ]
  },
  {
   "cell_type": "code",
   "execution_count": 24,
   "id": "1ec4e705",
   "metadata": {},
   "outputs": [],
   "source": [
    "import matplotlib.pyplot as plt"
   ]
  },
  {
   "cell_type": "code",
   "execution_count": 25,
   "id": "223d2652",
   "metadata": {},
   "outputs": [
    {
     "data": {
      "text/plain": [
       "[<matplotlib.lines.Line2D at 0x257dad1c490>]"
      ]
     },
     "execution_count": 25,
     "metadata": {},
     "output_type": "execute_result"
    },
    {
     "data": {
      "image/png": "[encoded data removed]",
      "text/plain": [
       "<Figure size 640x480 with 1 Axes>"
      ]
     },
     "metadata": {},
     "output_type": "display_data"
    }
   ],
   "source": [
    "plt.plot(data.loc['2021-01-01 00:00:00':'2021-01-02 00:00:00']['DNI'])"
   ]
  },
  {
   "cell_type": "code",
   "execution_count": 26,
   "id": "67e1c17b",
   "metadata": {},
   "outputs": [
    {
     "data": {
      "text/plain": [
       "[<matplotlib.lines.Line2D at 0x257d8e82520>]"
      ]
     },
     "execution_count": 26,
     "metadata": {},
     "output_type": "execute_result"
    },
    {
     "data": {
      "image/png": "[encoded data removed]",
      "text/plain": [
       "<Figure size 640x480 with 1 Axes>"
      ]
     },
     "metadata": {},
     "output_type": "display_data"
    }
   ],
   "source": [
    "foo = data.loc\n",
    "plt.plot(data['DNI'])"
   ]
  },
  {
   "cell_type": "code",
   "execution_count": 27,
   "id": "78999019",
   "metadata": {},
   "outputs": [],
   "source": [
    "new_save_TMY3(data, savefile=r'SoutPole_TMY3.csv')"
   ]
  },
  {
   "cell_type": "code",
   "execution_count": null,
   "id": "73c37e74",
   "metadata": {},
   "outputs": [],
   "source": []
  }
 ],
 "metadata": {
  "kernelspec": {
   "display_name": "Python 3 (ipykernel)",
   "language": "python",
   "name": "python3"
  },
  "language_info": {
   "codemirror_mode": {
    "name": "ipython",
    "version": 3
   },
   "file_extension": ".py",
   "mimetype": "text/x-python",
   "name": "python",
   "nbconvert_exporter": "python",
   "pygments_lexer": "ipython3",
   "version": "3.9.13"
  }
 },
 "nbformat": 4,
 "nbformat_minor": 5
}

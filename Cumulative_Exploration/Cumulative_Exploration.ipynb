{
 "cells": [
  {
   "cell_type": "markdown",
   "id": "7bbecfc1",
   "metadata": {},
   "source": [
    "# 2 - WeatherFile Creation - SAM format to TMY3 format"
   ]
  },
  {
   "cell_type": "markdown",
   "id": "3c6f4725",
   "metadata": {},
   "source": [
    "bifacial_radiance worked originally with TMY3 data format "
   ]
  },
  {
   "cell_type": "code",
   "execution_count": 1,
   "id": "ea7d39f1",
   "metadata": {},
   "outputs": [
    {
     "data": {
      "text/plain": [
       "'0.4.2+154.g83c7fcf'"
      ]
     },
     "execution_count": 1,
     "metadata": {},
     "output_type": "execute_result"
    }
   ],
   "source": [
    "import os\n",
    "import numpy as np\n",
    "import pandas as pd\n",
    "from pathlib import Path\n",
    "import bifacial_radiance\n",
    "bifacial_radiance.__version__"
   ]
  },
  {
   "cell_type": "code",
   "execution_count": 2,
   "id": "fdbefcb7",
   "metadata": {},
   "outputs": [
    {
     "name": "stdout",
     "output_type": "stream",
     "text": [
      "Last run: 2023-05-04\n"
     ]
    }
   ],
   "source": [
    "from datetime import date\n",
    "\n",
    "today = date.today()\n",
    "print(\"Last run:\", today)"
   ]
  },
  {
   "cell_type": "code",
   "execution_count": 3,
   "id": "ebd97979",
   "metadata": {},
   "outputs": [],
   "source": [
    "testfolder = 'TEMP'\n",
    "if not os.path.exists(testfolder):\n",
    "    os.makedirs(testfolder)"
   ]
  },
  {
   "cell_type": "code",
   "execution_count": 4,
   "id": "05758449",
   "metadata": {},
   "outputs": [
    {
     "name": "stdout",
     "output_type": "stream",
     "text": [
      "path = TEMP\n",
      "\n",
      "Module Name: PVmod_portrait_1xgap\n",
      "Module PVmod_portrait_1xgap updated in module.json\n",
      "Pre-existing .rad file objects\\PVmod_portrait_1xgap.rad will be overwritten\n",
      "\n",
      "\n",
      "Module Name: PVmod_portrait_6modbay_2xgap\n",
      "Module PVmod_portrait_6modbay_2xgap updated in module.json\n",
      "Pre-existing .rad file objects\\PVmod_portrait_6modbay_2xgap.rad will be overwritten\n",
      "\n",
      "\n",
      "Module Name: PVmod_portrait\n",
      "Module PVmod_portrait updated in module.json\n",
      "Pre-existing .rad file objects\\PVmod_portrait.rad will be overwritten\n",
      "\n",
      "\n",
      "Module Name: PVmod_landscape\n",
      "Module PVmod_landscape updated in module.json\n",
      "Pre-existing .rad file objects\\PVmod_landscape.rad will be overwritten\n",
      "\n",
      "\n",
      "Module Name: PVmod_landscape_1xgap\n",
      "Module PVmod_landscape_1xgap updated in module.json\n",
      "Pre-existing .rad file objects\\PVmod_landscape_1xgap.rad will be overwritten\n",
      "\n",
      "\n",
      "Module Name: PVmod_landscape_4modbay_2xgap\n",
      "Module PVmod_landscape_4modbay_2xgap updated in module.json\n",
      "Pre-existing .rad file objects\\PVmod_landscape_4modbay_2xgap.rad will be overwritten\n",
      "\n"
     ]
    },
    {
     "data": {
      "text/plain": [
       "{'x': 8, 'y': 1, 'z': 0.02, 'modulematerial': 'black', 'scenex': 10.0, 'sceney': 1.0, 'scenez': 0.1, 'numpanels': 1, 'bifi': 1, 'text': '! genbox black PVmod_landscape_4modbay_2xgap 8 1 0.02 | xform -t -4.0 -0.5 0 -a 1 -t 0 1.0 0', 'modulefile': 'objects\\\\PVmod_landscape_4modbay_2xgap.rad', 'glass': False, 'offsetfromaxis': 0, 'xgap': 2.0, 'ygap': 0.0, 'zgap': 0.1}"
      ]
     },
     "execution_count": 4,
     "metadata": {},
     "output_type": "execute_result"
    }
   ],
   "source": [
    "rad_obj = bifacial_radiance.RadianceObj('Evaluation', 'TEMP')\n",
    "\n",
    "# Original Sim\n",
    "moduletype='PVmod_portrait_1xgap'\n",
    "x = 1\n",
    "y = 2\n",
    "\n",
    "rad_obj.makeModule(name=moduletype, x=x, y=y, xgap = 1.0)\n",
    "\n",
    "\n",
    "moduletype='PVmod_portrait_6modbay_2xgap'\n",
    "x = 6\n",
    "y = 2\n",
    "\n",
    "rad_obj.makeModule(name=moduletype, x=x, y=y, xgap = 2.0)\n",
    "\n",
    "\n",
    "moduletype='PVmod_portrait'\n",
    "x = 1\n",
    "y = 2\n",
    "\n",
    "rad_obj.makeModule(name=moduletype, x=x, y=y)\n",
    "\n",
    "\n",
    "moduletype='PVmod_landscape'\n",
    "x = 2\n",
    "y = 1\n",
    "\n",
    "rad_obj.makeModule(name=moduletype, x=x, y=y)\n",
    "\n",
    "\n",
    "moduletype='PVmod_landscape_1xgap'\n",
    "x = 2\n",
    "y = 1\n",
    "\n",
    "rad_obj.makeModule(name=moduletype, x=x, y=y, xgap=1.0)\n",
    "\n",
    "\n",
    "moduletype='PVmod_landscape_4modbay_2xgap'\n",
    "x = 8  # 4 modules together\n",
    "y = 1\n",
    "\n",
    "rad_obj.makeModule(name=moduletype, x=x, y=y, xgap = 2.0)\n"
   ]
  },
  {
   "cell_type": "markdown",
   "id": "85bc69d0",
   "metadata": {},
   "source": [
    "# Weather File modification"
   ]
  },
  {
   "cell_type": "code",
   "execution_count": 7,
   "id": "ca65caf7",
   "metadata": {},
   "outputs": [
    {
     "name": "stdout",
     "output_type": "stream",
     "text": [
      "Coercing year to 2021\n"
     ]
    },
    {
     "name": "stderr",
     "output_type": "stream",
     "text": [
      "C:\\ProgramData\\Anaconda3\\lib\\site-packages\\pandas\\core\\arrays\\datetimes.py:760: PerformanceWarning: Non-vectorized DateOffset being applied to Series or DatetimeIndex.\n",
      "  warnings.warn(\n"
     ]
    },
    {
     "name": "stdout",
     "output_type": "stream",
     "text": [
      "Data ends on Dec. 31st\n",
      "Saving file EPWs\\metdata_temp.csv, # points: 8760\n",
      "Calculating Sun position for Metdata that is left-labeled  with a delta of +30 mins. i.e. 12 is 12:30 sunpos.\n"
     ]
    },
    {
     "name": "stderr",
     "output_type": "stream",
     "text": [
      "C:\\Users\\sayala\\Documents\\GitHub\\pvlib-python\\pvlib\\spa.py:1200: RuntimeWarning: invalid value encountered in remainder\n",
      "  H0 = np.degrees(np.arccos(cos_arg)) % 180\n",
      "C:\\Users\\sayala\\Documents\\GitHub\\pvlib-python\\pvlib\\spa.py:1211: RuntimeWarning: invalid value encountered in remainder\n",
      "  m[1] = m[1] % 1\n",
      "C:\\Users\\sayala\\Documents\\GitHub\\pvlib-python\\pvlib\\spa.py:1212: RuntimeWarning: invalid value encountered in remainder\n",
      "  m[2] = m[2] % 1\n",
      "C:\\Users\\sayala\\Documents\\GitHub\\pvlib-python\\pvlib\\spa.py:1229: RuntimeWarning: invalid value encountered in remainder\n",
      "  Hp = (vs + lon - alpha_prime) % 360\n"
     ]
    },
    {
     "name": "stdout",
     "output_type": "stream",
     "text": [
      "Loading albedo, 1 value(s), 0.700 avg\n",
      "1 nonzero albedo values.\n",
      "Loaded  EPWs\\metdata_temp.csv\n",
      "message: There were 4065 sun up hours in this climate file\n",
      "Total Ibh/Lbh: 0.000000\n"
     ]
    },
    {
     "data": {
      "text/plain": [
       "'skies\\\\cumulative.rad'"
      ]
     },
     "execution_count": 7,
     "metadata": {},
     "output_type": "execute_result"
    }
   ],
   "source": [
    "# Read in the weather data pulled in above. \n",
    "metdata = rad_obj.readWeatherFile('../../DATA/WeatherFilesNASA/POWER_Point_Hourly_20160101_20161231_090d00S_000d00E_LT.csv', \n",
    "                               coerce_year=2021, source='sam') \n",
    "rad_obj.setGround(0.7)\n",
    "rad_obj.genCumSky() # entire year"
   ]
  },
  {
   "cell_type": "code",
   "execution_count": null,
   "id": "f7093a32",
   "metadata": {},
   "outputs": [],
   "source": [
    "for setup in range(12, 13):\n",
    "\n",
    "    if setup==0:\n",
    "        moduletype = 'PVmod_portrait_1xgap'\n",
    "        nMods = 20\n",
    "        nRows = 7\n",
    "        rtr = 8.0\n",
    "        tilt = 90\n",
    "\n",
    "    if setup==1:\n",
    "        moduletype = 'PVmod_portrait_6modbay_2xgap'\n",
    "        nMods = 5\n",
    "        nRows = 8\n",
    "        rtr = 8.0\n",
    "        tilt = 90\n",
    "        \n",
    "    if setup==2:\n",
    "        moduletype = 'PVmod_portrait'\n",
    "        nMods = 20\n",
    "        nRows = 7\n",
    "        rtr = 8.0\n",
    "        tilt = 90\n",
    "        \n",
    "    if setup==3:\n",
    "        moduletype = 'PVmod_landscape'\n",
    "        nMods = 20\n",
    "        nRows = 7\n",
    "        rtr = 8.0\n",
    "        tilt = 90\n",
    "        \n",
    "    if setup==4:\n",
    "        moduletype = 'PVmod_landscape_1xgap'\n",
    "        nMods = 20\n",
    "        nRows = 7\n",
    "        rtr = 8.0\n",
    "        tilt = 90\n",
    "        \n",
    "    if setup==5:\n",
    "        moduletype = 'PVmod_landscape_4modbay_2xgap'\n",
    "        nMods = 5\n",
    "        nRows = 8\n",
    "        rtr = 8.0\n",
    "        tilt = 90\n",
    "        \n",
    "    if setup==6:\n",
    "        moduletype = 'PVmod_portrait_1xgap'\n",
    "        nMods = 20\n",
    "        nRows = 7\n",
    "        rtr = 6.0\n",
    "        tilt = 90\n",
    "        \n",
    "    if setup==7:\n",
    "        moduletype = 'PVmod_portrait_6modbay_2xgap'\n",
    "        nMods = 5\n",
    "        nRows = 8\n",
    "        rtr = 6.0\n",
    "        tilt = 90\n",
    "        \n",
    "    if setup==8:\n",
    "        moduletype = 'PVmod_landscape_4modbay_2xgap'\n",
    "        nMods = 5\n",
    "        nRows = 8\n",
    "        rtr = 6.0\n",
    "        tilt = 90\n",
    "        \n",
    "    if setup==9:\n",
    "        moduletype = 'PVmod_portrait_1xgap'\n",
    "        nMods = 20\n",
    "        nRows = 7\n",
    "        rtr = 10.0\n",
    "        tilt = 90\n",
    "        \n",
    "    if setup==10:\n",
    "        moduletype = 'PVmod_portrait_6modbay_2xgap'\n",
    "        nMods = 5\n",
    "        nRows = 8\n",
    "        rtr = 10.0\n",
    "        tilt = 90\n",
    "        \n",
    "    if setup==11:\n",
    "        moduletype = 'PVmod_landscape_4modbay_2xgap'\n",
    "        nMods = 5\n",
    "        nRows = 8\n",
    "        rtr = 10.0\n",
    "        tilt = 90\n",
    "        \n",
    "    if setup==12:\n",
    "        moduletype = 'PVmod_portrait_1xgap'\n",
    "        nMods = 20\n",
    "        nRows = 7\n",
    "        rtr = 8.0\n",
    "        tilt = 35\n",
    "    \n",
    "    clearance_height = 0.6\n",
    "    azimuth = 180\n",
    "    sim_name = 'SETUP_'+str(setup)\n",
    "    sceneDict = {'tilt':tilt,'pitch':rtr,'clearance_height':clearance_height,'azimuth':azimuth, 'nMods': nMods, 'nRows': nRows} \n",
    "    scene = rad_obj.makeScene(module=moduletype,sceneDict=sceneDict,radname = sim_name)\n",
    "    octfile = rad_obj.makeOct()  \n",
    "    analysis = bifacial_radiance.AnalysisObj(octfile=octfile, name=sim_name, hpc=True)\n",
    "    frontscan, backscan = analysis.moduleAnalysis(scene=scene, sensorsy=12, sensorsx=1)\n",
    "    frontdict, backdict = analysis.analysis(octfile, name=sim_name+'_NS_',frontscan=frontscan, backscan=backscan)\n",
    "\n",
    "    azimuth = 90\n",
    "    sceneDict = {'tilt':tilt,'pitch':rtr,'clearance_height':clearance_height,'azimuth':azimuth, 'nMods': nMods, 'nRows': nRows} \n",
    "    scene = rad_obj.makeScene(module=moduletype,sceneDict=sceneDict,radname = sim_name)\n",
    "    octfile = rad_obj.makeOct()  \n",
    "    analysis = bifacial_radiance.AnalysisObj(octfile=octfile, name=sim_name, hpc=True)\n",
    "    frontscan, backscan = analysis.moduleAnalysis(scene=scene, sensorsy=12, sensorsx=1)\n",
    "    frontdict, backdict = analysis.analysis(octfile, name=sim_name+'_EW_',frontscan=frontscan, backscan=backscan)"
   ]
  },
  {
   "cell_type": "markdown",
   "id": "22ae176c",
   "metadata": {},
   "source": [
    "## Read results and plot"
   ]
  },
  {
   "cell_type": "code",
   "execution_count": 5,
   "id": "ea311889",
   "metadata": {},
   "outputs": [],
   "source": [
    "dir_list = os.listdir('results')\n",
    "\n",
    "setupname = []\n",
    "directionname = []\n",
    "WMfront = []\n",
    "WMback = []\n",
    "WMfrontmean = []\n",
    "WMbackmean = []\n",
    "\n",
    "for filename in dir_list:\n",
    "    data = pd.read_csv(os.path.join('results', filename))\n",
    "    setupname.append(int(filename.split('_')[2]))\n",
    "    directionname.append(filename.split('_')[3])\n",
    "    WMfront.append(list(data['Wm2Front']))\n",
    "    WMback.append(list(data['Wm2Back']))\n",
    "    WMfrontmean.append(data['Wm2Front'].mean())\n",
    "    WMbackmean.append(data['Wm2Back'].mean())"
   ]
  },
  {
   "cell_type": "code",
   "execution_count": 6,
   "id": "bc1efc73",
   "metadata": {},
   "outputs": [],
   "source": [
    "data = pd.DataFrame(zip(setupname, directionname, WMfront, WMback, WMfrontmean, WMbackmean), \n",
    "             columns=['Setup', 'Orientation', 'WMFront', 'WMBack', 'WMFrontMean', 'WMBackMean'])\n",
    "data = data.sort_values('Setup')"
   ]
  },
  {
   "cell_type": "code",
   "execution_count": 7,
   "id": "6bad3f81",
   "metadata": {},
   "outputs": [],
   "source": [
    "import matplotlib.pyplot as plt"
   ]
  },
  {
   "cell_type": "code",
   "execution_count": 8,
   "id": "42930342",
   "metadata": {},
   "outputs": [],
   "source": [
    "xs = np.arange(0, 13)"
   ]
  },
  {
   "cell_type": "code",
   "execution_count": 9,
   "id": "16f96064",
   "metadata": {},
   "outputs": [],
   "source": [
    "NFront = list(data[data['Orientation']=='NS']['WMFrontMean'])\n",
    "NBack = list(0.7*data[data['Orientation']=='NS']['WMBackMean'])\n",
    "SFront = list(0.7*data[data['Orientation']=='NS']['WMFrontMean'])\n",
    "SBack = list(data[data['Orientation']=='NS']['WMBackMean'])\n",
    "\n",
    "EFront = list(data[data['Orientation']=='EW']['WMFrontMean'])\n",
    "EBack = list(0.7*data[data['Orientation']=='EW']['WMBackMean'])\n",
    "WFront = list(0.7*data[data['Orientation']=='EW']['WMFrontMean'])\n",
    "WBack = list(data[data['Orientation']=='EW']['WMBackMean'])\n",
    "\n",
    "res = [n+nb+s+sb+e+eb+w+wb for n, nb, s, sb, e, eb, w, wb in zip(NFront, NBack, SFront, SBack, EFront, EBack, WFront, WBack)]\n",
    "norm = [float(i)/max(res) for i in res]"
   ]
  },
  {
   "cell_type": "code",
   "execution_count": 13,
   "id": "ecb70b40",
   "metadata": {},
   "outputs": [
    {
     "data": {
      "text/plain": [
       "[0.9392111817513216,\n",
       " 0.8813078431467416,\n",
       " 0.8816472650033571,\n",
       " 0.9668924262345738,\n",
       " 1.0,\n",
       " 0.9851142095229933,\n",
       " 0.8896703339799725,\n",
       " 0.7992806166233464,\n",
       " 0.939399171580361,\n",
       " 0.9728842381700317,\n",
       " 0.9386129425311928,\n",
       " 0.9989043266379694,\n",
       " 0.7451507517164951]"
      ]
     },
     "execution_count": 13,
     "metadata": {},
     "output_type": "execute_result"
    }
   ],
   "source": [
    "norm"
   ]
  },
  {
   "cell_type": "code",
   "execution_count": 10,
   "id": "ed944c93",
   "metadata": {},
   "outputs": [
    {
     "data": {
      "image/png": "[encoded data removed]",
      "text/plain": [
       "<Figure size 1000x400 with 1 Axes>"
      ]
     },
     "metadata": {},
     "output_type": "display_data"
    }
   ],
   "source": [
    "fig, ax = plt.subplots(figsize = (10,4))\n",
    "\n",
    "ax.bar(xs, norm, label='Testbed A', color=['black', 'black', 'blue', 'blue', 'blue', 'blue',\n",
    "                                          'red', 'red', 'red', 'green', 'green', 'green'])\n",
    "ax.set_ylabel('Yearly Normalized Cumulative Irradiance\\nfor the N-S-E-W arrays')\n",
    "ax.set_xlabel('Setup')\n",
    "ax.set_xticks([0,1,2,3,4,5,6,7,8,9,10,11,12])\n",
    "ax.set_xticklabels(['Baseline\\n 8m pitch','6 ModsXBay\\nPortrait','Portrait\\nNo Xgap', 'Landscape\\n No Xgap', 'Landscape\\n 1m Xgap',\n",
    "                    '4 ModsXBay\\nLandscape',\n",
    "                    'Baseline\\n 6m pitch','6 ModsXBay\\nPortrait 6m pitch', '4 ModsXBay\\nLandscape 6m pitch',\n",
    "                    'Baseline\\n 6m pitch','6 ModsXBay\\nPortrait 10m pitch', '4 ModsXBay\\nLandscape 10m pitch',\n",
    "                    'Tilted @ 30$\\degrees$\\n 8m pitch'])\n",
    "fig.autofmt_xdate(rotation=45)"
   ]
  },
  {
   "cell_type": "code",
   "execution_count": 11,
   "id": "d384bf54",
   "metadata": {},
   "outputs": [],
   "source": [
    "data.to_csv('data.csv')"
   ]
  }
 ],
 "metadata": {
  "kernelspec": {
   "display_name": "Python 3 (ipykernel)",
   "language": "python",
   "name": "python3"
  },
  "language_info": {
   "codemirror_mode": {
    "name": "ipython",
    "version": 3
   },
   "file_extension": ".py",
   "mimetype": "text/x-python",
   "name": "python",
   "nbconvert_exporter": "python",
   "pygments_lexer": "ipython3",
   "version": "3.9.13"
  }
 },
 "nbformat": 4,
 "nbformat_minor": 5
}
